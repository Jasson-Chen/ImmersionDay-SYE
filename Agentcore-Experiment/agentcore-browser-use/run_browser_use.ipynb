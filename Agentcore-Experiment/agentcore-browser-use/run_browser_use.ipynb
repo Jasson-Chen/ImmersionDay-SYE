{
 "cells": [
  {
   "cell_type": "markdown",
   "id": "cb58fb1c",
   "metadata": {},
   "source": [
    "## 初始化Bedrock Agentcore"
   ]
  },
  {
   "cell_type": "code",
   "execution_count": 4,
   "id": "d54eec00",
   "metadata": {},
   "outputs": [
    {
     "name": "stderr",
     "output_type": "stream",
     "text": [
      "Entrypoint parsed: file=/workshop/ImmersionDay-SYE/Agentcore-Experiment/agentcore-browser-use/app_reviews_agentcore_simple.py, bedrock_agentcore_name=app_reviews_agentcore_simple\n",
      "Configuring BedrockAgentCore agent: browser_use\n"
     ]
    },
    {
     "data": {
      "text/html": [
       "<pre style=\"white-space:pre;overflow-x:auto;line-height:normal;font-family:Menlo,'DejaVu Sans Mono',consolas,'Courier New',monospace\">\n",
       "<span style=\"color: #808000; text-decoration-color: #808000; font-weight: bold; text-decoration: underline\">⚠️  ℹ️  No container engine found (Docker/Finch/Podman not installed)</span>\n",
       "<span style=\"color: #808000; text-decoration-color: #808000; font-weight: bold; text-decoration: underline\">✅ Default deployment uses CodeBuild (no container engine needed)</span>\n",
       "<span style=\"color: #808000; text-decoration-color: #808000; font-weight: bold; text-decoration: underline\">💡 Run </span><span style=\"color: #008000; text-decoration-color: #008000; text-decoration: underline\">'agentcore launch'</span><span style=\"color: #808000; text-decoration-color: #808000; font-weight: bold; text-decoration: underline\"> for cloud-based building and deployment</span>\n",
       "<span style=\"color: #808000; text-decoration-color: #808000; font-weight: bold; text-decoration: underline\">💡 For local builds, install Docker, Finch, or Podman</span>\n",
       "</pre>\n"
      ],
      "text/plain": [
       "\n",
       "\u001b[1;4;33m⚠️  ℹ️  No container engine found \u001b[0m\u001b[1;4;33m(\u001b[0m\u001b[1;4;33mDocker/Finch/Podman not installed\u001b[0m\u001b[1;4;33m)\u001b[0m\n",
       "\u001b[1;4;33m✅ Default deployment uses CodeBuild \u001b[0m\u001b[1;4;33m(\u001b[0m\u001b[1;4;33mno container engine needed\u001b[0m\u001b[1;4;33m)\u001b[0m\n",
       "\u001b[1;4;33m💡 Run \u001b[0m\u001b[4;32m'agentcore launch'\u001b[0m\u001b[1;4;33m for cloud-based building and deployment\u001b[0m\n",
       "\u001b[1;4;33m💡 For local builds, install Docker, Finch, or Podman\u001b[0m\n"
      ]
     },
     "metadata": {},
     "output_type": "display_data"
    },
    {
     "data": {
      "text/html": [
       "<pre style=\"white-space:pre;overflow-x:auto;line-height:normal;font-family:Menlo,'DejaVu Sans Mono',consolas,'Courier New',monospace\">\n",
       "<span style=\"color: #808000; text-decoration-color: #808000; font-weight: bold; text-decoration: underline\">⚠️  [WARNING] Platform mismatch: Current system is </span><span style=\"color: #008000; text-decoration-color: #008000; text-decoration: underline\">'linux/amd64'</span><span style=\"color: #808000; text-decoration-color: #808000; font-weight: bold; text-decoration: underline\"> but Bedrock AgentCore requires </span><span style=\"color: #008000; text-decoration-color: #008000; text-decoration: underline\">'linux/arm64'</span><span style=\"color: #808000; text-decoration-color: #808000; font-weight: bold; text-decoration: underline\">.</span>\n",
       "<span style=\"color: #808000; text-decoration-color: #808000; font-weight: bold; text-decoration: underline\">For deployment options and workarounds, see: </span>\n",
       "<span style=\"color: #0000ff; text-decoration-color: #0000ff; text-decoration: underline\">https://docs.aws.amazon.com/bedrock-agentcore/latest/devguide/getting-started-custom.html</span>\n",
       "\n",
       "</pre>\n"
      ],
      "text/plain": [
       "\n",
       "\u001b[1;4;33m⚠️  \u001b[0m\u001b[1;4;33m[\u001b[0m\u001b[1;4;33mWARNING\u001b[0m\u001b[1;4;33m]\u001b[0m\u001b[1;4;33m Platform mismatch: Current system is \u001b[0m\u001b[4;32m'linux/amd64'\u001b[0m\u001b[1;4;33m but Bedrock AgentCore requires \u001b[0m\u001b[4;32m'linux/arm64'\u001b[0m\u001b[1;4;33m.\u001b[0m\n",
       "\u001b[1;4;33mFor deployment options and workarounds, see: \u001b[0m\n",
       "\u001b[4;94mhttps://docs.aws.amazon.com/bedrock-agentcore/latest/devguide/getting-started-custom.html\u001b[0m\n",
       "\n"
      ]
     },
     "metadata": {},
     "output_type": "display_data"
    },
    {
     "name": "stderr",
     "output_type": "stream",
     "text": [
      "Generated Dockerfile: /workshop/ImmersionDay-SYE/Agentcore-Experiment/agentcore-browser-use/Dockerfile\n",
      "Generated .dockerignore: /workshop/ImmersionDay-SYE/Agentcore-Experiment/agentcore-browser-use/.dockerignore\n",
      "Keeping 'browser_use' as default agent\n",
      "Bedrock AgentCore configured: /workshop/ImmersionDay-SYE/Agentcore-Experiment/agentcore-browser-use/.bedrock_agentcore.yaml\n"
     ]
    },
    {
     "data": {
      "text/plain": [
       "ConfigureResult(config_path=PosixPath('/workshop/ImmersionDay-SYE/Agentcore-Experiment/agentcore-browser-use/.bedrock_agentcore.yaml'), dockerfile_path=PosixPath('/workshop/ImmersionDay-SYE/Agentcore-Experiment/agentcore-browser-use/Dockerfile'), dockerignore_path=PosixPath('/workshop/ImmersionDay-SYE/Agentcore-Experiment/agentcore-browser-use/.dockerignore'), runtime='None', region='us-east-1', account_id='983760593521', execution_role=None, ecr_repository=None, auto_create_ecr=True)"
      ]
     },
     "execution_count": 4,
     "metadata": {},
     "output_type": "execute_result"
    }
   ],
   "source": [
    "from bedrock_agentcore_starter_toolkit import Runtime\n",
    "from boto3.session import Session\n",
    "import os\n",
    "\n",
    "region = os.getenv('AWS_REGION')\n",
    "boto_session = Session(region_name=region)\n",
    "\n",
    "agentcore_runtime = Runtime()\n",
    "agent_name = \"browser_use\"\n",
    "response = agentcore_runtime.configure(\n",
    "    entrypoint=\"app_reviews_agentcore_simple.py\",\n",
    "    auto_create_execution_role=True,\n",
    "    auto_create_ecr=True,\n",
    "    requirements_file=\"requirements.txt\",\n",
    "    region=region,\n",
    "    agent_name=agent_name\n",
    ")\n",
    "response"
   ]
  },
  {
   "cell_type": "markdown",
   "id": "4941414e",
   "metadata": {},
   "source": [
    "## 启动Agent"
   ]
  },
  {
   "cell_type": "code",
   "execution_count": 5,
   "id": "afd069d8",
   "metadata": {},
   "outputs": [
    {
     "name": "stderr",
     "output_type": "stream",
     "text": [
      "🚀 CodeBuild mode: building in cloud (RECOMMENDED - DEFAULT)\n",
      "   • Build ARM64 containers in the cloud with CodeBuild\n",
      "   • No local Docker required\n",
      "💡 Available deployment modes:\n",
      "   • runtime.launch()                           → CodeBuild (current)\n",
      "   • runtime.launch(local=True)                 → Local development\n",
      "   • runtime.launch(local_build=True)           → Local build + cloud deploy (NEW)\n",
      "Starting CodeBuild ARM64 deployment for agent 'browser_use' to account 983760593521 (us-east-1)\n",
      "Setting up AWS resources (ECR repository, execution roles)...\n",
      "Getting or creating ECR repository for agent: browser_use\n",
      "✅ ECR repository available: 983760593521.dkr.ecr.us-east-1.amazonaws.com/bedrock-agentcore-browser_use\n",
      "Getting or creating execution role for agent: browser_use\n",
      "Using AWS region: us-east-1, account ID: 983760593521\n",
      "Role name: AmazonBedrockAgentCoreSDKRuntime-us-east-1-816849c8f6\n",
      "✅ Reusing existing execution role: arn:aws:iam::983760593521:role/AmazonBedrockAgentCoreSDKRuntime-us-east-1-816849c8f6\n",
      "✅ Execution role available: arn:aws:iam::983760593521:role/AmazonBedrockAgentCoreSDKRuntime-us-east-1-816849c8f6\n",
      "Preparing CodeBuild project and uploading source...\n"
     ]
    },
    {
     "name": "stdout",
     "output_type": "stream",
     "text": [
      "✅ Reusing existing ECR repository: 983760593521.dkr.ecr.us-east-1.amazonaws.com/bedrock-agentcore-browser_use\n"
     ]
    },
    {
     "name": "stderr",
     "output_type": "stream",
     "text": [
      "Getting or creating CodeBuild execution role for agent: browser_use\n",
      "Role name: AmazonBedrockAgentCoreSDKCodeBuild-us-east-1-816849c8f6\n",
      "Reusing existing CodeBuild execution role: arn:aws:iam::983760593521:role/AmazonBedrockAgentCoreSDKCodeBuild-us-east-1-816849c8f6\n",
      "Using .dockerignore with 44 patterns\n",
      "Uploaded source to S3: browser_use/source.zip\n",
      "Updated CodeBuild project: bedrock-agentcore-browser_use-builder\n",
      "Starting CodeBuild build (this may take several minutes)...\n",
      "Starting CodeBuild monitoring...\n",
      "🔄 QUEUED started (total: 0s)\n",
      "✅ QUEUED completed in 1.0s\n",
      "🔄 PROVISIONING started (total: 1s)\n",
      "✅ PROVISIONING completed in 9.3s\n",
      "🔄 DOWNLOAD_SOURCE started (total: 10s)\n",
      "✅ DOWNLOAD_SOURCE completed in 2.1s\n",
      "🔄 BUILD started (total: 12s)\n",
      "✅ BUILD completed in 10.4s\n",
      "🔄 POST_BUILD started (total: 23s)\n",
      "✅ POST_BUILD completed in 5.2s\n",
      "🔄 COMPLETED started (total: 28s)\n",
      "✅ COMPLETED completed in 1.0s\n",
      "🎉 CodeBuild completed successfully in 0m 29s\n",
      "CodeBuild completed successfully\n",
      "✅ CodeBuild project configuration saved\n",
      "Deploying to Bedrock AgentCore...\n",
      "⚠️ Session ID will be reset to connect to the updated agent. The previous agent remains accessible via the original session ID: ae59a67f-ea3b-41d1-bc71-f597ebe81988\n",
      "✅ Agent created/updated: arn:aws:bedrock-agentcore:us-east-1:983760593521:runtime/browser_use-LZRX2c9IJt\n",
      "Polling for endpoint to be ready...\n",
      "Agent endpoint: arn:aws:bedrock-agentcore:us-east-1:983760593521:runtime/browser_use-LZRX2c9IJt/runtime-endpoint/DEFAULT\n",
      "Deployment completed successfully - Agent: arn:aws:bedrock-agentcore:us-east-1:983760593521:runtime/browser_use-LZRX2c9IJt\n",
      "Built with CodeBuild: bedrock-agentcore-browser_use-builder:cb8e93fd-7a73-45da-9c14-218ce53f850a\n",
      "Deployed to cloud: arn:aws:bedrock-agentcore:us-east-1:983760593521:runtime/browser_use-LZRX2c9IJt\n",
      "ECR image: 983760593521.dkr.ecr.us-east-1.amazonaws.com/bedrock-agentcore-browser_use\n",
      "🔍 Agent logs available at:\n",
      "   /aws/bedrock-agentcore/runtimes/browser_use-LZRX2c9IJt-DEFAULT\n",
      "   /aws/bedrock-agentcore/runtimes/browser_use-LZRX2c9IJt-DEFAULT --log-stream-names otel-rt-logs\n",
      "💡 Tail logs with: aws logs tail /aws/bedrock-agentcore/runtimes/browser_use-LZRX2c9IJt-DEFAULT --follow\n",
      "💡 Or view recent logs: aws logs tail /aws/bedrock-agentcore/runtimes/browser_use-LZRX2c9IJt-DEFAULT --since 1h\n"
     ]
    }
   ],
   "source": [
    "launch_result = agentcore_runtime.launch()"
   ]
  },
  {
   "cell_type": "markdown",
   "id": "43e0429e",
   "metadata": {},
   "source": [
    "## 调用Agent并查看响应结果"
   ]
  },
  {
   "cell_type": "code",
   "execution_count": null,
   "id": "2eda4947",
   "metadata": {},
   "outputs": [
    {
     "name": "stderr",
     "output_type": "stream",
     "text": [
      "Invoking BedrockAgentCore agent 'browser_use' via cloud endpoint\n"
     ]
    },
    {
     "data": {
      "text/plain": [
       "{'ResponseMetadata': {'RequestId': 'df1ea0fe-c5a9-4e5a-985f-34943dbb856b',\n",
       "  'HTTPStatusCode': 200,\n",
       "  'HTTPHeaders': {'date': 'Thu, 04 Sep 2025 01:22:49 GMT',\n",
       "   'content-type': 'application/json',\n",
       "   'transfer-encoding': 'chunked',\n",
       "   'connection': 'keep-alive',\n",
       "   'x-amzn-requestid': 'df1ea0fe-c5a9-4e5a-985f-34943dbb856b',\n",
       "   'baggage': 'Self=1-68b8e9b3-219cf4e01ad6c5e7469042fb,session.id=9a280674-271b-4e93-a272-23f1bf8bff61',\n",
       "   'x-amzn-bedrock-agentcore-runtime-session-id': '9a280674-271b-4e93-a272-23f1bf8bff61',\n",
       "   'x-amzn-trace-id': 'Root=1-68b8e9b3-264348ea6b7918915338697e;Self=1-68b8e9b3-219cf4e01ad6c5e7469042fb'},\n",
       "  'RetryAttempts': 0},\n",
       " 'runtimeSessionId': '9a280674-271b-4e93-a272-23f1bf8bff61',\n",
       " 'traceId': 'Root=1-68b8e9b3-264348ea6b7918915338697e;Self=1-68b8e9b3-219cf4e01ad6c5e7469042fb',\n",
       " 'baggage': 'Self=1-68b8e9b3-219cf4e01ad6c5e7469042fb,session.id=9a280674-271b-4e93-a272-23f1bf8bff61',\n",
       " 'contentType': 'application/json',\n",
       " 'statusCode': 200,\n",
       " 'response': [b'{\"result\": \"I\\'ll analyze these app reviews for Samsung\\'s Calculator app according to your requirements.\\\\n\\\\n# Analysis of Samsung Calculator App Reviews\\\\n\\\\n## 1. Common Issues Mentioned in Reviews\\\\n\\\\n| Issue Category | Frequency | Description |\\\\n|----------------|-----------|-------------|\\\\n| Missing Features | High | Currency converter requested by multiple users |\\\\n| Technical Bug | Medium | \\\\\"0\\\\\" always present when opening the app after update |\\\\n| Mathematical Accuracy | Medium | Incorrect calculations reported (e.g., cos(pi) value, division errors) |\\\\n| UI/UX Changes | Low | Font changes, interface complaints |\\\\n| Missing Memory Functions | Low | Lack of calculator memory functionality |\\\\n| Limited Device Compatibility | Low | Not available on non-Samsung devices (e.g., Pixel phones) |\\\\n\\\\n## 2. Review Score Distribution\\\\n\\\\nBased on the reviews provided, I\\'ve calculated the following distribution:\\\\n\\\\n| Rating | Count | Percentage |\\\\n|--------|-------|------------|\\\\n| 5 stars | 50 | 50.0% |\\\\n| 4 stars | 13',\n",
       "  b' | 13.0% |\\\\n| 3 stars | 10 | 10.0% |\\\\n| 2 stars | 5 | 5.0% |\\\\n| 1 star | 22 | 22.0% |\\\\n| **Total** | **100** | **100%** |\\\\n\\\\n## 3. Overall Sentiment Analysis\\\\n\\\\nThe Samsung Calculator app shows a polarized sentiment pattern:\\\\n\\\\n- **Positive (63%)**: A majority of users find the app functional, simple, and adequate for basic calculations. They appreciate the clean interface and easy switching between standard and scientific modes.\\\\n\\\\n- **Neutral (10%)**: Some users are satisfied with core functionality but express desire for additional features, particularly currency conversion.\\\\n\\\\n- **Negative (27%)**: Critical reviews focus on specific bugs (especially the \\\\\"0\\\\\" display issue), mathematical inaccuracies, and missing features compared to competitor calculator apps.\\\\n\\\\n## 4. Key Insights\\\\n\\\\n- The most requested feature enhancement is currency conversion\\\\n- Recent updates appear to have introduced a persistent \\\\\"0\\\\\" bug that frustrates users\\\\n- Mathematical accuracy issues are particularly concerning for a calc',\n",
       "  b'ulator app\\\\n- The app receives praise for its core functionality but is criticized for lacking more advanced features\\\\n- Some users report the app disappearing from their devices unexpectedly\\\\n\\\\nOverall, the app serves its basic purpose well but could benefit from addressing bugs and adding commonly requested features.\\\\n\\\\n---\\\\n\\\\n# \\xe4\\xb8\\x89\\xe6\\x98\\x9f\\xe8\\xae\\xa1\\xe7\\xae\\x97\\xe5\\x99\\xa8\\xe5\\xba\\x94\\xe7\\x94\\xa8\\xe8\\xaf\\x84\\xe8\\xae\\xba\\xe5\\x88\\x86\\xe6\\x9e\\x90\\\\n\\\\n## 1. \\xe8\\xaf\\x84\\xe8\\xae\\xba\\xe4\\xb8\\xad\\xe6\\x8f\\x90\\xe5\\x88\\xb0\\xe7\\x9a\\x84\\xe5\\xb8\\xb8\\xe8\\xa7\\x81\\xe9\\x97\\xae\\xe9\\xa2\\x98\\\\n\\\\n| \\xe9\\x97\\xae\\xe9\\xa2\\x98\\xe7\\xb1\\xbb\\xe5\\x88\\xab | \\xe9\\xa2\\x91\\xe7\\x8e\\x87 | \\xe6\\x8f\\x8f\\xe8\\xbf\\xb0 |\\\\n|---------|------|------|\\\\n| \\xe5\\x8a\\x9f\\xe8\\x83\\xbd\\xe7\\xbc\\xba\\xe5\\xa4\\xb1 | \\xe9\\xab\\x98 | \\xe5\\xa4\\x9a\\xe4\\xbd\\x8d\\xe7\\x94\\xa8\\xe6\\x88\\xb7\\xe8\\xa6\\x81\\xe6\\xb1\\x82\\xe5\\xa2\\x9e\\xe5\\x8a\\xa0\\xe8\\xb4\\xa7\\xe5\\xb8\\x81\\xe8\\xbd\\xac\\xe6\\x8d\\xa2\\xe5\\x8a\\x9f\\xe8\\x83\\xbd |\\\\n| \\xe6\\x8a\\x80\\xe6\\x9c\\xaf\\xe9\\x94\\x99\\xe8\\xaf\\xaf | \\xe4\\xb8\\xad | \\xe6\\x9b\\xb4\\xe6\\x96\\xb0\\xe5\\x90\\x8e\\xe6\\x89\\x93\\xe5\\xbc\\x80\\xe5\\xba\\x94\\xe7\\x94\\xa8\\xe6\\x80\\xbb\\xe6\\x98\\xaf\\xe6\\x98\\xbe\\xe7\\xa4\\xba\\\\\"0\\\\\" |\\\\n| \\xe6\\x95\\xb0\\xe5\\xad\\xa6\\xe8\\xae\\xa1\\xe7\\xae\\x97\\xe5\\x87\\x86\\xe7\\xa1\\xae\\xe6\\x80\\xa7 | \\xe4\\xb8\\xad | \\xe6\\x8a\\xa5\\xe5\\x91\\x8a\\xe8\\xae\\xa1\\xe7\\xae\\x97\\xe9\\x94\\x99\\xe8\\xaf\\xaf\\xef\\xbc\\x88\\xe4\\xbe\\x8b\\xe5\\xa6\\x82cos(pi)\\xe5\\x80\\xbc\\xe3\\x80\\x81\\xe9\\x99\\xa4\\xe6\\xb3\\x95\\xe9\\x94\\x99\\xe8\\xaf\\xaf\\xef\\xbc\\x89 |\\\\n| \\xe7\\x95\\x8c\\xe9\\x9d\\xa2/\\xe7\\x94\\xa8\\xe6\\x88\\xb7\\xe4\\xbd\\x93\\xe9\\xaa\\x8c\\xe5\\x8f\\x98\\xe5\\x8c\\x96 | \\xe4\\xbd\\x8e | \\xe5\\xad\\x97\\xe4\\xbd\\x93\\xe5\\x8f\\x98\\xe5\\x8c\\x96\\xe3\\x80\\x81\\xe7\\x95\\x8c\\xe9\\x9d\\xa2\\xe6\\x8a\\x95\\xe8\\xaf\\x89 |\\\\n| \\xe7\\xbc\\xba\\xe5\\xb0\\x91\\xe5\\x86\\x85\\xe5\\xad\\x98\\xe5\\x8a\\x9f\\xe8\\x83\\xbd | \\xe4\\xbd\\x8e | \\xe7\\xbc\\xba\\xe4\\xb9\\x8f\\xe8\\xae\\xa1\\xe7\\xae\\x97\\xe5\\x99\\xa8\\xe5\\x86\\x85\\xe5\\xad\\x98\\xe5\\x8a\\x9f\\xe8\\x83\\xbd |\\\\n| \\xe8\\xae\\xbe\\xe5\\xa4\\x87\\xe5\\x85\\xbc\\xe5\\xae\\xb9\\xe6\\x80\\xa7\\xe6\\x9c\\x89\\xe9\\x99\\x90 | \\xe4\\xbd\\x8e | \\xe4\\xb8\\x8d\\xe9\\x80\\x82\\xe7\\x94\\xa8\\xe4\\xba\\x8e\\xe9\\x9d\\x9e\\xe4\\xb8\\x89\\xe6\\x98\\x9f\\xe8\\xae\\xbe\\xe5\\xa4\\x87\\xef\\xbc\\x88\\xe5\\xa6\\x82Pixel\\xe6\\x89\\x8b\\xe6\\x9c\\xba\\xef\\xbc\\x89 |\\\\n\\\\n## 2. \\xe8\\xaf\\x84\\xe5\\x88\\x86\\xe5\\x88\\x86\\xe5\\xb8\\x83\\\\n\\\\n\\xe6\\xa0\\xb9\\xe6\\x8d\\xae\\xe6\\x8f\\x90\\xe4\\xbe\\x9b\\xe7\\x9a\\x84\\xe8\\xaf\\x84\\xe8\\xae\\xba\\xef\\xbc\\x8c\\xe8\\xae\\xa1\\xe7\\xae\\x97\\xe5\\x87\\xba\\xe4\\xbb\\xa5\\xe4\\xb8\\x8b\\xe5\\x88\\x86\\xe5\\xb8\\x83\\xef\\xbc\\x9a\\\\n\\\\n| \\xe8\\xaf\\x84\\xe5\\x88\\x86 | \\xe6\\x95\\xb0\\xe9\\x87\\x8f | \\xe7\\x99\\xbe\\xe5\\x88\\x86\\xe6\\xaf\\x94 |\\\\n|-----|',\n",
       "  b'------|-------|\\\\n| 5\\xe6\\x98\\x9f | 50 | 50.0% |\\\\n| 4\\xe6\\x98\\x9f | 13 | 13.0% |\\\\n| 3\\xe6\\x98\\x9f | 10 | 10.0% |\\\\n| 2\\xe6\\x98\\x9f | 5 | 5.0% |\\\\n| 1\\xe6\\x98\\x9f | 22 | 22.0% |\\\\n| **\\xe6\\x80\\xbb\\xe8\\xae\\xa1** | **100** | **100%** |\\\\n\\\\n## 3. \\xe6\\x95\\xb4\\xe4\\xbd\\x93\\xe6\\x83\\x85\\xe6\\x84\\x9f\\xe5\\x88\\x86\\xe6\\x9e\\x90\\\\n\\\\n\\xe4\\xb8\\x89\\xe6\\x98\\x9f\\xe8\\xae\\xa1\\xe7\\xae\\x97\\xe5\\x99\\xa8\\xe5\\xba\\x94\\xe7\\x94\\xa8\\xe6\\x98\\xbe\\xe7\\xa4\\xba\\xe5\\x87\\xba\\xe4\\xb8\\xa4\\xe6\\x9e\\x81\\xe5\\x8c\\x96\\xe7\\x9a\\x84\\xe6\\x83\\x85\\xe6\\x84\\x9f\\xe6\\xa8\\xa1\\xe5\\xbc\\x8f\\xef\\xbc\\x9a\\\\n\\\\n- **\\xe7\\xa7\\xaf\\xe6\\x9e\\x81\\xef\\xbc\\x8863%\\xef\\xbc\\x89**\\xef\\xbc\\x9a\\xe5\\xa4\\xa7\\xe5\\xa4\\x9a\\xe6\\x95\\xb0\\xe7\\x94\\xa8\\xe6\\x88\\xb7\\xe8\\xae\\xa4\\xe4\\xb8\\xba\\xe8\\xaf\\xa5\\xe5\\xba\\x94\\xe7\\x94\\xa8\\xe5\\x8a\\x9f\\xe8\\x83\\xbd\\xe5\\xae\\x9e\\xe7\\x94\\xa8\\xe3\\x80\\x81\\xe7\\xae\\x80\\xe5\\x8d\\x95\\xef\\xbc\\x8c\\xe8\\xb6\\xb3\\xe5\\xa4\\x9f\\xe8\\xbf\\x9b\\xe8\\xa1\\x8c\\xe5\\x9f\\xba\\xe6\\x9c\\xac\\xe8\\xae\\xa1\\xe7\\xae\\x97\\xe3\\x80\\x82\\xe4\\xbb\\x96\\xe4\\xbb\\xac\\xe6\\xac\\xa3\\xe8\\xb5\\x8f\\xe5\\x85\\xb6\\xe6\\xb8\\x85\\xe6\\x99\\xb0\\xe7\\x9a\\x84\\xe7\\x95\\x8c\\xe9\\x9d\\xa2\\xe5\\x92\\x8c\\xe5\\x9c\\xa8\\xe6\\xa0\\x87\\xe5\\x87\\x86\\xe5\\x92\\x8c\\xe7\\xa7\\x91\\xe5\\xad\\xa6\\xe6\\xa8\\xa1\\xe5\\xbc\\x8f\\xe4\\xb9\\x8b\\xe9\\x97\\xb4\\xe8\\xbd\\xbb\\xe6\\x9d\\xbe\\xe5\\x88\\x87\\xe6\\x8d\\xa2\\xe7\\x9a\\x84\\xe8\\x83\\xbd\\xe5\\x8a\\x9b\\xe3\\x80\\x82\\\\n\\\\n- **\\xe4\\xb8\\xad\\xe7\\xab\\x8b\\xef\\xbc\\x8810%\\xef\\xbc\\x89**\\xef\\xbc\\x9a\\xe4\\xb8\\x80\\xe4\\xba\\x9b\\xe7\\x94\\xa8\\xe6\\x88\\xb7\\xe5\\xaf\\xb9\\xe6\\xa0\\xb8\\xe5\\xbf\\x83\\xe5\\x8a\\x9f\\xe8\\x83\\xbd\\xe6\\x84\\x9f\\xe5\\x88\\xb0\\xe6\\xbb\\xa1\\xe6\\x84\\x8f\\xef\\xbc\\x8c\\xe4\\xbd\\x86\\xe8\\xa1\\xa8\\xe7\\xa4\\xba\\xe5\\xb8\\x8c\\xe6\\x9c\\x9b\\xe5\\xa2\\x9e\\xe5\\x8a\\xa0\\xe9\\xa2\\x9d\\xe5\\xa4\\x96\\xe5\\x8a\\x9f\\xe8\\x83\\xbd\\xef\\xbc\\x8c\\xe7\\x89\\xb9\\xe5\\x88\\xab\\xe6\\x98\\xaf\\xe8\\xb4\\xa7\\xe5\\xb8\\x81\\xe8\\xbd\\xac\\xe6\\x8d\\xa2\\xe3\\x80\\x82\\\\n\\\\n- **\\xe6\\xb6\\x88\\xe6\\x9e\\x81\\xef\\xbc\\x8827%\\xef\\xbc\\x89**\\xef\\xbc\\x9a\\xe8\\xb4\\x9f\\xe9\\x9d\\xa2\\xe8\\xaf\\x84\\xe8\\xae\\xba\\xe9\\x9b\\x86\\xe4\\xb8\\xad\\xe5\\x9c\\xa8\\xe7\\x89\\xb9\\xe5\\xae\\x9a\\xe9\\x94\\x99\\xe8\\xaf\\xaf\\xef\\xbc\\x88\\xe7\\x89\\xb9\\xe5\\x88\\xab\\xe6\\x98\\xaf\\\\\"0\\\\\"\\xe6\\x98\\xbe\\xe7\\xa4\\xba\\xe9\\x97\\xae\\xe9\\xa2\\x98\\xef\\xbc\\x89\\xe3\\x80\\x81\\xe6\\x95\\xb0\\xe5\\xad\\xa6\\xe8\\xae\\xa1\\xe7\\xae\\x97\\xe4\\xb8\\x8d\\xe5\\x87\\x86\\xe7\\xa1\\xae\\xef\\xbc\\x8c\\xe4\\xbb\\xa5\\xe5\\x8f\\x8a\\xe4\\xb8\\x8e\\xe7\\xab\\x9e\\xe4\\xba\\x89\\xe5\\xaf\\xb9\\xe6\\x89\\x8b\\xe8\\xae\\xa1\\xe7\\xae\\x97\\xe5\\x99\\xa8\\xe5\\xba\\x94\\xe7\\x94\\xa8\\xe7\\x9b\\xb8\\xe6\\xaf\\x94\\xe7\\xbc\\xba\\xe5\\xb0\\x91\\xe7\\x9a\\x84\\xe5\\x8a\\x9f\\xe8\\x83\\xbd\\xe3\\x80\\x82\\\\n\\\\n## 4. \\xe5\\x85\\xb3\\xe9\\x94\\xae\\xe8\\xa7\\x81\\xe8\\xa7\\xa3\\\\n\\\\n- \\xe6\\x9c\\x80\\xe5\\xa4\\x9a\\xe7\\x94\\xa8\\xe6\\x88\\xb7\\xe8\\xaf\\xb7\\xe6\\xb1\\x82\\xe7\\x9a\\x84\\xe5\\x8a\\x9f\\xe8\\x83\\xbd\\xe5\\xa2\\x9e\\xe5\\xbc\\xba\\xe6\\x98\\xaf\\xe8\\xb4\\xa7\\xe5\\xb8\\x81\\xe8\\xbd\\xac\\xe6\\x8d\\xa2\\\\n- \\xe6\\x9c\\x80\\xe8\\xbf\\x91\\xe7\\x9a\\x84\\xe6\\x9b\\xb4\\xe6\\x96\\xb0\\xe4\\xbc\\xbc\\xe4\\xb9\\x8e\\xe5\\xbc\\x95\\xe5\\x85\\xa5\\xe4\\xba\\x86\\xe4\\xb8\\x80\\xe4\\xb8\\xaa\\xe4\\xbb\\xa4\\xe7\\x94\\xa8\\xe6\\x88\\xb7\\xe6\\x84\\x9f\\xe5\\x88\\xb0\\xe7\\x83\\xa6\\xe6\\x81\\xbc\\xe7\\x9a\\x84\\xe6\\x8c\\x81\\xe7\\xbb\\xad\\\\\"0\\\\\"\\xe9\\x94\\x99\\xe8\\xaf\\xaf\\\\n- \\xe5\\xaf\\xb9\\xe4\\xba\\x8e\\xe8\\xae\\xa1\\xe7\\xae\\x97\\xe5\\x99\\xa8\\xe5\\xba\\x94\\xe7\\x94\\xa8\\xe6\\x9d\\xa5\\xe8\\xaf\\xb4\\xef\\xbc\\x8c\\xe6\\x95\\xb0\\xe5\\xad\\xa6\\xe8\\xae\\xa1\\xe7\\xae\\x97\\xe5\\x87\\x86\\xe7\\xa1\\xae\\xe6\\x80\\xa7\\xe9\\x97\\xae\\xe9\\xa2\\x98\\xe5\\xb0\\xa4\\xe5\\x85\\xb6\\xe4\\xbb\\xa4\\xe4\\xba\\xba\\xe6\\x8b\\x85\\xe5\\xbf\\xa7\\\\n- \\xe8\\xaf\\xa5\\xe5\\xba\\x94\\xe7\\x94\\xa8\\xe7\\x9a\\x84\\xe6\\xa0\\xb8\\xe5\\xbf\\x83\\xe5\\x8a\\x9f\\xe8\\x83\\xbd',\n",
       "  b'\\xe5\\x8f\\x97\\xe5\\x88\\xb0\\xe8\\xb5\\x9e\\xe8\\xb5\\x8f\\xef\\xbc\\x8c\\xe4\\xbd\\x86\\xe5\\x9b\\xa0\\xe7\\xbc\\xba\\xe4\\xb9\\x8f\\xe6\\x9b\\xb4\\xe9\\xab\\x98\\xe7\\xba\\xa7\\xe5\\x8a\\x9f\\xe8\\x83\\xbd\\xe8\\x80\\x8c\\xe5\\x8f\\x97\\xe5\\x88\\xb0\\xe6\\x89\\xb9\\xe8\\xaf\\x84\\\\n- \\xe4\\xb8\\x80\\xe4\\xba\\x9b\\xe7\\x94\\xa8\\xe6\\x88\\xb7\\xe6\\x8a\\xa5\\xe5\\x91\\x8a\\xe8\\xaf\\xa5\\xe5\\xba\\x94\\xe7\\x94\\xa8\\xe6\\x84\\x8f\\xe5\\xa4\\x96\\xe4\\xbb\\x8e\\xe8\\xae\\xbe\\xe5\\xa4\\x87\\xe4\\xb8\\xad\\xe6\\xb6\\x88\\xe5\\xa4\\xb1\\\\n\\\\n\\xe6\\x80\\xbb\\xe4\\xbd\\x93\\xe8\\x80\\x8c\\xe8\\xa8\\x80\\xef\\xbc\\x8c\\xe8\\xaf\\xa5\\xe5\\xba\\x94\\xe7\\x94\\xa8\\xe8\\x83\\xbd\\xe5\\xbe\\x88\\xe5\\xa5\\xbd\\xe5\\x9c\\xb0\\xe6\\xbb\\xa1\\xe8\\xb6\\xb3\\xe5\\x85\\xb6\\xe5\\x9f\\xba\\xe6\\x9c\\xac\\xe7\\x94\\xa8\\xe9\\x80\\x94\\xef\\xbc\\x8c\\xe4\\xbd\\x86\\xe5\\x8f\\xaf\\xe4\\xbb\\xa5\\xe9\\x80\\x9a\\xe8\\xbf\\x87\\xe8\\xa7\\xa3\\xe5\\x86\\xb3\\xe9\\x94\\x99\\xe8\\xaf\\xaf\\xe5\\x92\\x8c\\xe6\\xb7\\xbb\\xe5\\x8a\\xa0\\xe5\\xb8\\xb8\\xe8\\xa7\\x81\\xe8\\xaf\\xb7\\xe6\\xb1\\x82\\xe7\\x9a\\x84\\xe5\\x8a\\x9f\\xe8\\x83\\xbd\\xe6\\x9d\\xa5\\xe8\\x8e\\xb7\\xe5\\xbe\\x97\\xe6\\x94\\xb9\\xe8\\xbf\\x9b\\xe3\\x80\\x82\\\\n\", \"app_id\": \"The Google Play Store app ID for the app named \\'Calculator\\' is:\\\\n```\\\\ncom.sec.android.app.popupcalculator\\\\n```\\\\n\\\\nThis appears to be Samsung\\'s calculator app. Note that there might be multiple calculator apps on the Google Play Store, and this is the one that was returned by the search.\", \"app_name\": \"Calculator\", \"store\": \"Google Play\", \"country\": \"us\", \"timestamp\": \"2025-09-04T01:22:49.722698\"}']}"
      ]
     },
     "execution_count": 6,
     "metadata": {},
     "output_type": "execute_result"
    }
   ],
   "source": [
    "payload = {\n",
    "    \"app_name\": \"Calculator\",\n",
    "    \"store\": \"Google Play\",\n",
    "    \"country\": \"us\"\n",
    "}\n",
    "\n",
    "invoke_response = agentcore_runtime.invoke(payload)\n",
    "invoke_response"
   ]
  },
  {
   "cell_type": "markdown",
   "id": "b68809a7",
   "metadata": {},
   "source": [
    "## 美化响应输出"
   ]
  },
  {
   "cell_type": "code",
   "execution_count": null,
   "id": "cd11eaca",
   "metadata": {},
   "outputs": [
    {
     "data": {
      "text/markdown": [
       "I'll analyze these app reviews for Samsung's Calculator app according to your requirements.\n",
       "\n",
       "# Analysis of Samsung Calculator App Reviews\n",
       "\n",
       "## 1. Common Issues Mentioned in Reviews\n",
       "\n",
       "| Issue Category | Frequency | Description |\n",
       "|----------------|-----------|-------------|\n",
       "| Missing Features | High | Currency converter requested by multiple users |\n",
       "| Technical Bug | Medium | \"0\" always present when opening the app after update |\n",
       "| Mathematical Accuracy | Medium | Incorrect calculations reported (e.g., cos(pi) value, division errors) |\n",
       "| UI/UX Changes | Low | Font changes, interface complaints |\n",
       "| Missing Memory Functions | Low | Lack of calculator memory functionality |\n",
       "| Limited Device Compatibility | Low | Not available on non-Samsung devices (e.g., Pixel phones) |\n",
       "\n",
       "## 2. Review Score Distribution\n",
       "\n",
       "Based on the reviews provided, I've calculated the following distribution:\n",
       "\n",
       "| Rating | Count | Percentage |\n",
       "|--------|-------|------------|\n",
       "| 5 stars | 50 | 50.0% |\n",
       "| 4 stars | 13 | 13.0% |\n",
       "| 3 stars | 10 | 10.0% |\n",
       "| 2 stars | 5 | 5.0% |\n",
       "| 1 star | 22 | 22.0% |\n",
       "| **Total** | **100** | **100%** |\n",
       "\n",
       "## 3. Overall Sentiment Analysis\n",
       "\n",
       "The Samsung Calculator app shows a polarized sentiment pattern:\n",
       "\n",
       "- **Positive (63%)**: A majority of users find the app functional, simple, and adequate for basic calculations. They appreciate the clean interface and easy switching between standard and scientific modes.\n",
       "\n",
       "- **Neutral (10%)**: Some users are satisfied with core functionality but express desire for additional features, particularly currency conversion.\n",
       "\n",
       "- **Negative (27%)**: Critical reviews focus on specific bugs (especially the \"0\" display issue), mathematical inaccuracies, and missing features compared to competitor calculator apps.\n",
       "\n",
       "## 4. Key Insights\n",
       "\n",
       "- The most requested feature enhancement is currency conversion\n",
       "- Recent updates appear to have introduced a persistent \"0\" bug that frustrates users\n",
       "- Mathematical accuracy issues are particularly concerning for a calculator app\n",
       "- The app receives praise for its core functionality but is criticized for lacking more advanced features\n",
       "- Some users report the app disappearing from their devices unexpectedly\n",
       "\n",
       "Overall, the app serves its basic purpose well but could benefit from addressing bugs and adding commonly requested features.\n",
       "\n",
       "---\n",
       "\n",
       "# 三星计算器应用评论分析\n",
       "\n",
       "## 1. 评论中提到的常见问题\n",
       "\n",
       "| 问题类别 | 频率 | 描述 |\n",
       "|---------|------|------|\n",
       "| 功能缺失 | 高 | 多位用户要求增加货币转换功能 |\n",
       "| 技术错误 | 中 | 更新后打开应用总是显示\"0\" |\n",
       "| 数学计算准确性 | 中 | 报告计算错误（例如cos(pi)值、除法错误） |\n",
       "| 界面/用户体验变化 | 低 | 字体变化、界面投诉 |\n",
       "| 缺少内存功能 | 低 | 缺乏计算器内存功能 |\n",
       "| 设备兼容性有限 | 低 | 不适用于非三星设备（如Pixel手机） |\n",
       "\n",
       "## 2. 评分分布\n",
       "\n",
       "根据提供的评论，计算出以下分布：\n",
       "\n",
       "| 评分 | 数量 | 百分比 |\n",
       "|-----|------|-------|\n",
       "| 5星 | 50 | 50.0% |\n",
       "| 4星 | 13 | 13.0% |\n",
       "| 3星 | 10 | 10.0% |\n",
       "| 2星 | 5 | 5.0% |\n",
       "| 1星 | 22 | 22.0% |\n",
       "| **总计** | **100** | **100%** |\n",
       "\n",
       "## 3. 整体情感分析\n",
       "\n",
       "三星计算器应用显示出两极化的情感模式：\n",
       "\n",
       "- **积极（63%）**：大多数用户认为该应用功能实用、简单，足够进行基本计算。他们欣赏其清晰的界面和在标准和科学模式之间轻松切换的能力。\n",
       "\n",
       "- **中立（10%）**：一些用户对核心功能感到满意，但表示希望增加额外功能，特别是货币转换。\n",
       "\n",
       "- **消极（27%）**：负面评论集中在特定错误（特别是\"0\"显示问题）、数学计算不准确，以及与竞争对手计算器应用相比缺少的功能。\n",
       "\n",
       "## 4. 关键见解\n",
       "\n",
       "- 最多用户请求的功能增强是货币转换\n",
       "- 最近的更新似乎引入了一个令用户感到烦恼的持续\"0\"错误\n",
       "- 对于计算器应用来说，数学计算准确性问题尤其令人担忧\n",
       "- 该应用的核心功能受到赞赏，但因缺乏更高级功能而受到批评\n",
       "- 一些用户报告该应用意外从设备中消失\n",
       "\n",
       "总体而言，该应用能很好地满足其基本用途，但可以通过解决错误和添加常见请求的功能来获得改进。\n"
      ],
      "text/plain": [
       "<IPython.core.display.Markdown object>"
      ]
     },
     "metadata": {},
     "output_type": "display_data"
    }
   ],
   "source": [
    "from IPython.display import Markdown, display\n",
    "import json\n",
    "\n",
    "# First convert string items to bytes, then concatenate all bytes objects\n",
    "bytes_list = []\n",
    "for item in invoke_response['response']:\n",
    "    if isinstance(item, str):\n",
    "        # Convert strings to bytes\n",
    "        bytes_list.append(item.encode('utf-8'))\n",
    "    else:\n",
    "        # Keep bytes as they are\n",
    "        bytes_list.append(item)\n",
    "\n",
    "# Concatenate all bytes and then decode the combined result\n",
    "full_bytes = b''.join(bytes_list)\n",
    "full_response = full_bytes.decode('utf-8')\n",
    "\n",
    "# Parse the JSON\n",
    "response_text = json.loads(full_response)\n",
    "display(Markdown(response_text['result']))"
   ]
  }
 ],
 "metadata": {
  "kernelspec": {
   "display_name": "Python 3",
   "language": "python",
   "name": "python3"
  },
  "language_info": {
   "codemirror_mode": {
    "name": "ipython",
    "version": 3
   },
   "file_extension": ".py",
   "mimetype": "text/x-python",
   "name": "python",
   "nbconvert_exporter": "python",
   "pygments_lexer": "ipython3",
   "version": "3.10.12"
  }
 },
 "nbformat": 4,
 "nbformat_minor": 5
}
