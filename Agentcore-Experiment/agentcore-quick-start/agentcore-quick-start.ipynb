{
 "cells": [
  {
   "cell_type": "markdown",
   "id": "5c0122e65c053f38",
   "metadata": {},
   "source": [
    "# Hosting Strands Agents with Amazon Bedrock models in Amazon Bedrock AgentCore Runtime / 在 Amazon Bedrock AgentCore Runtime 中托管使用 Amazon Bedrock 模型的 Strands Agents\n",
    "\n",
    "## Overview / 概述\n",
    "\n",
    "In this tutorial we will learn how to host your existing agent, using Amazon Bedrock AgentCore Runtime. We will provide examples using Amazon Bedrock models and non-Bedrock models such as Azure OpenAI and Gemini.\n",
    "\n",
    "在本教程中，我们将学习如何使用 Amazon Bedrock AgentCore Runtime 托管您现有的代理。我们将提供使用 Amazon Bedrock 模型和非 Bedrock 模型（如 Azure OpenAI 和 Gemini）的示例。\n",
    "\n",
    "\n",
    "### Tutorial Details / 教程详情\n",
    "\n",
    "\n",
    "| Information         | Details                                                                          |\n",
    "|:--------------------|:---------------------------------------------------------------------------------|\n",
    "| Tutorial type       | Conversational                                                                   |\n",
    "| Agent type          | Single                                                                           |\n",
    "| Agentic Framework   | Strands Agents                                                                   |\n",
    "| LLM model           | Anthropic Claude Sonnet 3.7                                                        |\n",
    "| Tutorial components | Hosting agent on AgentCore Runtime. Using Strands Agent and Amazon Bedrock Model |\n",
    "| Tutorial vertical   | Cross-vertical                                                                   |\n",
    "| Example complexity  | Easy                                                                             |\n",
    "| SDK used            | Amazon BedrockAgentCore Python SDK and boto3                                     |\n",
    "\n",
    "### Tutorial Architecture / 教程架构\n",
    "\n",
    "In this tutorial we will describe how to deploy an existing agent to AgentCore runtime. \n",
    "\n",
    "For demonstration purposes, we will  use a Strands Agent using Amazon Bedrock models\n",
    "\n",
    "In our example we will use a very simple agent with two tools: `get_weather` and `get_time`. \n",
    "\n",
    "在本教程中，我们将描述如何将现有代理部署到 AgentCore 运行时。\n",
    "\n",
    "出于演示目的，我们将使用一个使用 Amazon Bedrock 模型的 Strands Agent\n",
    "\n",
    "在我们的示例中，我们将使用一个非常简单的代理，它有两个工具：`get_weather` 和 `get_time`。\n",
    "\n",
    "<img src=\"./images/architecture_runtime.png\" width=\"50%\"/>\n",
    "\n",
    "\n",
    "### Tutorial Key Features / 教程关键特性\n",
    "\n",
    "* 在 Amazon Bedrock AgentCore Runtime 上托管代理\n",
    "* 使用 Amazon Bedrock 模型\n",
    "* 使用 Strands Agents\n",
    "\n"
   ]
  },
  {
   "cell_type": "markdown",
   "id": "ca924a7a2731e26f",
   "metadata": {},
   "source": [
    "## Creating your agents and experimenting locally / 创建代理并在本地进行实验\n",
    "\n",
    "Before we deploy our agents to AgentCore Runtime, let's develop and run them locally for experimentation purposes.\n",
    "\n",
    "在将代理部署到 AgentCore Runtime 之前，让我们在本地开发和运行它们以进行实验。\n",
    "\n",
    "For production agentic applications we will need to decouple the agent creation process from the agent invocation one. With AgentCore Runtime, we will decorate the invocation part of our agent with the `@app.entrypoint` decorator and have it as the entry point for our runtime. Let's first look how each agent is developed during the experimentation phase.\n",
    "\n",
    "对于生产级代理应用程序，我们需要将代理创建过程与代理调用过程解耦。使用 AgentCore Runtime，我们将用 `@app.entrypoint` 装饰器装饰代理的调用部分，并将其作为运行时的入口点。让我们首先看看在实验阶段如何开发每个代理。\n",
    "\n",
    "The architecture here will look as following:\n",
    "\n",
    "这里的架构如下所示：\n",
    "\n",
    "<img src=\"./images/architecture_local.png\" width=\"50%\"/>\n"
   ]
  },
  {
   "cell_type": "code",
   "execution_count": null,
   "id": "b7d386ab54e85e63",
   "metadata": {},
   "outputs": [
    {
     "name": "stdout",
     "output_type": "stream",
     "text": [
      "Overwriting strands_claude.py\n"
     ]
    }
   ],
   "source": [
    "%%writefile strands_claude.py\n",
    "from strands import Agent, tool\n",
    "from strands_tools import calculator # Import the calculator tool\n",
    "import argparse\n",
    "import json\n",
    "from strands.models import BedrockModel\n",
    "\n",
    "# Create a custom tool \n",
    "@tool\n",
    "def weather():\n",
    "    \"\"\" Get weather \"\"\" # Dummy implementation\n",
    "    return \"sunny\"\n",
    "\n",
    "\n",
    "model_id = \"us.amazon.nova-pro-v1:0\"\n",
    "model = BedrockModel(\n",
    "    model_id=model_id,\n",
    ")\n",
    "agent = Agent(\n",
    "    model=model,\n",
    "    tools=[calculator, weather],\n",
    "    system_prompt=\"You're a helpful assistant. You can do simple math calculation, and tell the weather.\"\n",
    ")\n",
    "\n",
    "def strands_agent_bedrock(payload):\n",
    "    \"\"\"\n",
    "    Invoke the agent with a payload\n",
    "    \"\"\"\n",
    "    user_input = payload.get(\"prompt\")\n",
    "    response = agent(user_input)\n",
    "    return response.message['content'][0]['text']\n",
    "\n",
    "if __name__ == \"__main__\":\n",
    "    parser = argparse.ArgumentParser()\n",
    "    parser.add_argument(\"payload\", type=str)\n",
    "    args = parser.parse_args()\n",
    "    response = strands_agent_bedrock(json.loads(args.payload))"
   ]
  },
  {
   "cell_type": "markdown",
   "id": "68499675-db8d-47c6-8c0c-5d66dcb06229",
   "metadata": {},
   "source": [
    "#### Invoking local agent / 调用本地代理"
   ]
  },
  {
   "cell_type": "code",
   "execution_count": 15,
   "id": "1226d59e6b56c96",
   "metadata": {
    "ExecuteTime": {
     "end_time": "2025-06-29T21:52:06.461281Z",
     "start_time": "2025-06-29T21:52:06.456854Z"
    }
   },
   "outputs": [
    {
     "name": "stdout",
     "output_type": "stream",
     "text": [
      "I can check the current weather for you. Let me do that right away.\n",
      "Tool #1: weather\n",
      "It's currently sunny outside! Perfect weather to enjoy some time outdoors if you're able to."
     ]
    }
   ],
   "source": [
    "!python3 strands_claude.py '{\"prompt\": \"What is the weather now?\"}'"
   ]
  },
  {
   "cell_type": "markdown",
   "id": "932110e6-fca6-47b6-b7c5-c4714a866a80",
   "metadata": {},
   "source": [
    "## Preparing your agent for deployment on AgentCore Runtime / 准备在 AgentCore Runtime 上部署代理\n",
    "\n",
    "Let's now deploy our agents to AgentCore Runtime. To do so we need to:\n",
    "* Import the Runtime App with `from bedrock_agentcore.runtime import BedrockAgentCoreApp`\n",
    "* Initialize the App in our code with `app = BedrockAgentCoreApp()`\n",
    "* Decorate the invocation function with the `@app.entrypoint` decorator\n",
    "* Let AgentCoreRuntime control the running of the agent with `app.run()`\n",
    "\n",
    "现在让我们将代理部署到 AgentCore Runtime。为此我们需要：\n",
    "* 使用 `from bedrock_agentcore.runtime import BedrockAgentCoreApp` 导入 Runtime App\n",
    "* 在代码中使用 `app = BedrockAgentCoreApp()` 初始化 App\n",
    "* 使用 `@app.entrypoint` 装饰器装饰调用函数\n",
    "* 让 AgentCoreRuntime 使用 `app.run()` 控制代理的运行\n",
    "\n",
    "### Strands Agents with Amazon Bedrock model / 使用 Amazon Bedrock 模型的 Strands Agents\n",
    "Let's start with our Strands Agent using Amazon Bedrock model. All the others will work exactly the same.\n",
    "\n",
    "让我们从使用 Amazon Bedrock 模型的 Strands Agent 开始。所有其他的都将以完全相同的方式工作。"
   ]
  },
  {
   "cell_type": "code",
   "execution_count": 16,
   "id": "3b845b32-a03e-45c2-a2f0-2afba8069f47",
   "metadata": {},
   "outputs": [
    {
     "name": "stdout",
     "output_type": "stream",
     "text": [
      "Overwriting strands_claude.py\n"
     ]
    }
   ],
   "source": [
    "%%writefile strands_claude.py\n",
    "from strands import Agent, tool\n",
    "from strands_tools import calculator # Import the calculator tool\n",
    "import argparse\n",
    "import json\n",
    "from bedrock_agentcore.runtime import BedrockAgentCoreApp\n",
    "from strands.models import BedrockModel\n",
    "\n",
    "app = BedrockAgentCoreApp()\n",
    "\n",
    "# Create a custom tool \n",
    "@tool\n",
    "def weather():\n",
    "    \"\"\" Get weather \"\"\" # Dummy implementation\n",
    "    return \"sunny\"\n",
    "\n",
    "\n",
    "model_id = \"us.anthropic.claude-3-7-sonnet-20250219-v1:0\"\n",
    "model = BedrockModel(\n",
    "    model_id=model_id,\n",
    ")\n",
    "agent = Agent(\n",
    "    model=model,\n",
    "    tools=[calculator, weather],\n",
    "    system_prompt=\"You're a helpful assistant. You can do simple math calculation, and tell the weather.\"\n",
    ")\n",
    "\n",
    "@app.entrypoint\n",
    "def strands_agent_bedrock(payload):\n",
    "    \"\"\"\n",
    "    Invoke the agent with a payload\n",
    "    \"\"\"\n",
    "    user_input = payload.get(\"prompt\")\n",
    "    print(\"User input:\", user_input)\n",
    "    response = agent(user_input)\n",
    "    return response.message['content'][0]['text']\n",
    "\n",
    "if __name__ == \"__main__\":\n",
    "    app.run()"
   ]
  },
  {
   "cell_type": "markdown",
   "id": "c64db7b5-0f1b-475f-9bf2-467b4449d46a",
   "metadata": {},
   "source": [
    "## What happens behind the scenes? / 幕后发生了什么？\n",
    "\n",
    "When you use `BedrockAgentCoreApp`, it automatically:\n",
    "\n",
    "* Creates an HTTP server that listens on the port 8080\n",
    "* Implements the required `/invocations` endpoint for processing the agent's requirements\n",
    "* Implements the `/ping` endpoint for health checks (very important for asynchronous agents)\n",
    "* Handles proper content types and response formats\n",
    "* Manages error handling according to the AWS standards\n",
    "\n",
    "当您使用 `BedrockAgentCoreApp` 时，它会自动：\n",
    "\n",
    "* 创建一个监听端口 8080 的 HTTP 服务器\n",
    "* 实现处理代理需求所需的 `/invocations` 端点\n",
    "* 实现用于健康检查的 `/ping` 端点（对异步代理非常重要）\n",
    "* 处理适当的内容类型和响应格式\n",
    "* 根据 AWS 标准管理错误处理"
   ]
  },
  {
   "cell_type": "markdown",
   "id": "6820ca8f-a8a8-4f34-b4ef-b6dad3776261",
   "metadata": {},
   "source": [
    "## Deploying the agent to AgentCore Runtime / 将代理部署到 AgentCore Runtime\n",
    "\n",
    "The `CreateAgentRuntime` operation supports comprehensive configuration options, letting you specify container images, environment variables and encryption settings. You can also configure protocol settings (HTTP, MCP) and authorization mechanisms to control how your clients communicate with the agent. \n",
    "\n",
    "`CreateAgentRuntime` 操作支持全面的配置选项，让您可以指定容器镜像、环境变量和加密设置。您还可以配置协议设置（HTTP、MCP）和授权机制来控制客户端与代理的通信方式。\n",
    "\n",
    "**Note:** Operations best practice is to package code as container and push to ECR using CI/CD pipelines and IaC\n",
    "\n",
    "**注意：** 运维最佳实践是将代码打包为容器并使用 CI/CD 管道和 IaC 推送到 ECR\n",
    "\n",
    "In this tutorial can will the Amazon Bedrock AgentCore Python SDK to easily package your artifacts and deploy them to AgentCore runtime.\n",
    "\n",
    "在本教程中，我们将使用 Amazon Bedrock AgentCore Python SDK 轻松打包您的工件并将其部署到 AgentCore 运行时。"
   ]
  },
  {
   "cell_type": "markdown",
   "id": "8855aceb-b79f-4aaa-b16f-8577c059816a",
   "metadata": {},
   "source": [
    "### Configure AgentCore Runtime deployment / 配置 AgentCore Runtime 部署\n",
    "\n",
    "First we will use our starter toolkit to configure the AgentCore Runtime deployment with an entrypoint, the execution role we just created and a requirements file. We will also configure the starter kit to auto create the Amazon ECR repository on launch.\n",
    "\n",
    "首先，我们将使用启动工具包来配置 AgentCore Runtime 部署，包括入口点、我们刚创建的执行角色和需求文件。我们还将配置启动工具包在启动时自动创建 Amazon ECR 存储库。\n",
    "\n",
    "During the configure step, your docker file will be generated based on your application code\n",
    "\n",
    "在配置步骤中，将根据您的应用程序代码生成 docker 文件\n",
    "\n",
    " <img src=\"images/configure.png\" width=\"60%\"/>\n"
   ]
  },
  {
   "cell_type": "code",
   "execution_count": null,
   "id": "2e79eba2-ca59-463f-9ebf-56e362d7ae66",
   "metadata": {},
   "outputs": [
    {
     "name": "stderr",
     "output_type": "stream",
     "text": [
      "Entrypoint parsed: file=/workshop/ImmersionDay-SYE/Agentcore-Experiment/strands_claude.py, bedrock_agentcore_name=strands_claude\n",
      "Configuring BedrockAgentCore agent: strands_claude_getting_started_v2\n"
     ]
    },
    {
     "data": {
      "text/html": [
       "<pre style=\"white-space:pre;overflow-x:auto;line-height:normal;font-family:Menlo,'DejaVu Sans Mono',consolas,'Courier New',monospace\">\n",
       "<span style=\"color: #808000; text-decoration-color: #808000; font-weight: bold; text-decoration: underline\">⚠️  ℹ️  No container engine found (Docker/Finch/Podman not installed)</span>\n",
       "<span style=\"color: #808000; text-decoration-color: #808000; font-weight: bold; text-decoration: underline\">✅ Default deployment uses CodeBuild (no container engine needed)</span>\n",
       "<span style=\"color: #808000; text-decoration-color: #808000; font-weight: bold; text-decoration: underline\">💡 Run </span><span style=\"color: #008000; text-decoration-color: #008000; text-decoration: underline\">'agentcore launch'</span><span style=\"color: #808000; text-decoration-color: #808000; font-weight: bold; text-decoration: underline\"> for cloud-based building and deployment</span>\n",
       "<span style=\"color: #808000; text-decoration-color: #808000; font-weight: bold; text-decoration: underline\">💡 For local builds, install Docker, Finch, or Podman</span>\n",
       "</pre>\n"
      ],
      "text/plain": [
       "\n",
       "\u001b[1;4;33m⚠️  ℹ️  No container engine found \u001b[0m\u001b[1;4;33m(\u001b[0m\u001b[1;4;33mDocker/Finch/Podman not installed\u001b[0m\u001b[1;4;33m)\u001b[0m\n",
       "\u001b[1;4;33m✅ Default deployment uses CodeBuild \u001b[0m\u001b[1;4;33m(\u001b[0m\u001b[1;4;33mno container engine needed\u001b[0m\u001b[1;4;33m)\u001b[0m\n",
       "\u001b[1;4;33m💡 Run \u001b[0m\u001b[4;32m'agentcore launch'\u001b[0m\u001b[1;4;33m for cloud-based building and deployment\u001b[0m\n",
       "\u001b[1;4;33m💡 For local builds, install Docker, Finch, or Podman\u001b[0m\n"
      ]
     },
     "metadata": {},
     "output_type": "display_data"
    },
    {
     "data": {
      "text/html": [
       "<pre style=\"white-space:pre;overflow-x:auto;line-height:normal;font-family:Menlo,'DejaVu Sans Mono',consolas,'Courier New',monospace\">\n",
       "<span style=\"color: #808000; text-decoration-color: #808000; font-weight: bold; text-decoration: underline\">⚠️  [WARNING] Platform mismatch: Current system is </span><span style=\"color: #008000; text-decoration-color: #008000; text-decoration: underline\">'linux/amd64'</span><span style=\"color: #808000; text-decoration-color: #808000; font-weight: bold; text-decoration: underline\"> but Bedrock AgentCore requires </span><span style=\"color: #008000; text-decoration-color: #008000; text-decoration: underline\">'linux/arm64'</span><span style=\"color: #808000; text-decoration-color: #808000; font-weight: bold; text-decoration: underline\">.</span>\n",
       "<span style=\"color: #808000; text-decoration-color: #808000; font-weight: bold; text-decoration: underline\">For deployment options and workarounds, see: </span>\n",
       "<span style=\"color: #0000ff; text-decoration-color: #0000ff; text-decoration: underline\">https://docs.aws.amazon.com/bedrock-agentcore/latest/devguide/getting-started-custom.html</span>\n",
       "\n",
       "</pre>\n"
      ],
      "text/plain": [
       "\n",
       "\u001b[1;4;33m⚠️  \u001b[0m\u001b[1;4;33m[\u001b[0m\u001b[1;4;33mWARNING\u001b[0m\u001b[1;4;33m]\u001b[0m\u001b[1;4;33m Platform mismatch: Current system is \u001b[0m\u001b[4;32m'linux/amd64'\u001b[0m\u001b[1;4;33m but Bedrock AgentCore requires \u001b[0m\u001b[4;32m'linux/arm64'\u001b[0m\u001b[1;4;33m.\u001b[0m\n",
       "\u001b[1;4;33mFor deployment options and workarounds, see: \u001b[0m\n",
       "\u001b[4;94mhttps://docs.aws.amazon.com/bedrock-agentcore/latest/devguide/getting-started-custom.html\u001b[0m\n",
       "\n"
      ]
     },
     "metadata": {},
     "output_type": "display_data"
    },
    {
     "name": "stderr",
     "output_type": "stream",
     "text": [
      "Generated Dockerfile: /workshop/ImmersionDay-SYE/Agentcore-Experiment/Dockerfile\n",
      "Generated .dockerignore: /workshop/ImmersionDay-SYE/Agentcore-Experiment/.dockerignore\n",
      "Changing default agent from 'strands_claude_getting_started' to 'strands_claude_getting_started_v2'\n",
      "Bedrock AgentCore configured: /workshop/ImmersionDay-SYE/Agentcore-Experiment/.bedrock_agentcore.yaml\n"
     ]
    },
    {
     "data": {
      "text/plain": [
       "ConfigureResult(config_path=PosixPath('/workshop/ImmersionDay-SYE/Agentcore-Experiment/.bedrock_agentcore.yaml'), dockerfile_path=PosixPath('/workshop/ImmersionDay-SYE/Agentcore-Experiment/Dockerfile'), dockerignore_path=PosixPath('/workshop/ImmersionDay-SYE/Agentcore-Experiment/.dockerignore'), runtime='None', region='us-east-1', account_id='983760593521', execution_role=None, ecr_repository=None, auto_create_ecr=True)"
      ]
     },
     "execution_count": 19,
     "metadata": {},
     "output_type": "execute_result"
    }
   ],
   "source": [
    "from bedrock_agentcore_starter_toolkit import Runtime\n",
    "from boto3.session import Session\n",
    "import os\n",
    "\n",
    "region = os.getenv('AWS_REGION')\n",
    "boto_session = Session(region_name=region)\n",
    "\n",
    "agentcore_runtime = Runtime()\n",
    "agent_name = \"strands_claude_getting_started_v2\"\n",
    "response = agentcore_runtime.configure(\n",
    "    entrypoint=\"strands_claude.py\",\n",
    "    auto_create_execution_role=True,\n",
    "    auto_create_ecr=True,\n",
    "    requirements_file=\"requirements.txt\",\n",
    "    region=region,\n",
    "    agent_name=agent_name\n",
    ")\n",
    "response"
   ]
  },
  {
   "cell_type": "markdown",
   "id": "9e1b84cc-798e-472c-ac0b-2c315f4b704d",
   "metadata": {},
   "source": [
    "### Launching agent to AgentCore Runtime / 将代理启动到 AgentCore Runtime\n",
    "\n",
    "Now that we've got a docker file, let's launch the agent to the AgentCore Runtime. This will create the Amazon ECR repository and the AgentCore Runtime\n",
    "\n",
    "现在我们有了 docker 文件，让我们将代理启动到 AgentCore Runtime。这将创建 Amazon ECR 存储库和 AgentCore Runtime\n",
    "\n",
    "<img src=\"images/launch.png\" width=\"75%\"/>\n"
   ]
  },
  {
   "cell_type": "code",
   "execution_count": null,
   "id": "17a32ab8-7701-4900-8055-e24364bdf35c",
   "metadata": {},
   "outputs": [
    {
     "name": "stderr",
     "output_type": "stream",
     "text": [
      "🚀 CodeBuild mode: building in cloud (RECOMMENDED - DEFAULT)\n",
      "   • Build ARM64 containers in the cloud with CodeBuild\n",
      "   • No local Docker required\n",
      "💡 Available deployment modes:\n",
      "   • runtime.launch()                           → CodeBuild (current)\n",
      "   • runtime.launch(local=True)                 → Local development\n",
      "   • runtime.launch(local_build=True)           → Local build + cloud deploy (NEW)\n",
      "Starting CodeBuild ARM64 deployment for agent 'strands_claude_getting_started_v2' to account 983760593521 (us-east-1)\n",
      "Setting up AWS resources (ECR repository, execution roles)...\n",
      "Getting or creating ECR repository for agent: strands_claude_getting_started_v2\n",
      "✅ ECR repository available: 983760593521.dkr.ecr.us-east-1.amazonaws.com/bedrock-agentcore-strands_claude_getting_started_v2\n",
      "Getting or creating execution role for agent: strands_claude_getting_started_v2\n",
      "Using AWS region: us-east-1, account ID: 983760593521\n",
      "Role name: AmazonBedrockAgentCoreSDKRuntime-us-east-1-103201c6cb\n"
     ]
    },
    {
     "name": "stdout",
     "output_type": "stream",
     "text": [
      "Repository doesn't exist, creating new ECR repository: bedrock-agentcore-strands_claude_getting_started_v2\n"
     ]
    },
    {
     "name": "stderr",
     "output_type": "stream",
     "text": [
      "Role doesn't exist, creating new execution role: AmazonBedrockAgentCoreSDKRuntime-us-east-1-103201c6cb\n",
      "Starting execution role creation process for agent: strands_claude_getting_started_v2\n",
      "✓ Role creating: AmazonBedrockAgentCoreSDKRuntime-us-east-1-103201c6cb\n",
      "Creating IAM role: AmazonBedrockAgentCoreSDKRuntime-us-east-1-103201c6cb\n",
      "✓ Role created: arn:aws:iam::983760593521:role/AmazonBedrockAgentCoreSDKRuntime-us-east-1-103201c6cb\n",
      "✓ Execution policy attached: BedrockAgentCoreRuntimeExecutionPolicy-strands_claude_getting_started_v2\n",
      "Role creation complete and ready for use with Bedrock AgentCore\n",
      "✅ Execution role available: arn:aws:iam::983760593521:role/AmazonBedrockAgentCoreSDKRuntime-us-east-1-103201c6cb\n",
      "Preparing CodeBuild project and uploading source...\n",
      "Getting or creating CodeBuild execution role for agent: strands_claude_getting_started_v2\n",
      "Role name: AmazonBedrockAgentCoreSDKCodeBuild-us-east-1-103201c6cb\n",
      "CodeBuild role doesn't exist, creating new role: AmazonBedrockAgentCoreSDKCodeBuild-us-east-1-103201c6cb\n",
      "Creating IAM role: AmazonBedrockAgentCoreSDKCodeBuild-us-east-1-103201c6cb\n",
      "✓ Role created: arn:aws:iam::983760593521:role/AmazonBedrockAgentCoreSDKCodeBuild-us-east-1-103201c6cb\n",
      "Attaching inline policy: CodeBuildExecutionPolicy to role: AmazonBedrockAgentCoreSDKCodeBuild-us-east-1-103201c6cb\n",
      "✓ Policy attached: CodeBuildExecutionPolicy\n",
      "Waiting for IAM role propagation...\n",
      "CodeBuild execution role creation complete: arn:aws:iam::983760593521:role/AmazonBedrockAgentCoreSDKCodeBuild-us-east-1-103201c6cb\n",
      "Using .dockerignore with 44 patterns\n",
      "Uploaded source to S3: strands_claude_getting_started_v2/source.zip\n",
      "Created CodeBuild project: bedrock-agentcore-strands_claude_getting_started_v2-builder\n",
      "Starting CodeBuild build (this may take several minutes)...\n",
      "Starting CodeBuild monitoring...\n",
      "🔄 QUEUED started (total: 0s)\n",
      "✅ QUEUED completed in 1.0s\n",
      "🔄 PROVISIONING started (total: 1s)\n",
      "✅ PROVISIONING completed in 10.4s\n",
      "🔄 DOWNLOAD_SOURCE started (total: 11s)\n",
      "✅ DOWNLOAD_SOURCE completed in 2.1s\n",
      "🔄 BUILD started (total: 14s)\n",
      "✅ BUILD completed in 15.6s\n",
      "🔄 POST_BUILD started (total: 29s)\n",
      "✅ POST_BUILD completed in 11.5s\n",
      "🔄 COMPLETED started (total: 41s)\n",
      "✅ COMPLETED completed in 1.0s\n",
      "🎉 CodeBuild completed successfully in 0m 41s\n",
      "CodeBuild completed successfully\n",
      "✅ CodeBuild project configuration saved\n",
      "Deploying to Bedrock AgentCore...\n",
      "✅ Agent created/updated: arn:aws:bedrock-agentcore:us-east-1:983760593521:runtime/strands_claude_getting_started_v2-j3S16P3fYV\n",
      "Polling for endpoint to be ready...\n",
      "Agent endpoint: arn:aws:bedrock-agentcore:us-east-1:983760593521:runtime/strands_claude_getting_started_v2-j3S16P3fYV/runtime-endpoint/DEFAULT\n",
      "Deployment completed successfully - Agent: arn:aws:bedrock-agentcore:us-east-1:983760593521:runtime/strands_claude_getting_started_v2-j3S16P3fYV\n",
      "Built with CodeBuild: bedrock-agentcore-strands_claude_getting_started_v2-builder:9bf6efdf-e72d-4b0a-8af1-ef651a14f4da\n",
      "Deployed to cloud: arn:aws:bedrock-agentcore:us-east-1:983760593521:runtime/strands_claude_getting_started_v2-j3S16P3fYV\n",
      "ECR image: 983760593521.dkr.ecr.us-east-1.amazonaws.com/bedrock-agentcore-strands_claude_getting_started_v2\n",
      "🔍 Agent logs available at:\n",
      "   /aws/bedrock-agentcore/runtimes/strands_claude_getting_started_v2-j3S16P3fYV-DEFAULT\n",
      "   /aws/bedrock-agentcore/runtimes/strands_claude_getting_started_v2-j3S16P3fYV-DEFAULT --log-stream-names otel-rt-logs\n",
      "💡 Tail logs with: aws logs tail /aws/bedrock-agentcore/runtimes/strands_claude_getting_started_v2-j3S16P3fYV-DEFAULT --follow\n",
      "💡 Or view recent logs: aws logs tail /aws/bedrock-agentcore/runtimes/strands_claude_getting_started_v2-j3S16P3fYV-DEFAULT --since 1h\n"
     ]
    }
   ],
   "source": [
    "launch_result = agentcore_runtime.launch()"
   ]
  },
  {
   "cell_type": "markdown",
   "id": "a0ae9c09-09db-4a76-871a-92eacd96b9c3",
   "metadata": {},
   "source": [
    "### Checking for the AgentCore Runtime Status / 检查 AgentCore Runtime 状态\n",
    "Now that we've deployed the AgentCore Runtime, let's check for it's deployment status\n",
    "\n",
    "现在我们已经部署了 AgentCore Runtime，让我们检查其部署状态"
   ]
  },
  {
   "cell_type": "code",
   "execution_count": 21,
   "id": "afa6ac09-9adb-4846-9fc1-4d12aeb74853",
   "metadata": {},
   "outputs": [
    {
     "name": "stderr",
     "output_type": "stream",
     "text": [
      "Retrieved Bedrock AgentCore status for: strands_claude_getting_started_v2\n"
     ]
    },
    {
     "data": {
      "text/plain": [
       "'READY'"
      ]
     },
     "execution_count": 21,
     "metadata": {},
     "output_type": "execute_result"
    }
   ],
   "source": [
    "import time\n",
    "status_response = agentcore_runtime.status()\n",
    "status = status_response.endpoint['status']\n",
    "end_status = ['READY', 'CREATE_FAILED', 'DELETE_FAILED', 'UPDATE_FAILED']\n",
    "while status not in end_status:\n",
    "    time.sleep(10)\n",
    "    status_response = agentcore_runtime.status()\n",
    "    status = status_response.endpoint['status']\n",
    "    print(status)\n",
    "status"
   ]
  },
  {
   "cell_type": "markdown",
   "id": "b7f89c56-918a-4cab-beaa-c7ac43a2ba29",
   "metadata": {},
   "source": [
    "### Invoking AgentCore Runtime / 调用 AgentCore Runtime\n",
    "\n",
    "Finally, we can invoke our AgentCore Runtime with a payload\n",
    "\n",
    "最后，我们可以使用有效负载调用我们的 AgentCore Runtime\n",
    "\n",
    "<img src=\"./images/invoke.png\" width=\"75%\"/>\n"
   ]
  },
  {
   "cell_type": "code",
   "execution_count": 22,
   "id": "3d909e42-e1a0-407f-84c2-3d16cc889cd3",
   "metadata": {},
   "outputs": [
    {
     "name": "stderr",
     "output_type": "stream",
     "text": [
      "Invoking BedrockAgentCore agent 'strands_claude_getting_started_v2' via cloud endpoint\n"
     ]
    },
    {
     "data": {
      "text/plain": [
       "{'ResponseMetadata': {'RequestId': 'a9f9d901-d6a5-48ce-80de-0dcb628fb7d7',\n",
       "  'HTTPStatusCode': 200,\n",
       "  'HTTPHeaders': {'date': 'Thu, 04 Sep 2025 00:34:59 GMT',\n",
       "   'content-type': 'application/json',\n",
       "   'transfer-encoding': 'chunked',\n",
       "   'connection': 'keep-alive',\n",
       "   'x-amzn-requestid': 'a9f9d901-d6a5-48ce-80de-0dcb628fb7d7',\n",
       "   'baggage': 'Self=1-68b8dea7-74ac324949d2faa903cc18e0,session.id=cbcc5c75-062f-4cf7-a192-9886a6036cd3',\n",
       "   'x-amzn-bedrock-agentcore-runtime-session-id': 'cbcc5c75-062f-4cf7-a192-9886a6036cd3',\n",
       "   'x-amzn-trace-id': 'Root=1-68b8dea7-0cf0a44241253c54291857bc;Self=1-68b8dea7-74ac324949d2faa903cc18e0'},\n",
       "  'RetryAttempts': 0},\n",
       " 'runtimeSessionId': 'cbcc5c75-062f-4cf7-a192-9886a6036cd3',\n",
       " 'traceId': 'Root=1-68b8dea7-0cf0a44241253c54291857bc;Self=1-68b8dea7-74ac324949d2faa903cc18e0',\n",
       " 'baggage': 'Self=1-68b8dea7-74ac324949d2faa903cc18e0,session.id=cbcc5c75-062f-4cf7-a192-9886a6036cd3',\n",
       " 'contentType': 'application/json',\n",
       " 'statusCode': 200,\n",
       " 'response': [b'\"The weather is currently sunny! It\\'s a beautiful day outside.\"']}"
      ]
     },
     "execution_count": 22,
     "metadata": {},
     "output_type": "execute_result"
    }
   ],
   "source": [
    "invoke_response = agentcore_runtime.invoke({\"prompt\": \"How is the weather now?\"})\n",
    "invoke_response"
   ]
  },
  {
   "cell_type": "markdown",
   "id": "fefa09f2-d25a-483f-aedb-11690bb8923a",
   "metadata": {},
   "source": [
    "### Processing invocation results / 处理调用结果\n",
    "\n",
    "We can now process our invocation results to include it in an application\n",
    "\n",
    "现在我们可以处理调用结果以将其包含在应用程序中"
   ]
  },
  {
   "cell_type": "code",
   "execution_count": 26,
   "id": "11249103-cfb3-47b5-970d-981a977a225a",
   "metadata": {},
   "outputs": [
    {
     "data": {
      "text/markdown": [
       "**The weather is currently sunny! It's a beautiful day outside.**"
      ],
      "text/plain": [
       "<IPython.core.display.Markdown object>"
      ]
     },
     "metadata": {},
     "output_type": "display_data"
    }
   ],
   "source": [
    "from IPython.display import Markdown, display\n",
    "import json\n",
    "response_text = json.loads(invoke_response['response'][0].decode(\"utf-8\"))\n",
    "display(Markdown(f'**{response_text}**'))"
   ]
  },
  {
   "cell_type": "markdown",
   "id": "2c1d2bce-be41-478c-8bed-b4037c385795",
   "metadata": {},
   "source": [
    "### Invoking AgentCore Runtime with boto3 / 使用 boto3 调用 AgentCore Runtime\n",
    "\n",
    "Now that your AgentCore Runtime was created you can invoke it with any AWS SDK. For instance, you can use the boto3 `invoke_agent_runtime` method for it.\n",
    "\n",
    "现在您的 AgentCore Runtime 已创建，您可以使用任何 AWS SDK 调用它。例如，您可以使用 boto3 的 `invoke_agent_runtime` 方法。"
   ]
  },
  {
   "cell_type": "code",
   "execution_count": 27,
   "id": "7f84e68d-6c04-41b9-bf5b-60edc3fa0985",
   "metadata": {},
   "outputs": [
    {
     "data": {
      "text/markdown": [
       "The answer to 2+2 is 4."
      ],
      "text/plain": [
       "<IPython.core.display.Markdown object>"
      ]
     },
     "metadata": {},
     "output_type": "display_data"
    }
   ],
   "source": [
    "import boto3\n",
    "agent_arn = launch_result.agent_arn\n",
    "agentcore_client = boto3.client(\n",
    "    'bedrock-agentcore',\n",
    "    region_name=region\n",
    ")\n",
    "\n",
    "boto3_response = agentcore_client.invoke_agent_runtime(\n",
    "    agentRuntimeArn=agent_arn,\n",
    "    qualifier=\"DEFAULT\",\n",
    "    payload=json.dumps({\"prompt\": \"What is 2+2?\"})\n",
    ")\n",
    "if \"text/event-stream\" in boto3_response.get(\"contentType\", \"\"):\n",
    "    content = []\n",
    "    for line in boto3_response[\"response\"].iter_lines(chunk_size=1):\n",
    "        if line:\n",
    "            line = line.decode(\"utf-8\")\n",
    "            if line.startswith(\"data: \"):\n",
    "                line = line[6:]\n",
    "                print(line)\n",
    "                content.append(line)\n",
    "    display(Markdown(\"\\n\".join(content)))\n",
    "else:\n",
    "    try:\n",
    "        events = []\n",
    "        for event in boto3_response.get(\"response\", []):\n",
    "            events.append(event)\n",
    "    except Exception as e:\n",
    "        events = [f\"Error reading EventStream: {e}\"]\n",
    "    display(Markdown(json.loads(events[0].decode(\"utf-8\"))))"
   ]
  },
  {
   "cell_type": "markdown",
   "id": "7d3fdfe404469632",
   "metadata": {},
   "source": [
    "## Cleanup (Optional) / 清理（可选）\n",
    "\n",
    "Let's now clean up the AgentCore Runtime created\n",
    "\n",
    "现在让我们清理创建的 AgentCore Runtime"
   ]
  },
  {
   "cell_type": "code",
   "execution_count": 28,
   "id": "7c243e86-a214-483c-aef1-d5243f28ca9e",
   "metadata": {},
   "outputs": [
    {
     "data": {
      "text/plain": [
       "('983760593521.dkr.ecr.us-east-1.amazonaws.com/bedrock-agentcore-strands_claude_getting_started_v2',\n",
       " 'strands_claude_getting_started_v2-j3S16P3fYV',\n",
       " 'bedrock-agentcore-strands_claude_getting_started_v2')"
      ]
     },
     "execution_count": 28,
     "metadata": {},
     "output_type": "execute_result"
    }
   ],
   "source": [
    "launch_result.ecr_uri, launch_result.agent_id, launch_result.ecr_uri.split('/')[1]"
   ]
  },
  {
   "cell_type": "code",
   "execution_count": 29,
   "id": "76a6cf1416830a54",
   "metadata": {},
   "outputs": [],
   "source": [
    "agentcore_control_client = boto3.client(\n",
    "    'bedrock-agentcore-control',\n",
    "    region_name=region\n",
    ")\n",
    "ecr_client = boto3.client(\n",
    "    'ecr',\n",
    "    region_name=region\n",
    "    \n",
    ")\n",
    "\n",
    "runtime_delete_response = agentcore_control_client.delete_agent_runtime(\n",
    "    agentRuntimeId=launch_result.agent_id,\n",
    "    \n",
    ")\n",
    "\n",
    "response = ecr_client.delete_repository(\n",
    "    repositoryName=launch_result.ecr_uri.split('/')[1],\n",
    "    force=True\n",
    ")"
   ]
  },
  {
   "cell_type": "markdown",
   "id": "b118ad38-feeb-4d1d-9d57-e5c845becc56",
   "metadata": {},
   "source": [
    "# Congratulations! / 恭喜！"
   ]
  }
 ],
 "metadata": {
  "kernelspec": {
   "display_name": "Python 3",
   "language": "python",
   "name": "python3"
  },
  "language_info": {
   "codemirror_mode": {
    "name": "ipython",
    "version": 3
   },
   "file_extension": ".py",
   "mimetype": "text/x-python",
   "name": "python",
   "nbconvert_exporter": "python",
   "pygments_lexer": "ipython3",
   "version": "3.10.12"
  }
 },
 "nbformat": 4,
 "nbformat_minor": 5
}
