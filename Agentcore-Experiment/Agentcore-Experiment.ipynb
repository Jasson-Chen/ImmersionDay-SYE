{
 "cells": [
  {
   "cell_type": "code",
   "execution_count": 1,
   "id": "f8145c0a",
   "metadata": {},
   "outputs": [
    {
     "name": "stdout",
     "output_type": "stream",
     "text": [
      "\u001b[32mINFO\u001b[0m:     Started server process [\u001b[36m67316\u001b[0m]\n",
      "\u001b[32mINFO\u001b[0m:     Waiting for application startup.\n",
      "\u001b[32mINFO\u001b[0m:     Application startup complete.\n",
      "\u001b[31mERROR\u001b[0m:    [Errno 98] error while attempting to bind on address ('127.0.0.1', 8080): address already in use\n",
      "\u001b[32mINFO\u001b[0m:     Waiting for application shutdown.\n",
      "\u001b[32mINFO\u001b[0m:     Application shutdown complete.\n"
     ]
    }
   ],
   "source": [
    "# !lsof -ti:8080 | xargs kill -9\n",
    "!python3 my_agent.py"
   ]
  },
  {
   "cell_type": "code",
   "execution_count": null,
   "id": "fb542c49",
   "metadata": {},
   "outputs": [
    {
     "name": "stdout",
     "output_type": "stream",
     "text": [
      "\u001b[36mConfiguring Bedrock AgentCore\u001b[0m\u001b[36m...\u001b[0m\n",
      "Entrypoint parsed: file=/workshop/ImmersionDay-SYE/Agentcore-Experiment/my_agent.py, bedrock_agentcore_name=my_agent\n",
      "\u001b[2mAgent name: my_agent\u001b[0m\n",
      "\n",
      "🔐 \u001b[36mExecution Role\u001b[0m\n",
      "\u001b[2mPress Enter to auto-create execution role, or provide execution role ARN/name to\u001b[0m\n",
      "\u001b[2muse existing\u001b[0m\n",
      "\u001b[?12l\u001b[?25h\u001b[6n\u001b[?2004h\u001b[?1l\u001b[?25l\u001b[0m\u001b[?7l\u001b[0m\u001b[J\u001b[0mExecution role ARN/name (or press Enter to auto-create):\u001b[56D\u001b[57C\u001b[?7h\u001b[0m\u001b[?12l\u001b[?25h\u001b[57D\u001b[J\u001b[0m\u001b[?7h\u001b[?2004lWARNING: your terminal doesn't support cursor position requests (CPR).\n",
      "\u001b[0mC 4h\u001b[?25l\u001b[0m\u001b[?7l\u001b[0m\u001b[J\u001b[0mExecution role ARN/name (or press Enter to auto-create):\u001b[56D\u001b[57C\u001b[?7h\u001b[0m\u001b[?12l\u001b[?25h\u001b[?25l\u001b[?7l\u001b[57D\u001b[0m\u001b[J\u001b[0;38;5;102mExecution role ARN/name (or press Enter to auto-create):                       \n",
      "\u001b[J\u001b[?7h\u001b[0m\u001b[?12l\u001b[?25h\u001b[?2004l^C\n",
      "\u001b[36m🚀 Launching Bedrock AgentCore \u001b[0m\u001b[1;36m(\u001b[0m\u001b[36mcodebuild mode - RECOMMENDED\u001b[0m\u001b[1;36m)\u001b[0m\u001b[36m...\u001b[0m\n",
      "\u001b[2m   • Build ARM64 containers in the cloud with CodeBuild\u001b[0m\n",
      "\u001b[2m   • No local Docker required \u001b[0m\u001b[1;2m(\u001b[0m\u001b[2mDEFAULT behavior\u001b[0m\u001b[1;2m)\u001b[0m\n",
      "\u001b[2m   • Production-ready deployment\u001b[0m\n",
      "\n",
      "\u001b[2m💡 Deployment options:\u001b[0m\n",
      "\u001b[2m   • agentcore launch                → CodeBuild \u001b[0m\u001b[1;2m(\u001b[0m\u001b[2mcurrent\u001b[0m\u001b[1;2m)\u001b[0m\n",
      "\u001b[2m   • agentcore launch --local        → Local development\u001b[0m\n",
      "\u001b[2m   • agentcore launch --local-build  → Local build + cloud deploy\u001b[0m\n",
      "\n",
      "\u001b[?25lStarting CodeBuild ARM64 deployment for agent 'my_agent' to account 983760593521 (us-west-2)\n",
      "Setting up AWS resources (ECR repository, execution roles)...\n",
      "Getting or creating ECR repository for agent: my_agent\n",
      "\u001b[2K✅ Reusing existing ECR repository: entCore...\u001b[0m\n",
      "983760593521.dkr.ecr.us-west-2.amazonaws.com/bedrock-agentcore-my_agent\n",
      "\u001b[32m⠼\u001b[0m \u001b[1mLaunching Bedrock AgentCore...\u001b[0m✅ ECR repository available: 983760593521.dkr.ecr.us-west-2.amazonaws.com/bedrock-agentcore-my_agent\n",
      "Getting or creating execution role for agent: my_agent\n",
      "\u001b[2K\u001b[32m⠴\u001b[0m \u001b[1mLaunching Bedrock AgentCore...\u001b[0mUsing AWS region: us-west-2, account ID: 983760593521\n",
      "Role name: AmazonBedrockAgentCoreSDKRuntime-us-west-2-e72c1a7c7a\n",
      "\u001b[2K\u001b[32m⠦\u001b[0m \u001b[1mLaunching Bedrock AgentCore...\u001b[0m✅ Reusing existing execution role: arn:aws:iam::983760593521:role/AmazonBedrockAgentCoreSDKRuntime-us-west-2-e72c1a7c7a\n",
      "\u001b[2K\u001b[32m⠧\u001b[0m \u001b[1mLaunching Bedrock AgentCore...\u001b[0m✅ Execution role available: arn:aws:iam::983760593521:role/AmazonBedrockAgentCoreSDKRuntime-us-west-2-e72c1a7c7a\n",
      "Preparing CodeBuild project and uploading source...\n",
      "\u001b[2K\u001b[32m⠇\u001b[0m \u001b[1mLaunching Bedrock AgentCore...\u001b[0mGetting or creating CodeBuild execution role for agent: my_agent\n",
      "Role name: AmazonBedrockAgentCoreSDKCodeBuild-us-west-2-e72c1a7c7a\n",
      "\u001b[2K\u001b[32m⠏\u001b[0m \u001b[1mLaunching Bedrock AgentCore...\u001b[0mReusing existing CodeBuild execution role: arn:aws:iam::983760593521:role/AmazonBedrockAgentCoreSDKCodeBuild-us-west-2-e72c1a7c7a\n",
      "\u001b[2K\u001b[32m⠧\u001b[0m \u001b[1mLaunching Bedrock AgentCore...\u001b[0mUsing .dockerignore with 44 patterns\n",
      "\u001b[2K\u001b[32m⠇\u001b[0m \u001b[1mLaunching Bedrock AgentCore...\u001b[0mUploaded source to S3: my_agent/source.zip\n",
      "\u001b[2K\u001b[32m⠹\u001b[0m \u001b[1mLaunching Bedrock AgentCore...\u001b[0mUpdated CodeBuild project: bedrock-agentcore-my_agent-builder\n",
      "Starting CodeBuild build (this may take several minutes)...\n",
      "\u001b[2K\u001b[32m⠴\u001b[0m \u001b[1mLaunching Bedrock AgentCore...\u001b[0mStarting CodeBuild monitoring...\n",
      "\u001b[2K\u001b[32m⠦\u001b[0m \u001b[1mLaunching Bedrock AgentCore...\u001b[0m🔄 QUEUED started (total: 0s)\n",
      "\u001b[2K\u001b[32m⠏\u001b[0m \u001b[1mLaunching Bedrock AgentCore...\u001b[0m✅ QUEUED completed in 1.1s\n",
      "🔄 PROVISIONING started (total: 1s)\n",
      "\u001b[2K\u001b[32m⠹\u001b[0m \u001b[1mLaunching Bedrock AgentCore...\u001b[0m✅ PROVISIONING completed in 9.8s\n",
      "🔄 DOWNLOAD_SOURCE started (total: 11s)\n",
      "\u001b[2K\u001b[32m⠧\u001b[0m \u001b[1mLaunching Bedrock AgentCore...\u001b[0m\n",
      "\u001b[1A\u001b[2K^C\n",
      "\u001b[1mPayload:\u001b[0m\n",
      "\u001b[97;49m{\u001b[0m\n",
      "\u001b[97;49m  \u001b[0m\u001b[91;49m\"prompt\"\u001b[0m\u001b[97;49m:\u001b[0m\u001b[97;49m \u001b[0m\u001b[93;49m\"tell me a joke\"\u001b[0m\n",
      "\u001b[97;49m}\u001b[0m\n",
      "Invoking BedrockAgentCore agent 'my_agent' via cloud endpoint\n",
      "\u001b[31m❌ Invocation failed: An error occurred \u001b[0m\u001b[1;31m(\u001b[0m\u001b[31mRuntimeClientError\u001b[0m\u001b[1;31m)\u001b[0m\u001b[31m when calling the \u001b[0m\n",
      "\u001b[31mInvokeAgentRuntime operation: Received error \u001b[0m\u001b[1;31m(\u001b[0m\u001b[1;31m500\u001b[0m\u001b[1;31m)\u001b[0m\u001b[31m from runtime. Please check \u001b[0m\n",
      "\u001b[31myour CloudWatch logs for more information.\u001b[0m\n"
     ]
    }
   ],
   "source": [
    "# Configure and deploy (auto-creates all required resources)\n",
    "!\n",
    "\n",
    "!agentcore launch\n",
    "\n",
    "# Test your deployed agent\n",
    "!agentcore invoke '{\"prompt\": \"tell me a joke\"}'"
   ]
  },
  {
   "cell_type": "code",
   "execution_count": null,
   "id": "0179d54d",
   "metadata": {},
   "outputs": [],
   "source": []
  }
 ],
 "metadata": {
  "kernelspec": {
   "display_name": "Python 3",
   "language": "python",
   "name": "python3"
  },
  "language_info": {
   "codemirror_mode": {
    "name": "ipython",
    "version": 3
   },
   "file_extension": ".py",
   "mimetype": "text/x-python",
   "name": "python",
   "nbconvert_exporter": "python",
   "pygments_lexer": "ipython3",
   "version": "3.10.12"
  }
 },
 "nbformat": 4,
 "nbformat_minor": 5
}
