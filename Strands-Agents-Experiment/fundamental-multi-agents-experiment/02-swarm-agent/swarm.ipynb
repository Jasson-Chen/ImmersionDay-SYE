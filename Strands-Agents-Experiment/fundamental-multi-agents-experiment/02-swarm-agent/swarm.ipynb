{
 "cells": [
  {
   "cell_type": "markdown",
   "metadata": {
    "pycharm": {
     "name": "#%% md\n"
    }
   },
   "source": [
    "# Creating Swarm of agents using Strands Agents / 使用 Strands Agents 创建代理群"
   ]
  },
  {
   "cell_type": "markdown",
   "metadata": {
    "pycharm": {
     "name": "#%%\n"
    }
   },
   "source": [
    "## Understanding Swarm Multi-Agent Systems / 理解群体多代理系统\n",
    "\n",
    "A Swarm is a collaborative agent orchestration system where multiple agents work together as a team to solve complex tasks. Unlike traditional sequential or hierarchical multi-agent systems, a Swarm enables autonomous coordination between agents with shared context and working memory.\n",
    "\n",
    "* **Self-organizing agent teams** with shared working memory\n",
    "* **Tool-based coordination** between agents\n",
    "* **Autonomous agent collaboration** without central control\n",
    "* **Dynamic task distribution** based on agent capabilities\n",
    "* **Collective intelligence** through shared context\n",
    "* **Multi-modal input support** for handling text, images, and other content types\n",
    "\n",
    "群体是一个协作代理编排系统，其中多个代理作为团队协同工作来解决复杂任务。与传统的顺序或分层多代理系统不同，群体通过共享上下文和工作内存实现代理之间的自主协调。\n",
    "\n",
    "* **自组织代理团队**，具有共享工作内存\n",
    "* 代理之间基于**工具的协调**\n",
    "* **自主代理协作**，无需中央控制\n",
    "* 基于代理能力的**动态任务分配**\n",
    "* 通过共享上下文实现**集体智能**\n",
    "* **多模态输入支持**，用于处理文本、图像和其他内容类型\n",
    "\n",
    "## How Swarms Work / 群体如何工作\n",
    "\n",
    "Swarms operate on the principle of emergent intelligence - the idea that a group of specialized agents working together can solve problems more effectively than a single agent. Each agent in a Swarm:\n",
    "\n",
    "1. Has access to the full task context\n",
    "2. Can see the history of which agents have worked on the task\n",
    "3. Can access shared knowledge contributed by other agents\n",
    "4. Can decide when to hand off to another agent with different expertise\n",
    "\n",
    "群体基于涌现智能的原理运作——即一组专门代理协同工作比单个代理更有效地解决问题的理念。群体中的每个代理：\n",
    "\n",
    "1. 可以访问完整的任务上下文\n",
    "2. 可以查看哪些代理已经处理过该任务的历史\n",
    "3. 可以访问其他代理贡献的共享知识\n",
    "4. 可以决定何时移交给具有不同专业知识的另一个代理\n"
   ]
  },
  {
   "cell_type": "markdown",
   "metadata": {},
   "source": [
    "## 1. Quick Start with Swarm tool / 使用群体工具快速开始"
   ]
  },
  {
   "cell_type": "markdown",
   "metadata": {},
   "source": [
    "The Strands Agents SDK provides a built-in swarm tool that simplifies the implementation of multi-agent systems, offering a quick start for users. This tool implements a flexible swarm intelligence system with autonomous coordination between specialized agents.\n",
    "    \n",
    "In this example:\n",
    "1. The agent uses the swarm tool to dynamically create a team of specialized agents. These might include a researcher, an analyst, and a technical writer\n",
    "2. Next the agent executes the swarm\n",
    "3. The swarm agents collaborate autonomously, handing off to each other as needed\n",
    "4. The agent analyzes the swarm results and provides a comprehensive response to the user\n",
    "\n",
    "Strands Agents SDK 提供了一个内置的群体工具，简化了多代理系统的实现，为用户提供快速开始。此工具实现了一个灵活的群体智能系统，具有专门代理之间的自主协调。\n",
    "\n",
    "在此示例中：\n",
    "1. 代理使用群体工具动态创建专门代理团队。这些可能包括研究员、分析师和技术作家\n",
    "2. 接下来代理执行群体\n",
    "3. 群体代理自主协作，根据需要相互移交\n",
    "4. 代理分析群体结果并向用户提供全面响应\n"
   ]
  },
  {
   "cell_type": "code",
   "execution_count": null,
   "metadata": {},
   "outputs": [],
   "source": [
    "from strands import Agent\n",
    "from strands_tools import swarm"
   ]
  },
  {
   "cell_type": "markdown",
   "metadata": {
    "vscode": {
     "languageId": "markdown"
    }
   },
   "source": [
    "## 1.1 Swarm as a Tool / 群体作为工具"
   ]
  },
  {
   "cell_type": "code",
   "execution_count": null,
   "metadata": {},
   "outputs": [],
   "source": [
    "# Agent initialization\n",
    "agent = Agent(model=\"us.anthropic.claude-3-7-sonnet-20250219-v1:0\",tools=[swarm])\n",
    "\n",
    "# Invocation through natural language\n",
    "result = str(agent(\n",
    "    \"Use a swarm of 4 agents to analyze the current market trend for generative ai based agents.\"\n",
    "))"
   ]
  },
  {
   "cell_type": "code",
   "execution_count": null,
   "metadata": {},
   "outputs": [],
   "source": [
    "print(result)"
   ]
  },
  {
   "cell_type": "markdown",
   "metadata": {},
   "source": [
    "The swarm tool implements a flexible swarm intelligence system built on the Strands SDK's native Swarm multi-agent pattern. This system enables users to define custom teams of specialized AI agents that collaborate autonomously through shared context and tool-based coordination.\n",
    "\n",
    "群体工具实现了一个灵活的群体智能系统，基于 Strands SDK 的原生群体多代理模式构建。该系统使用户能够定义专门 AI 代理的自定义团队，通过共享上下文和基于工具的协调自主协作。\n",
    "\n",
    "**Key Features:**\n",
    "- **Custom Agent Teams**: User-defined agent specifications with individual system prompts, per-agent tool configuration, and model settings\n",
    "- **Autonomous Coordination**: Built-in coordination tools (handoff_to_agent, complete_swarm_task) with shared working memory across all agents\n",
    "- **Advanced Configuration**: Individual model providers and settings per agent, customizable tool access, comprehensive timeout and safety mechanisms\n",
    "- **Emergent Collective Intelligence**: Agents autonomously decide when to collaborate or handoff, with dynamic task distribution based on capabilities\n",
    "\n",
    "**关键特性：**\n",
    "- **自定义代理团队**：用户定义的代理规范，具有个人系统提示、每个代理的工具配置和模型设置\n",
    "- **自主协调**：内置协调工具（handoff_to_agent、complete_swarm_task），所有代理共享工作内存\n",
    "- **高级配置**：每个代理的个人模型提供商和设置、可自定义的工具访问、全面的超时和安全机制\n",
    "- **涌现集体智能**：代理自主决定何时协作或移交，基于能力的动态任务分配\n",
    "\n",
    "**Key Parameters:**\n",
    "- `task`: The main task to be processed by the swarm\n",
    "- `agents`: List of agent specifications with name, system_prompt, tools, model_provider, and model_settings\n",
    "- `max_handoffs`: Maximum number of agent handoffs allowed (default: 20)\n",
    "- `max_iterations`: Maximum total iterations across all agents (default: 20)\n",
    "- `execution_timeout`: Total execution timeout in seconds (default: 900.0)\n",
    "- `node_timeout`: Individual agent timeout in seconds (default: 300.0)\n",
    "- `repetitive_handoff_detection_window`: Number of recent nodes to check for ping-pong behavior\n",
    "- `repetitive_handoff_min_unique_agents`: Minimum unique nodes required in recent sequence\n",
    "\n",
    "**关键参数：**\n",
    "- `task`：群体要处理的主要任务\n",
    "- `agents`：代理规范列表，包含名称、系统提示、工具、模型提供商和模型设置\n",
    "- `max_handoffs`：允许的最大代理移交次数（默认：20）\n",
    "- `max_iterations`：所有代理的最大总迭代次数（默认：20）\n",
    "- `execution_timeout`：总执行超时时间（秒）（默认：900.0）\n",
    "- `node_timeout`：单个代理超时时间（秒）（默认：300.0）\n",
    "- `repetitive_handoff_detection_window`：检查乒乓行为的最近节点数\n",
    "- `repetitive_handoff_min_unique_agents`：最近序列中所需的最少唯一节点\n",
    "\n",
    "**How the Swarm Tool Works:**\n",
    "1. **Agent Creation**: Creates specialized agents based on user specifications with individual model providers and tools\n",
    "2. **Swarm Initialization**: Sets up the Strands SDK Swarm with coordination tools and safety mechanisms\n",
    "3. **Autonomous Execution**: Agents collaborate through handoffs and shared context without central control\n",
    "4. **Result Aggregation**: Collects individual contributions and provides comprehensive execution metrics\n",
    "\n",
    "**群体工具如何工作：**\n",
    "1. **代理创建**：根据用户规范创建专门代理，具有个人模型提供商和工具\n",
    "2. **群体初始化**：设置 Strands SDK 群体，具有协调工具和安全机制\n",
    "3. **自主执行**：代理通过移交和共享上下文协作，无需中央控制\n",
    "4. **结果聚合**：收集个人贡献并提供全面的执行指标\n"
   ]
  },
  {
   "cell_type": "markdown",
   "metadata": {},
   "source": [
    "## 2. Creating a Swarm with Strands Agents / 使用 Strands Agents 创建群体"
   ]
  },
  {
   "cell_type": "markdown",
   "metadata": {},
   "source": [
    "Strands Agents SDK allows you to create swarms using existing Agent objects, even when they use different model providers or have different configurations. The Swarm system enables autonomous coordination between agents through auto handoff mechanisms and shared context, allowing agents to dynamically transfer control when they need specialized expertise from other agents.\n",
    "\n",
    "Strands Agents SDK 允许您使用现有的 Agent 对象创建群体，即使它们使用不同的模型提供商或具有不同的配置。群体系统通过自动移交机制和共享上下文实现代理之间的自主协调，允许代理在需要其他代理的专业知识时动态转移控制。\n",
    "\n",
    "### 2.1 Agent Coordination with Auto Handoff / 具有自动移交的代理协调"
   ]
  },
  {
   "cell_type": "markdown",
   "metadata": {},
   "source": [
    "<p align=\"center\">\n",
    "    <img src=\"./images/swarm_example.png\">\n",
    "</p>"
   ]
  },
  {
   "cell_type": "markdown",
   "metadata": {},
   "source": [
    "In this coordination approach, agents use the Strands SDK's native Swarm pattern with built-in handoff tools to autonomously transfer control to other specialized agents when they need different expertise. Each agent is automatically equipped with coordination tools like `handoff_to_agent` and `complete_swarm_task`. The following example demonstrates a swarm of specialized agents collaborating through shared context and autonomous handoffs:\n",
    "\n",
    "在这种协调方法中，代理使用 Strands SDK 的原生群体模式，具有内置移交工具，当需要不同专业知识时自主将控制转移给其他专门代理。每个代理都自动配备了协调工具，如 `handoff_to_agent` 和 `complete_swarm_task`。以下示例演示了专门代理群体通过共享上下文和自主移交进行协作："
   ]
  },
  {
   "cell_type": "code",
   "execution_count": null,
   "metadata": {},
   "outputs": [],
   "source": [
    "# Create specialized agents with different expertise\n",
    "research_agent = Agent(system_prompt=(\"\"\"You are a Research Agent specializing in gathering and analyzing information.\n",
    "Your role in the swarm is to provide factual information and research insights on the topic.\n",
    "You should focus on providing accurate data and identifying key aspects of the problem.\n",
    "When receiving input from other agents, evaluate if their information aligns with your research.\n",
    "\"\"\"), \n",
    "name=\"research_agent\",model=\"us.anthropic.claude-3-7-sonnet-20250219-v1:0\")\n",
    "\n",
    "creative_agent = Agent(system_prompt=(\"\"\"You are a Creative Agent specializing in generating innovative solutions.\n",
    "Your role in the swarm is to think outside the box and propose creative approaches.\n",
    "You should build upon information from other agents while adding your unique creative perspective.\n",
    "Focus on novel approaches that others might not have considered.\n",
    "\"\"\"), \n",
    "name=\"creative_agent\",model=\"us.anthropic.claude-3-7-sonnet-20250219-v1:0\")\n",
    "\n",
    "critical_agent = Agent(system_prompt=(\"\"\"You are a Critical Agent specializing in analyzing proposals and finding flaws.\n",
    "Your role in the swarm is to evaluate solutions proposed by other agents and identify potential issues.\n",
    "You should carefully examine proposed solutions, find weaknesses or oversights, and suggest improvements.\n",
    "Be constructive in your criticism while ensuring the final solution is robust.\n",
    "\"\"\"), \n",
    "name=\"critical_agent\",model=\"us.anthropic.claude-3-7-sonnet-20250219-v1:0\")\n",
    "\n",
    "summarizer_agent = Agent(system_prompt=(\"\"\"You are a Summarizer Agent specializing in synthesizing information.\n",
    "Your role in the swarm is to gather insights from all agents and create a cohesive final solution.\n",
    "You should combine the best ideas and address the criticisms to create a comprehensive response.\n",
    "Focus on creating a clear, actionable summary that addresses the original query effectively.\n",
    "\"\"\"),name=\"summarizer_agent\",model=\"us.anthropic.claude-3-7-sonnet-20250219-v1:0\")"
   ]
  },
  {
   "cell_type": "markdown",
   "metadata": {},
   "source": [
    "The agent coordination is implemented using the Strands SDK's native Swarm class, which automatically provides coordination tools and manages shared context:\n",
    "\n",
    "代理协调使用 Strands SDK 的原生 Swarm 类实现，它自动提供协调工具并管理共享上下文："
   ]
  },
  {
   "cell_type": "code",
   "execution_count": null,
   "metadata": {},
   "outputs": [],
   "source": [
    "from strands.multiagent import Swarm\n",
    "\n",
    "# Create a swarm with these agents\n",
    "swarm = Swarm(\n",
    "    [research_agent, creative_agent, critical_agent, summarizer_agent],\n",
    "    max_handoffs=20,\n",
    "    max_iterations=20,\n",
    "    execution_timeout=900.0,  # 15 minutes\n",
    "    node_timeout=300.0,       # 5 minutes per agent\n",
    "    repetitive_handoff_detection_window=8,  # There must be >= 3 unique agents in the last 8 handoffs\n",
    "    repetitive_handoff_min_unique_agents=3\n",
    ")"
   ]
  },
  {
   "cell_type": "markdown",
   "metadata": {},
   "source": [
    "The swarm operates through autonomous agent coordination, with agents deciding when to handoff based on their expertise and the task requirements:\n",
    "\n",
    "群体通过自主代理协调运作，代理根据其专业知识和任务要求决定何时移交："
   ]
  },
  {
   "cell_type": "code",
   "execution_count": null,
   "metadata": {},
   "outputs": [],
   "source": [
    "# Execute the swarm on a task\n",
    "result = swarm(\"Create a blog post explaining Agentic AI then create a summary for a social media post.\")"
   ]
  },
  {
   "cell_type": "code",
   "execution_count": null,
   "metadata": {},
   "outputs": [],
   "source": [
    "# Access the final result\n",
    "print(f\"Status: {result.status}\")"
   ]
  },
  {
   "cell_type": "markdown",
   "metadata": {},
   "source": [
    "In this example:\n",
    "\n",
    "* The research_agent might start by gathering information about Agentic AI\n",
    "* Handoff to the creative_agent to develop engaging content and structure\n",
    "* The critical_agent reviews the content for accuracy and completeness\n",
    "* Finally, the summarizer_agent synthesizes all contributions into a cohesive blog post\n",
    "* Agents can handoff multiple times as needed, with the swarm automatically managing coordination\n",
    "\n",
    "在此示例中：\n",
    "\n",
    "* research_agent 可能首先收集有关 Agentic AI 的信息\n",
    "* 移交给 creative_agent 开发引人入胜的内容和结构\n",
    "* critical_agent 审查内容的准确性和完整性\n",
    "* 最后，summarizer_agent 将所有贡献综合成一篇连贯的博客文章\n",
    "* 代理可以根据需要多次移交，群体自动管理协调\n"
   ]
  },
  {
   "cell_type": "code",
   "execution_count": null,
   "metadata": {},
   "outputs": [],
   "source": [
    "# See which agents were involved\n",
    "for node in result.node_history:\n",
    "    print(f\"Agent: {node.node_id}\")\n",
    "\n",
    "# Get results from specific nodes\n",
    "research_result = result.results[\"research_agent\"].result\n",
    "print(f\"Research: {research_result}\")\n",
    "\n",
    "# Get performance metrics\n",
    "print(f\"Total iterations: {result.execution_count}\")\n",
    "print(f\"Execution time: {result.execution_time}ms\")\n",
    "print(f\"Token usage: {result.accumulated_usage}\")"
   ]
  },
  {
   "cell_type": "markdown",
   "metadata": {},
   "source": [
    "The swarm system automatically manages agent coordination, shared context, and handoff mechanisms. Agents can autonomously decide when to transfer control to other specialists, creating a seamless collaborative workflow with built-in safety features like timeout protection and repetitive handoff detection.\n",
    "\n",
    "群体系统自动管理代理协调、共享上下文和移交机制。代理可以自主决定何时将控制转移给其他专家，创建无缝的协作工作流，具有内置安全功能，如超时保护和重复移交检测。\n"
   ]
  },
  {
   "cell_type": "markdown",
   "metadata": {},
   "source": [
    "**When to use Swarm** \n",
    "\n",
    "- For complex tasks requiring diverse expertise and specialized knowledge\n",
    "- When you need multiple perspectives and collaborative problem-solving\n",
    "- For tasks that benefit from autonomous agent coordination and collective intelligence\n",
    "- When handling multi-modal inputs like text and images together\n",
    "- For projects requiring dynamic task distribution based on agent capabilities\n",
    "\n",
    "**何时使用Swarm**\n",
    "\n",
    "- 对于需要多样化专业知识和专门知识的复杂任务\n",
    "- 当您需要多个视角和协作问题解决时\n",
    "- 对于受益于自主代理协调和集体智能的任务\n",
    "- 当处理文本和图像等多模态输入时\n",
    "- 对于需要基于代理能力进行动态任务分配的项目\n",
    "\n",
    "**Best Practices**\n",
    "\n",
    "1. **Create specialized agents**: Define clear roles for each agent in your Swarm\n",
    "2. **Use descriptive agent names**: Names should reflect the agent's specialty\n",
    "3. **Set appropriate timeouts**: Adjust based on task complexity and expected runtime\n",
    "4. **Enable repetitive handoff detection**: Set appropriate values for `repetitive_handoff_detection_window` and `repetitive_handoff_min_unique_agents` to prevent ping-pong behavior\n",
    "5. **Include diverse expertise**: Ensure your Swarm has agents with complementary skills\n",
    "6. **Provide agent descriptions**: Add descriptions to your agents to help other agents understand their capabilities\n",
    "7. **Leverage multi-modal inputs**: Use ContentBlocks for rich inputs including images\n",
    "\n",
    "**最佳实践**\n",
    "1. **创建专门代理**：为群体中的每个代理定义明确的角色\n",
    "2. **使用描述性代理名称**：名称应反映代理的专业\n",
    "3. **设置适当的超时**：根据任务复杂性和预期运行时间调整\n",
    "4. **启用重复移交检测**：为 `repetitive_handoff_detection_window` 和 `repetitive_handoff_min_unique_agents` 设置适当值以防止乒乓行为\n",
    "5. **包含多样化专业知识**：确保您的群体具有互补技能的代理\n",
    "6. **提供代理描述**：为您的代理添加描述，帮助其他代理了解其能力\n",
    "7. **利用多模态输入**：使用 ContentBlocks 进行包括图像在内的丰富输入\n",
    "\n",
    "## Conclusion / 结论\n",
    "\n",
    "Multi-agent swarms solve complex problems through emergent collective intelligence. The Strands Agents SDK provides both a flexible swarm tool and native Swarm class for creating custom agent teams that collaborate autonomously. By distributing tasks across specialized agents with individual model providers, tools, and configurations, swarms achieve better results than single agents working alone. With built-in coordination tools, shared context, and comprehensive safety mechanisms, developers can create sophisticated multi-agent systems that handle complex, multi-faceted problems through self-organizing collaboration.\n",
    "\n",
    "多代理群体通过涌现集体智能解决复杂问题。Strands Agents SDK 提供了灵活的群体工具和原生 Swarm 类，用于创建自主协作的自定义代理团队。通过将任务分配给具有个人模型提供商、工具和配置的专门代理，群体比单独工作的单个代理取得更好的结果。通过内置协调工具、共享上下文和全面的安全机制，开发人员可以创建复杂的多代理系统，通过自组织协作处理复杂的多方面问题。"
   ]
  },
  {
   "cell_type": "markdown",
   "metadata": {},
   "source": []
  }
 ],
 "metadata": {
  "kernelspec": {
   "display_name": ".venv",
   "language": "python",
   "name": "python3"
  },
  "language_info": {
   "codemirror_mode": {
    "name": "ipython",
    "version": 3
   },
   "file_extension": ".py",
   "mimetype": "text/x-python",
   "name": "python",
   "nbconvert_exporter": "python",
   "pygments_lexer": "ipython3",
   "version": "3.13.3"
  }
 },
 "nbformat": 4,
 "nbformat_minor": 4
}
