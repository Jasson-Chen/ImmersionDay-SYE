{
 "cells": [
  {
   "cell_type": "markdown",
   "metadata": {
    "pycharm": {
     "name": "#%% md\n"
    }
   },
   "source": [
    "# Agents as Tools with Strands Agents / 使用 Strands Agents 的代理作为工具\n"
   ]
  },
  {
   "cell_type": "markdown",
   "metadata": {
    "pycharm": {
     "name": "#%%\n"
    }
   },
   "source": [
    "\"Agents as Tools\" is an architectural pattern in AI systems where specialized AI agents are wrapped as callable functions (tools) that can be used by other agents. This creates a hierarchical structure where:\n",
    "\n",
    "1. A primary \"orchestrator\" agent handles user interaction and determines which specialized agent to call\n",
    "\n",
    "2. Specialized \"tool agents\" perform domain-specific tasks when called by the orchestrator\n",
    "\n",
    "This approach mimics human team dynamics, where a manager coordinates specialists, each bringing unique expertise to solve complex problems. Rather than a single agent trying to handle everything, tasks are delegated to the most appropriate specialized agent.\n",
    "\n",
    "\"代理作为工具\"是 AI 系统中的一种架构模式，其中专门的 AI 代理被包装为可调用的函数（工具），可供其他代理使用。这创建了一个分层结构：\n",
    "\n",
    "1. 主要的\"编排器\"代理处理用户交互并确定调用哪个专门代理\n",
    "\n",
    "2. 专门的\"工具代理\"在被编排器调用时执行特定领域的任务\n",
    "\n",
    "这种方法模仿了人类团队动态，其中经理协调专家，每个人都带来独特的专业知识来解决复杂问题。与单个代理试图处理所有事情不同，任务被委派给最合适的专门代理。\n",
    "\n"
   ]
  },
  {
   "cell_type": "markdown",
   "metadata": {
    "vscode": {
     "languageId": "plaintext"
    }
   },
   "source": [
    "## Key Benefits and Core Principles / 关键优势和核心原则"
   ]
  },
  {
   "cell_type": "markdown",
   "metadata": {
    "vscode": {
     "languageId": "plaintext"
    }
   },
   "source": [
    "The \"Agents as Tools\" pattern offers several advantages:\n",
    "\n",
    "- Separation of concerns: Each agent has a focused area of responsibility, making the system easier to understand and maintain\n",
    "- Hierarchical delegation: The orchestrator decides which specialist to invoke, creating a clear chain of command\n",
    "- Modular architecture: Specialists can be added, removed, or modified independently without affecting the entire system\n",
    "- Improved performance: Each agent can have tailored system prompts and tools optimized for its specific task\n",
    "\n",
    "\"代理作为工具\"模式提供了几个优势：\n",
    "\n",
    "- 关注点分离：每个代理都有专注的责任领域，使系统更容易理解和维护\n",
    "- 分层委派：编排器决定调用哪个专家，创建清晰的指挥链\n",
    "- 模块化架构：专家可以独立添加、删除或修改，而不影响整个系统\n",
    "- 性能改进：每个代理都可以有针对其特定任务优化的定制系统提示和工具\n"
   ]
  },
  {
   "cell_type": "code",
   "execution_count": 3,
   "metadata": {},
   "outputs": [],
   "source": [
    "import os\n",
    "\n",
    "from strands import Agent, tool\n",
    "from strands_tools import file_write\n"
   ]
  },
  {
   "cell_type": "markdown",
   "metadata": {},
   "source": [
    "In this module we will be creating an orchestrator based multi-agent workflow. We will also explore `use_llm` which allows use to create nested agents.\n",
    "\n",
    "在本模块中，我们将创建基于编排器的多代理工作流。我们还将探索 `use_llm`，它允许我们创建嵌套代理。\n",
    "\n",
    "<div style=\"text-align:left\">\n",
    "    <img src=\"images/architecture.png\" width=\"75%\" />\n",
    "</div>\n",
    "\n",
    "\n",
    "\n"
   ]
  },
  {
   "cell_type": "markdown",
   "metadata": {},
   "source": [
    "## Research Agent / 研究代理"
   ]
  },
  {
   "cell_type": "markdown",
   "metadata": {},
   "source": [
    "Lets first create a basic reasearch assistant with http_request tool.\n",
    "\n",
    "让我们首先创建一个带有 http_request 工具的基本研究助手。"
   ]
  },
  {
   "cell_type": "code",
   "execution_count": 1,
   "metadata": {},
   "outputs": [],
   "source": [
    "RESEARCH_ASSISTANT_PROMPT = \"\"\"You are a specialized research assistant. Focus only on providing\n",
    "factual, well-sourced information in response to research questions.\n",
    "Always cite your sources when possible.\"\"\""
   ]
  },
  {
   "cell_type": "code",
   "execution_count": 4,
   "metadata": {},
   "outputs": [
    {
     "name": "stdout",
     "output_type": "stream",
     "text": [
      "# Amazon Bedrock Overview\n",
      "\n",
      "Amazon Bedrock is AWS's fully managed service that provides access to foundation models (FMs) through a unified API. Launched in general availability in September 2023, it enables organizations to build generative AI applications without the complexity of deploying and managing the underlying infrastructure.\n",
      "\n",
      "## Key Features\n",
      "\n",
      "### Model Access and Selection\n",
      "- **Multiple Foundation Models**: Offers access to models from AI21 Labs, Anthropic, Cohere, Meta, Mistral AI, Stability AI, and Amazon's own models (Amazon Titan)[^1][^2]\n",
      "- **Model Evaluation**: Tools to compare and evaluate different models for specific use cases\n",
      "- **Serverless Experience**: Pay-only-for-what-you-use pricing model with no infrastructure management[^3]\n",
      "\n",
      "### Security and Privacy\n",
      "- **Private Customization**: Custom models remain private within your AWS account\n",
      "- **Data Protection**: Your data is not used to train base models\n",
      "- **Enterprise Security**: Supports VPC endpoints, AWS KMS encryption, and compliance with various standards[^3]\n",
      "\n",
      "### Development Features\n",
      "- **Guardrails for Amazon Bedrock**: Content filtering capabilities to ensure outputs align with acceptable use policies[^3]\n",
      "- **Knowledge Bases**: Connect foundation models to your organization's data repositories\n",
      "- **Agents for Amazon Bedrock**: Build AI agents that can take actions based on user requests and connect to enterprise systems[^3]\n",
      "- **Fine-tuning**: Customize base models with your own data for specialized tasks\n",
      "\n",
      "### Integration\n",
      "- **AWS Service Integration**: Works with Amazon SageMaker, AWS Lambda, and other AWS services\n",
      "- **API Access**: Unified API for model access across providers\n",
      "- **SDKs**: Support for multiple programming languages through AWS SDKs[^4]\n",
      "\n",
      "## Use Cases\n",
      "- Text generation and summarization\n",
      "- Code generation and assistance\n",
      "- Image generation (with compatible models)\n",
      "- Chatbots and conversational AI\n",
      "- Content creation and editing\n",
      "- Data extraction and analysis\n",
      "\n",
      "[^1]: https://aws.amazon.com/bedrock/\n",
      "[^2]: https://aws.amazon.com/blogs/aws/amazon-bedrock-is-now-generally-available-build-and-scale-generative-ai-applications-with-foundation-models/\n",
      "[^3]: https://aws.amazon.com/bedrock/features/\n",
      "[^4]: https://docs.aws.amazon.com/bedrock/latest/userguide/what-is-bedrock.html"
     ]
    }
   ],
   "source": [
    "research_agent = Agent(\n",
    "    model=\"us.anthropic.claude-3-7-sonnet-20250219-v1:0\",\n",
    "    system_prompt=RESEARCH_ASSISTANT_PROMPT,\n",
    "    # tools=[http_request]  # Here you can enable an agentic ai search tool\n",
    ")\n",
    "\n",
    "query = \"Overview of Amazon Bedrock and its features\"\n",
    "# Call the agent and return its response\n",
    "response = research_agent(query)"
   ]
  },
  {
   "cell_type": "markdown",
   "metadata": {},
   "source": [
    "Now we can wrap this agent as a tool. Allowing other agents to interact with it. \n",
    "\n",
    "####  Best Practices for Agent as Tools\n",
    "\n",
    "When implementing the \"Agents as Tools\" pattern with Strandly AI:\n",
    "\n",
    "1. Clear tool documentation: Write descriptive docstrings that explain the agent's expertise\n",
    "2. Focused system prompts: Keep each specialized agent tightly focused on its domain\n",
    "3. Proper response handling: Use consistent patterns to extract and format responses\n",
    "4. Tool selection guidance: Give the orchestrator clear criteria for when to use each specialized agen\n",
    "\n",
    "现在我们可以将此代理包装为工具。允许其他代理与其交互。\n",
    "\n",
    "#### 代理作为工具的最佳实践\n",
    "\n",
    "在使用 Strandly AI 实现\"代理作为工具\"模式时：\n",
    "\n",
    "1. 清晰的工具文档：编写描述性的文档字符串来解释代理的专业知识\n",
    "2. 专注的系统提示：保持每个专门代理紧密专注于其领域\n",
    "3. 适当的响应处理：使用一致的模式来提取和格式化响应\n",
    "4. 工具选择指导：为编排器提供何时使用每个专门代理的明确标准"
   ]
  },
  {
   "cell_type": "code",
   "execution_count": 5,
   "metadata": {},
   "outputs": [],
   "source": [
    "@tool\n",
    "def research_assistant(query: str) -> str:\n",
    "    \"\"\"\n",
    "    Process and respond to research-related queries.\n",
    "\n",
    "    Args:\n",
    "        query: A research question requiring factual information\n",
    "\n",
    "    Returns:\n",
    "        A detailed research answer with citations\n",
    "    \"\"\"\n",
    "    try:\n",
    "        # Strands agents makes it easy to create a specialized agent\n",
    "        research_agent = Agent(\n",
    "            model=\"us.anthropic.claude-3-7-sonnet-20250219-v1:0\",\n",
    "            system_prompt=RESEARCH_ASSISTANT_PROMPT,\n",
    "        )\n",
    "\n",
    "        # Call the agent and return its response\n",
    "        response = research_agent(query)\n",
    "        return str(response)\n",
    "    except Exception as e:\n",
    "        return f\"Error in research assistant: {str(e)}\""
   ]
  },
  {
   "cell_type": "markdown",
   "metadata": {},
   "source": [
    "Now lets follow the best practices and create `product_recommendation_assistant`, `trip_planning_assistant`, and `orchestrator` agent.\n",
    "\n",
    "现在让我们遵循最佳实践，创建 `product_recommendation_assistant`、`trip_planning_assistant` 和 `orchestrator` 代理。"
   ]
  },
  {
   "cell_type": "markdown",
   "metadata": {},
   "source": [
    "### Product Recommendation Assistant / 产品推荐助手"
   ]
  },
  {
   "cell_type": "code",
   "execution_count": 6,
   "metadata": {},
   "outputs": [],
   "source": [
    "@tool\n",
    "def product_recommendation_assistant(query: str) -> str:\n",
    "    \"\"\"\n",
    "    Handle product recommendation queries by suggesting appropriate products.\n",
    "\n",
    "    Args:\n",
    "        query: A product inquiry with user preferences\n",
    "\n",
    "    Returns:\n",
    "        Personalized product recommendations with reasoning\n",
    "    \"\"\"\n",
    "    try:\n",
    "        product_agent = Agent(\n",
    "            model=\"us.anthropic.claude-3-7-sonnet-20250219-v1:0\",  # Optional: Specify the model ID\n",
    "            system_prompt=\"\"\"You are a specialized product recommendation assistant.\n",
    "            Provide personalized product suggestions based on user preferences. Always cite your sources.\"\"\",\n",
    "        )\n",
    "        # Call the agent and return its response\n",
    "        response = product_agent(query)\n",
    "\n",
    "        return str(response)\n",
    "    except Exception as e:\n",
    "        return f\"Error in product recommendation: {str(e)}\""
   ]
  },
  {
   "cell_type": "code",
   "execution_count": 7,
   "metadata": {},
   "outputs": [
    {
     "name": "stdout",
     "output_type": "stream",
     "text": [
      "# Product Recommendations for Flying Cars\n",
      "\n",
      "While true flying cars aren't yet commercially available for general consumers, there are several advanced projects and pre-order options in development. Here are some recommendations based on current information:\n",
      "\n",
      "## Current Projects with Pre-Order Options\n",
      "\n",
      "1. **PAL-V Liberty** - The world's first commercially available flying car with road and air certification processes underway. Offers a gyrocopter-style flight with prices starting around $400,000-600,000.\n",
      "   [Source: PAL-V official website]\n",
      "\n",
      "2. **AeroMobil 4.0** - A Slovak hybrid car-aircraft with folding wings, targeting wealthy buyers and flight enthusiasts. Estimated price: $1.2-1.6 million.\n",
      "   [Source: AeroMobil website]\n",
      "\n",
      "3. **Terrafugia Transition** - A roadable aircraft that can switch between flying and driving modes, owned by Geely. Reservations available with estimated $300,000-400,000 price tag.\n",
      "   [Source: Terrafugia corporate information]\n",
      "\n",
      "## For Aviation Enthusiasts (Available Now)\n",
      "\n",
      "1. **DJI Mavic Series Drones** - While not flying cars, these high-quality consumer drones offer aerial photography and flight experience ($500-2,000).\n",
      "   [Source: DJI product catalog]\n",
      "\n",
      "2. **Flight simulators with VR compatibility** - Products like X-Plane 12 or Microsoft Flight Simulator offer immersive flying experiences ($60-80 plus VR equipment).\n",
      "   [Source: Steam/Microsoft Store]\n",
      "\n",
      "Would you like more specific information about any of these options or are you interested in a particular aspect of flying vehicles?"
     ]
    },
    {
     "data": {
      "text/plain": [
       "\"# Product Recommendations for Flying Cars\\n\\nWhile true flying cars aren't yet commercially available for general consumers, there are several advanced projects and pre-order options in development. Here are some recommendations based on current information:\\n\\n## Current Projects with Pre-Order Options\\n\\n1. **PAL-V Liberty** - The world's first commercially available flying car with road and air certification processes underway. Offers a gyrocopter-style flight with prices starting around $400,000-600,000.\\n   [Source: PAL-V official website]\\n\\n2. **AeroMobil 4.0** - A Slovak hybrid car-aircraft with folding wings, targeting wealthy buyers and flight enthusiasts. Estimated price: $1.2-1.6 million.\\n   [Source: AeroMobil website]\\n\\n3. **Terrafugia Transition** - A roadable aircraft that can switch between flying and driving modes, owned by Geely. Reservations available with estimated $300,000-400,000 price tag.\\n   [Source: Terrafugia corporate information]\\n\\n## For Aviation Enthusiasts (Available Now)\\n\\n1. **DJI Mavic Series Drones** - While not flying cars, these high-quality consumer drones offer aerial photography and flight experience ($500-2,000).\\n   [Source: DJI product catalog]\\n\\n2. **Flight simulators with VR compatibility** - Products like X-Plane 12 or Microsoft Flight Simulator offer immersive flying experiences ($60-80 plus VR equipment).\\n   [Source: Steam/Microsoft Store]\\n\\nWould you like more specific information about any of these options or are you interested in a particular aspect of flying vehicles?\\n\""
      ]
     },
     "execution_count": 7,
     "metadata": {},
     "output_type": "execute_result"
    }
   ],
   "source": [
    "product_recommendation_assistant(\"Product recommendations for flying cars\")"
   ]
  },
  {
   "cell_type": "markdown",
   "metadata": {},
   "source": [
    "### Trip Planning Assistant / 旅行规划助手"
   ]
  },
  {
   "cell_type": "code",
   "execution_count": 8,
   "metadata": {},
   "outputs": [],
   "source": [
    "@tool\n",
    "def trip_planning_assistant(query: str) -> str:\n",
    "    \"\"\"\n",
    "    Create travel itineraries and provide travel advice.\n",
    "\n",
    "    Args:\n",
    "        query: A travel planning request with destination and preferences\n",
    "\n",
    "    Returns:\n",
    "        A detailed travel itinerary or travel advice\n",
    "    \"\"\"\n",
    "    try:\n",
    "        travel_agent = Agent(\n",
    "            model=\"us.anthropic.claude-3-7-sonnet-20250219-v1:0\",  # Optional: Specify the model ID\n",
    "            system_prompt=\"\"\"You are a specialized travel planning assistant.\n",
    "            Create detailed travel itineraries based on user preferences.\"\"\",\n",
    "        )\n",
    "        # Call the agent and return its response\n",
    "        response = travel_agent(query)\n",
    "\n",
    "        return str(response)\n",
    "    except Exception as e:\n",
    "        return f\"Error in trip planning: {str(e)}\""
   ]
  },
  {
   "cell_type": "markdown",
   "metadata": {},
   "source": [
    "### Orchestrator Agent / 编排器代理"
   ]
  },
  {
   "cell_type": "code",
   "execution_count": 9,
   "metadata": {},
   "outputs": [],
   "source": [
    "# Define orchestrator system prompt with clear tool selection guidance\n",
    "MAIN_SYSTEM_PROMPT = \"\"\"\n",
    "You are an assistant that routes queries to specialized agents:\n",
    "- For research questions and factual information → Use the research_assistant tool\n",
    "- For product recommendations and shopping advice → Use the product_recommendation_assistant tool\n",
    "- For travel planning and itineraries → Use the trip_planning_assistant tool\n",
    "- For simple questions not requiring specialized knowledge → Answer directly\n",
    "\n",
    "Always select the most appropriate tool based on the user's query.\n",
    "\"\"\""
   ]
  },
  {
   "cell_type": "code",
   "execution_count": 10,
   "metadata": {},
   "outputs": [],
   "source": [
    "# Strands Agents allows easy integration of agent tools\n",
    "orchestrator = Agent(\n",
    "    model=\"us.anthropic.claude-3-7-sonnet-20250219-v1:0\",  # Optional: Specify the model ID\n",
    "    system_prompt=MAIN_SYSTEM_PROMPT,\n",
    "    tools=[\n",
    "        research_assistant,\n",
    "        product_recommendation_assistant,\n",
    "        trip_planning_assistant,\n",
    "        file_write,\n",
    "    ],\n",
    ")"
   ]
  },
  {
   "cell_type": "code",
   "execution_count": 11,
   "metadata": {},
   "outputs": [
    {
     "name": "stdout",
     "output_type": "stream",
     "text": [
      "I'll help you find hiking boot recommendations, and I'll write the response to a file in the current directory. Let me handle that for you.\n",
      "Tool #1: product_recommendation_assistant\n",
      "# Hiking Boot Recommendations\n",
      "\n",
      "Based on your interest in hiking boots, here are some well-regarded options across different price points:\n",
      "\n",
      "## Entry-Level Options\n",
      "- **Merrell Moab 2 Mid Waterproof** ($145) - Often called \"Mother of All Boots,\" known for out-of-the-box comfort and good water resistance\n",
      "- **Columbia Newton Ridge Plus II** ($90) - Affordable waterproof leather boots with good traction\n",
      "\n",
      "## Mid-Range Quality\n",
      "- **Salomon X Ultra 3 Mid GTX** ($165) - Lightweight with excellent stability and GORE-TEX waterproofing\n",
      "- **Keen Targhee III Mid** ($175) - Wide toe box, good ankle support, and waterproof membrane\n",
      "\n",
      "## Premium Options\n",
      "- **Lowa Renegade GTX Mid** ($245) - Versatile all-terrain boots with exceptional durability and comfort\n",
      "- **Scarpa Zodiac Plus GTX** ($299) - Superior craftsmanship with excellent performance on technical terrain\n",
      "\n",
      "Would you like more specific recommendations based on the type of hiking you plan to do, your budget, or any foot-specific needs?I'll save the hiking boot recommendations to a file in the current directory:\n",
      "Tool #2: file_write\n"
     ]
    },
    {
     "data": {
      "text/html": [
       "<pre style=\"white-space:pre;overflow-x:auto;line-height:normal;font-family:Menlo,'DejaVu Sans Mono',consolas,'Courier New',monospace\"><span style=\"color: #000080; text-decoration-color: #000080\">╔════════ </span><span style=\"color: #000080; text-decoration-color: #000080; font-weight: bold\">File Write Operation</span><span style=\"color: #000080; text-decoration-color: #000080\"> ════════╗</span>\n",
       "<span style=\"color: #000080; text-decoration-color: #000080\">║</span>                                      <span style=\"color: #000080; text-decoration-color: #000080\">║</span>\n",
       "<span style=\"color: #000080; text-decoration-color: #000080\">║</span> <span style=\"color: #008080; text-decoration-color: #008080\">Path: </span><span style=\"color: #808000; text-decoration-color: #808000\">hiking_boot_recommendations.md</span> <span style=\"color: #000080; text-decoration-color: #000080\">║</span>\n",
       "<span style=\"color: #000080; text-decoration-color: #000080\">║</span> <span style=\"color: #008080; text-decoration-color: #008080\">Size: </span><span style=\"color: #808000; text-decoration-color: #808000\">1003 characters</span>                <span style=\"color: #000080; text-decoration-color: #000080\">║</span>\n",
       "<span style=\"color: #000080; text-decoration-color: #000080\">║</span>                                      <span style=\"color: #000080; text-decoration-color: #000080\">║</span>\n",
       "<span style=\"color: #000080; text-decoration-color: #000080\">╚══════════════════════════════════════╝</span>\n",
       "</pre>\n"
      ],
      "text/plain": [
       "\u001b[34m╔═\u001b[0m\u001b[34m═══════\u001b[0m\u001b[34m \u001b[0m\u001b[1;34mFile Write Operation\u001b[0m\u001b[34m \u001b[0m\u001b[34m═══════\u001b[0m\u001b[34m═╗\u001b[0m\n",
       "\u001b[34m║\u001b[0m                                      \u001b[34m║\u001b[0m\n",
       "\u001b[34m║\u001b[0m \u001b[36mPath: \u001b[0m\u001b[33mhiking_boot_recommendations.md\u001b[0m \u001b[34m║\u001b[0m\n",
       "\u001b[34m║\u001b[0m \u001b[36mSize: \u001b[0m\u001b[33m1003 characters\u001b[0m                \u001b[34m║\u001b[0m\n",
       "\u001b[34m║\u001b[0m                                      \u001b[34m║\u001b[0m\n",
       "\u001b[34m╚══════════════════════════════════════╝\u001b[0m\n"
      ]
     },
     "metadata": {},
     "output_type": "display_data"
    },
    {
     "data": {
      "text/html": [
       "<pre style=\"white-space:pre;overflow-x:auto;line-height:normal;font-family:Menlo,'DejaVu Sans Mono',consolas,'Courier New',monospace\"><span style=\"color: #008000; text-decoration-color: #008000\">╔═════════════════════ </span><span style=\"color: #008000; text-decoration-color: #008000; font-weight: bold\">Write Successful</span><span style=\"color: #008000; text-decoration-color: #008000\"> ══════════════════════╗</span>\n",
       "<span style=\"color: #008000; text-decoration-color: #008000\">║</span> <span style=\"color: #008000; text-decoration-color: #008000; font-weight: bold\">File written successfully to hiking_boot_recommendations.md</span> <span style=\"color: #008000; text-decoration-color: #008000\">║</span>\n",
       "<span style=\"color: #008000; text-decoration-color: #008000\">╚═════════════════════════════════════════════════════════════╝</span>\n",
       "</pre>\n"
      ],
      "text/plain": [
       "\u001b[32m╔═\u001b[0m\u001b[32m════════════════════\u001b[0m\u001b[32m \u001b[0m\u001b[1;32mWrite Successful\u001b[0m\u001b[32m \u001b[0m\u001b[32m═════════════════════\u001b[0m\u001b[32m═╗\u001b[0m\n",
       "\u001b[32m║\u001b[0m \u001b[1;32mFile written successfully to hiking_boot_recommendations.md\u001b[0m \u001b[32m║\u001b[0m\n",
       "\u001b[32m╚═════════════════════════════════════════════════════════════╝\u001b[0m\n"
      ]
     },
     "metadata": {},
     "output_type": "display_data"
    },
    {
     "name": "stdout",
     "output_type": "stream",
     "text": [
      "I've written hiking boot recommendations to a file named \"hiking_boot_recommendations.md\" in your current directory. The file includes a range of options across different price points from entry-level to premium boots.\n",
      "\n",
      "The recommendations include popular models like the Merrell Moab 2, Columbia Newton Ridge Plus II, Salomon X Ultra 3, Keen Targhee III, Lowa Renegade GTX, and Scarpa Zodiac Plus GTX, along with their approximate prices and key features.\n",
      "\n",
      "If you need more specific recommendations based on your hiking style, terrain preferences, budget, or foot-specific needs, just let me know!"
     ]
    }
   ],
   "source": [
    "# Example: E-commerce Customer Service System\n",
    "customer_query = (\n",
    "    \"I'm looking for hiking boots. Write the final response to current directory.\"\n",
    ")\n",
    "\n",
    "os.environ[\"BYPASS_TOOL_CONSENT\"] = \"true\"\n",
    "\n",
    "# The orchestrator automatically determines this requires multiple specialized agents\n",
    "response = orchestrator(customer_query)"
   ]
  },
  {
   "cell_type": "markdown",
   "metadata": {},
   "source": [
    "Lets look at the messages of the orchestrator. Here you can see the agent decided to use the sub-agent as tool\n",
    "\n",
    "让我们看看编排器的消息。在这里您可以看到代理决定使用子代理作为工具"
   ]
  },
  {
   "cell_type": "code",
   "execution_count": 12,
   "metadata": {},
   "outputs": [
    {
     "data": {
      "text/plain": [
       "[{'role': 'user',\n",
       "  'content': [{'text': \"I'm looking for hiking boots. Write the final response to current directory.\"}]},\n",
       " {'role': 'assistant',\n",
       "  'content': [{'text': \"I'll help you find hiking boot recommendations, and I'll write the response to a file in the current directory. Let me handle that for you.\"},\n",
       "   {'toolUse': {'toolUseId': 'tooluse_Xy1FrFvIT_Os9zbJCAHa0g',\n",
       "     'name': 'product_recommendation_assistant',\n",
       "     'input': {'query': \"I'm looking for hiking boots. Please provide recommendations for good hiking boots.\"}}}]},\n",
       " {'role': 'user',\n",
       "  'content': [{'toolResult': {'toolUseId': 'tooluse_Xy1FrFvIT_Os9zbJCAHa0g',\n",
       "     'status': 'success',\n",
       "     'content': [{'text': '# Hiking Boot Recommendations\\n\\nBased on your interest in hiking boots, here are some well-regarded options across different price points:\\n\\n## Entry-Level Options\\n- **Merrell Moab 2 Mid Waterproof** ($145) - Often called \"Mother of All Boots,\" known for out-of-the-box comfort and good water resistance\\n- **Columbia Newton Ridge Plus II** ($90) - Affordable waterproof leather boots with good traction\\n\\n## Mid-Range Quality\\n- **Salomon X Ultra 3 Mid GTX** ($165) - Lightweight with excellent stability and GORE-TEX waterproofing\\n- **Keen Targhee III Mid** ($175) - Wide toe box, good ankle support, and waterproof membrane\\n\\n## Premium Options\\n- **Lowa Renegade GTX Mid** ($245) - Versatile all-terrain boots with exceptional durability and comfort\\n- **Scarpa Zodiac Plus GTX** ($299) - Superior craftsmanship with excellent performance on technical terrain\\n\\nWould you like more specific recommendations based on the type of hiking you plan to do, your budget, or any foot-specific needs?\\n'}]}}]},\n",
       " {'role': 'assistant',\n",
       "  'content': [{'text': \"I'll save the hiking boot recommendations to a file in the current directory:\"},\n",
       "   {'toolUse': {'toolUseId': 'tooluse_Bvxw8CKkTcWMOLwG8fMFEw',\n",
       "     'name': 'file_write',\n",
       "     'input': {'path': 'hiking_boot_recommendations.md',\n",
       "      'content': '# Hiking Boot Recommendations\\n\\nBased on your interest in hiking boots, here are some well-regarded options across different price points:\\n\\n## Entry-Level Options\\n- **Merrell Moab 2 Mid Waterproof** ($145) - Often called \"Mother of All Boots,\" known for out-of-the-box comfort and good water resistance\\n- **Columbia Newton Ridge Plus II** ($90) - Affordable waterproof leather boots with good traction\\n\\n## Mid-Range Quality\\n- **Salomon X Ultra 3 Mid GTX** ($165) - Lightweight with excellent stability and GORE-TEX waterproofing\\n- **Keen Targhee III Mid** ($175) - Wide toe box, good ankle support, and waterproof membrane\\n\\n## Premium Options\\n- **Lowa Renegade GTX Mid** ($245) - Versatile all-terrain boots with exceptional durability and comfort\\n- **Scarpa Zodiac Plus GTX** ($299) - Superior craftsmanship with excellent performance on technical terrain\\n\\nIf you\\'d like more specific recommendations based on the type of hiking you plan to do, your budget, or any foot-specific needs, feel free to ask!'}}}]},\n",
       " {'role': 'user',\n",
       "  'content': [{'toolResult': {'toolUseId': 'tooluse_Bvxw8CKkTcWMOLwG8fMFEw',\n",
       "     'status': 'success',\n",
       "     'content': [{'text': 'File write success: File written successfully to hiking_boot_recommendations.md'}]}}]},\n",
       " {'role': 'assistant',\n",
       "  'content': [{'text': 'I\\'ve written hiking boot recommendations to a file named \"hiking_boot_recommendations.md\" in your current directory. The file includes a range of options across different price points from entry-level to premium boots.\\n\\nThe recommendations include popular models like the Merrell Moab 2, Columbia Newton Ridge Plus II, Salomon X Ultra 3, Keen Targhee III, Lowa Renegade GTX, and Scarpa Zodiac Plus GTX, along with their approximate prices and key features.\\n\\nIf you need more specific recommendations based on your hiking style, terrain preferences, budget, or foot-specific needs, just let me know!'}]}]"
      ]
     },
     "execution_count": 12,
     "metadata": {},
     "output_type": "execute_result"
    }
   ],
   "source": [
    "orchestrator.messages"
   ]
  },
  {
   "cell_type": "code",
   "execution_count": 13,
   "metadata": {},
   "outputs": [
    {
     "name": "stdout",
     "output_type": "stream",
     "text": [
      "I'd be happy to help you plan a trip to Patagonia! I'll use the trip planning assistant to create a detailed itinerary for you. However, I'd need some additional information to customize your trip properly.\n",
      "\n",
      "Could you please provide some details about:\n",
      "- When you're planning to visit (time of year and duration)\n",
      "- Your travel style/preferences (luxury, budget, adventure, etc.)\n",
      "- Any specific activities you're interested in (hiking, wildlife watching, photography, etc.)\n",
      "- Any particular areas of Patagonia you want to visit (Chilean side, Argentinian side, or both)\n",
      "\n",
      "This will help me create a more personalized Patagonia itinerary for you."
     ]
    }
   ],
   "source": [
    "customer_query = \"Can you help me plan my trip to Patagonia\"\n",
    "\n",
    "response = orchestrator(customer_query)"
   ]
  },
  {
   "cell_type": "code",
   "execution_count": 14,
   "metadata": {},
   "outputs": [
    {
     "data": {
      "text/plain": [
       "[{'role': 'user',\n",
       "  'content': [{'text': \"I'm looking for hiking boots. Write the final response to current directory.\"}]},\n",
       " {'role': 'assistant',\n",
       "  'content': [{'text': \"I'll help you find hiking boot recommendations, and I'll write the response to a file in the current directory. Let me handle that for you.\"},\n",
       "   {'toolUse': {'toolUseId': 'tooluse_Xy1FrFvIT_Os9zbJCAHa0g',\n",
       "     'name': 'product_recommendation_assistant',\n",
       "     'input': {'query': \"I'm looking for hiking boots. Please provide recommendations for good hiking boots.\"}}}]},\n",
       " {'role': 'user',\n",
       "  'content': [{'toolResult': {'toolUseId': 'tooluse_Xy1FrFvIT_Os9zbJCAHa0g',\n",
       "     'status': 'success',\n",
       "     'content': [{'text': '# Hiking Boot Recommendations\\n\\nBased on your interest in hiking boots, here are some well-regarded options across different price points:\\n\\n## Entry-Level Options\\n- **Merrell Moab 2 Mid Waterproof** ($145) - Often called \"Mother of All Boots,\" known for out-of-the-box comfort and good water resistance\\n- **Columbia Newton Ridge Plus II** ($90) - Affordable waterproof leather boots with good traction\\n\\n## Mid-Range Quality\\n- **Salomon X Ultra 3 Mid GTX** ($165) - Lightweight with excellent stability and GORE-TEX waterproofing\\n- **Keen Targhee III Mid** ($175) - Wide toe box, good ankle support, and waterproof membrane\\n\\n## Premium Options\\n- **Lowa Renegade GTX Mid** ($245) - Versatile all-terrain boots with exceptional durability and comfort\\n- **Scarpa Zodiac Plus GTX** ($299) - Superior craftsmanship with excellent performance on technical terrain\\n\\nWould you like more specific recommendations based on the type of hiking you plan to do, your budget, or any foot-specific needs?\\n'}]}}]},\n",
       " {'role': 'assistant',\n",
       "  'content': [{'text': \"I'll save the hiking boot recommendations to a file in the current directory:\"},\n",
       "   {'toolUse': {'toolUseId': 'tooluse_Bvxw8CKkTcWMOLwG8fMFEw',\n",
       "     'name': 'file_write',\n",
       "     'input': {'path': 'hiking_boot_recommendations.md',\n",
       "      'content': '# Hiking Boot Recommendations\\n\\nBased on your interest in hiking boots, here are some well-regarded options across different price points:\\n\\n## Entry-Level Options\\n- **Merrell Moab 2 Mid Waterproof** ($145) - Often called \"Mother of All Boots,\" known for out-of-the-box comfort and good water resistance\\n- **Columbia Newton Ridge Plus II** ($90) - Affordable waterproof leather boots with good traction\\n\\n## Mid-Range Quality\\n- **Salomon X Ultra 3 Mid GTX** ($165) - Lightweight with excellent stability and GORE-TEX waterproofing\\n- **Keen Targhee III Mid** ($175) - Wide toe box, good ankle support, and waterproof membrane\\n\\n## Premium Options\\n- **Lowa Renegade GTX Mid** ($245) - Versatile all-terrain boots with exceptional durability and comfort\\n- **Scarpa Zodiac Plus GTX** ($299) - Superior craftsmanship with excellent performance on technical terrain\\n\\nIf you\\'d like more specific recommendations based on the type of hiking you plan to do, your budget, or any foot-specific needs, feel free to ask!'}}}]},\n",
       " {'role': 'user',\n",
       "  'content': [{'toolResult': {'toolUseId': 'tooluse_Bvxw8CKkTcWMOLwG8fMFEw',\n",
       "     'status': 'success',\n",
       "     'content': [{'text': 'File write success: File written successfully to hiking_boot_recommendations.md'}]}}]},\n",
       " {'role': 'assistant',\n",
       "  'content': [{'text': 'I\\'ve written hiking boot recommendations to a file named \"hiking_boot_recommendations.md\" in your current directory. The file includes a range of options across different price points from entry-level to premium boots.\\n\\nThe recommendations include popular models like the Merrell Moab 2, Columbia Newton Ridge Plus II, Salomon X Ultra 3, Keen Targhee III, Lowa Renegade GTX, and Scarpa Zodiac Plus GTX, along with their approximate prices and key features.\\n\\nIf you need more specific recommendations based on your hiking style, terrain preferences, budget, or foot-specific needs, just let me know!'}]},\n",
       " {'role': 'user',\n",
       "  'content': [{'text': 'Can you help me plan my trip to Patagonia'}]},\n",
       " {'role': 'assistant',\n",
       "  'content': [{'text': \"I'd be happy to help you plan a trip to Patagonia! I'll use the trip planning assistant to create a detailed itinerary for you. However, I'd need some additional information to customize your trip properly.\\n\\nCould you please provide some details about:\\n- When you're planning to visit (time of year and duration)\\n- Your travel style/preferences (luxury, budget, adventure, etc.)\\n- Any specific activities you're interested in (hiking, wildlife watching, photography, etc.)\\n- Any particular areas of Patagonia you want to visit (Chilean side, Argentinian side, or both)\\n\\nThis will help me create a more personalized Patagonia itinerary for you.\"}]}]"
      ]
     },
     "execution_count": 14,
     "metadata": {},
     "output_type": "execute_result"
    }
   ],
   "source": [
    "orchestrator.messages"
   ]
  },
  {
   "cell_type": "markdown",
   "metadata": {},
   "source": [
    "### Calling multiple agents / 调用多个代理"
   ]
  },
  {
   "cell_type": "code",
   "execution_count": 15,
   "metadata": {},
   "outputs": [],
   "source": [
    "orchestrator.messages = []"
   ]
  },
  {
   "cell_type": "code",
   "execution_count": 17,
   "metadata": {},
   "outputs": [
    {
     "name": "stdout",
     "output_type": "stream",
     "text": [
      "I'd be happy to research the south of Spain and help you plan a 3-day trip to the region. Let me start with some research on southern Spain:\n",
      "Tool #5: research_assistant\n",
      "# Southern Spain (Andalusia): A Comprehensive Overview\n",
      "\n",
      "## Geography and Location\n",
      "\n",
      "Andalusia (Spanish: Andalucía) is Spain's southernmost region, covering 87,597 square kilometers (33,821 square miles) and constituting approximately 17% of Spain's total area. It's bordered by:\n",
      "- Portugal to the west\n",
      "- The Mediterranean Sea and Gibraltar to the south\n",
      "- Murcia and Castilla-La Mancha to the east\n",
      "- Extremadura and Castilla-La Mancha to the north[1]\n",
      "\n",
      "The region features diverse geographical elements:\n",
      "- The Guadalquivir River valley, forming a fertile basin\n",
      "- Sierra Morena mountain range to the north\n",
      "- The Baetic System, including Sierra Nevada (home to mainland Spain's highest peak, Mulhacén at 3,479 meters)\n",
      "- 836 kilometers of coastline along the Atlantic Ocean and Mediterranean Sea[2]\n",
      "\n",
      "## History\n",
      "\n",
      "Andalusia possesses one of Spain's most layered histories:\n",
      "\n",
      "**Prehistoric Era**: Significant Paleolithic settlements at sites like Nerja Cave, with rock paintings dating back over 20,000 years[3].\n",
      "\n",
      "**Ancient Period**: \n",
      "- Phoenicians established coastal trading posts around 1100 BCE (including Gadir/Cádiz)\n",
      "- Greeks established colonies along the Mediterranean coast\n",
      "- Carthaginians expanded control until defeated by Romans[3]\n",
      "\n",
      "**Roman Era (206 BCE-5th century CE)**: Called \"Baetica,\" it became one of Rome's wealthiest provinces, producing olive oil, wine, and metals. Birthplace of Roman emperors Trajan and Hadrian[4].\n",
      "\n",
      "**Moorish Period (711-1492)**: \n",
      "- Al-Andalus represented the height of Islamic civilization in Europe\n",
      "- The Caliphate of Córdoba became a global center of learning, science, and arts\n",
      "- Gradual Christian reconquest culminated with the fall of Granada in 1492[4]\n",
      "\n",
      "**Post-Reconquista**: After 1492, forced conversion or expulsion of Muslims and Jews significantly altered the region's cultural makeup[4].\n",
      "\n",
      "**Modern Era**: \n",
      "- Severely affected by Spanish Civil War (1936-1939)\n",
      "- Under Franco's dictatorship until 1975\n",
      "- Became an autonomous community in 1981 within democratic Spain[5]\n",
      "\n",
      "## Major Cities\n",
      "\n",
      "**Seville (Sevilla)**: Regional capital and largest city (688,711 inhabitants). Known for its Gothic cathedral, Alcázar palace, and hosting the 1992 World Exposition[6].\n",
      "\n",
      "**Málaga**: Major coastal city (574,654 inhabitants) with significant tourism, birthplace of Pablo Picasso[6].\n",
      "\n",
      "**Córdoba**: Historic center (325,701 inhabitants) featuring the Mezquita, a mosque-cathedral symbolizing the region's diverse religious history[6].\n",
      "\n",
      "**Granada**: Home to the Alhambra palace complex (232,462 inhabitants), representing the pinnacle of Moorish architecture[6].\n",
      "\n",
      "**Cádiz**: Claimed to be Western Europe's oldest continuously inhabited city, founded by Phoenicians around 1100 BCE (116,027 inhabitants)[6].\n",
      "\n",
      "## Culture and Identity\n",
      "\n",
      "Andalusian culture represents a unique fusion influenced by its various historical inhabitants:\n",
      "\n",
      "**Flamenco**: Originated in Andalusia, this expressive art form combines dance, singing (cante), guitar playing, handclapping (palmas), and finger snapping. UNESCO recognized it as Intangible Cultural Heritage in 2010[7].\n",
      "\n",
      "**Architecture**: Features distinctive blends of Islamic, Gothic, Renaissance, and Baroque styles. The Mudéjar style (Christian architecture with Islamic influences) is particularly representative[7].\n",
      "\n",
      "**Festivals**: \n",
      "- Holy Week (Semana Santa) processions\n",
      "- Feria de Abril in Seville\n",
      "- Patios Festival in Córdoba\n",
      "- Numerous local romerías (pilgrimages)[7]\n",
      "\n",
      "**Bullfighting**: While controversial, it remains culturally significant with major bullrings in Seville, Ronda, and Málaga[7].\n",
      "\n",
      "## Cuisine\n",
      "\n",
      "Andalusian cuisine features Mediterranean ingredients with both Moorish and Christian influences:\n",
      "\n",
      "**Signature Dishes**:\n",
      "- Gazpacho (cold tomato soup)\n",
      "- Salmorejo (thicker tomato soup from Córdoba)\n",
      "- Pescaíto frito (fried fish)\n",
      "- Jamón ibérico (especially from Jabugo, Huelva)\n",
      "- Rabo de toro (oxtail stew)[8]\n",
      "\n",
      "**Notable Products**:\n",
      "- Olive oil (Andalusia produces 30% of the world's olive oil)\n",
      "- Sherry wines from Jerez\n",
      "- Manzanilla wines from Sanlúcar de Barrameda\n",
      "- Almonds, citrus fruits, and subtropical fruits along the coast[8]\n",
      "\n",
      "**Tapas Culture**: The tradition of serving small plates with drinks is particularly strong in Andalusia, with some cities offering free tapas with drinks[8].\n",
      "\n",
      "## Tourism and Attractions\n",
      "\n",
      "Andalusia is Spain's most visited region, attracting tourists for:\n",
      "\n",
      "**Historical Sites**:\n",
      "- The Alhambra in Granada\n",
      "- Córdoba's Mezquita\n",
      "- Seville's Cathedral and Alcázar\n",
      "- Prehistoric dolmens near Antequera[9]\n",
      "\n",
      "**Natural Areas**:\n",
      "- Doñana National Park (UNESCO Biosphere Reserve)\n",
      "- Sierra Nevada National Park\n",
      "- Natural Park of Cabo de Gata-Níjar\n",
      "- Numerous beaches along Costa del Sol, Costa de la Luz, and Costa Tropical[9]\n",
      "\n",
      "**White Villages**: Picturesque hillside towns like Ronda, Arcos de la Frontera, and Vejer de la Frontera with whitewashed buildings[9].\n",
      "\n",
      "## Unique Characteristics\n",
      "\n",
      "**Climate**: Andalusia has Europe's warmest climate, with mild winters and hot summers. The coast enjoys over 300 sunny days per year[10].\n",
      "\n",
      "**Languages**: While Spanish is official, Andalusian Spanish has distinctive features, including dropped consonants and unique vocabulary[10].\n",
      "\n",
      "**Economic Profile**: Traditionally agricultural, the economy now heavily relies on tourism and services. The region faces higher unemployment than Spain's average[10].\n",
      "\n",
      "**Environmental Challenges**: Water management issues due to tourism, agriculture, and climate change present ongoing challenges[10].\n",
      "\n",
      "---\n",
      "\n",
      "**Sources:**\n",
      "[1] Instituto Geográfico Nacional de España\n",
      "[2] Junta de Andalucía Geographic Information System\n",
      "[3] Chapman, R. (2008). \"Emerging Complexity: The Later Prehistory of South-East Spain\"\n",
      "[4] Carr, R. (2000). \"Spain: A History\"\n",
      "[5] Moreno, L. (2001). \"The Federalization of Spain\"\n",
      "[6] Instituto Nacional de Estadística (INE), 2020 population data\n",
      "[7] UNESCO Intangible Cultural Heritage Lists\n",
      "[8] Roden, C. (2012). \"The Food of Spain\"\n",
      "[9] Andalusian Tourism Board statistics\n",
      "[10] Agencia Estatal de Meteorología (AEMET)Now, let me help you plan a 3-day trip to Southern Spain:\n",
      "Tool #6: trip_planning_assistant\n",
      "# 3-Day Andalusia Highlights Itinerary\n",
      "\n",
      "## Overview\n",
      "This compact 3-day itinerary focuses on Seville and Granada, two of Andalusia's most magnificent cities, giving you a perfect taste of Southern Spain's rich culture, stunning architecture, and delicious cuisine.\n",
      "\n",
      "## Transportation Options\n",
      "- **Arrival**: Fly into Seville Airport (SVQ)\n",
      "- **Between Cities**: High-speed AVE train from Seville to Granada (2.5 hours)\n",
      "- **Local Transport**: Public buses, taxis, or walking in city centers\n",
      "\n",
      "---\n",
      "\n",
      "## Day 1: Seville\n",
      "**Morning:**\n",
      "- Check into accommodation\n",
      "- Visit **Seville Cathedral** (€10) and climb **La Giralda** tower for panoramic city views\n",
      "- Explore the **Barrio Santa Cruz** (old Jewish quarter) with its charming narrow streets\n",
      "\n",
      "**Afternoon:**\n",
      "- Visit the **Real Alcázar** (€12.50) - arrive early to avoid lines or book online in advance\n",
      "- Stroll through **Plaza de España** and **María Luisa Park**\n",
      "\n",
      "**Evening:**\n",
      "- Enjoy tapas in **El Arenal** neighborhood\n",
      "- Experience a traditional **flamenco show** at La Casa del Flamenco (€18)\n",
      "\n",
      "**Recommended Accommodations:**\n",
      "- **Luxury**: Hotel Alfonso XIII (€300+)\n",
      "- **Mid-range**: Hotel Casa 1800 Sevilla (€150-200)\n",
      "- **Budget**: Hostel One Catedral (€25-50)\n",
      "\n",
      "**Local Dishes to Try:**\n",
      "- Salmorejo (cold tomato soup)\n",
      "- Espinacas con garbanzos (spinach with chickpeas)\n",
      "- Carrillada (slow-cooked pork cheek)\n",
      "- Fino sherry wine\n",
      "\n",
      "---\n",
      "\n",
      "## Day 2: Seville to Granada\n",
      "**Morning:**\n",
      "- Visit **Plaza de Toros** (bullring) and its museum (€8)\n",
      "- Explore **Triana** neighborhood across the river and its market\n",
      "\n",
      "**Afternoon:**\n",
      "- Take the high-speed AVE train to Granada (book in advance, €40-60)\n",
      "- Check into accommodation in Granada\n",
      "- Explore the **Albaicín** quarter (UNESCO site) with its winding streets and Arab influence\n",
      "\n",
      "**Evening:**\n",
      "- Enjoy sunset views of the Alhambra from **Mirador San Nicolás**\n",
      "- Dinner with free tapas in the city center bars (Granada is famous for serving free tapas with drinks)\n",
      "\n",
      "**Recommended Accommodations:**\n",
      "- **Luxury**: Parador de Granada (located inside the Alhambra, €300+)\n",
      "- **Mid-range**: Hotel Casa 1800 Granada (€120-180)\n",
      "- **Budget**: Makuto Backpackers Hostel (€20-40)\n",
      "\n",
      "**Local Dishes to Try:**\n",
      "- Berenjenas con miel (fried eggplant with honey)\n",
      "- Plato Alpujarreño (eggs, potatoes, chorizo)\n",
      "- Local wines from the Granada region\n",
      "\n",
      "---\n",
      "\n",
      "## Day 3: Granada\n",
      "**Morning:**\n",
      "- Visit **The Alhambra Palace and Generalife Gardens** (€14) - IMPORTANT: Book at least 1 month in advance!\n",
      "  * Allow 3-4 hours for the complete visit\n",
      "  * Consider hiring a guide for rich historical context\n",
      "\n",
      "**Afternoon:**\n",
      "- Visit the **Granada Cathedral** (€5) and **Royal Chapel** (€5)\n",
      "- Explore the **Alcaicería** (former silk market) for local crafts and souvenirs\n",
      "\n",
      "**Evening:**\n",
      "- Experience a traditional **hammam** (Arab baths) at Hammam Al Ándalus (€35)\n",
      "- Enjoy dinner at a **carmen** (traditional house with gardens) in the Albaicín with Alhambra views\n",
      "\n",
      "**Local Dishes to Try:**\n",
      "- Tortilla del Sacromonte (unique Granada-style omelet)\n",
      "- Piononos (sweet pastry from nearby Santa Fe)\n",
      "- Local Trevélez ham\n",
      "\n",
      "---\n",
      "\n",
      "## Travel Tips\n",
      "1. **Alhambra Tickets**: Book as far in advance as possible (ideally 1+ month)\n",
      "2. **Siesta**: Many shops close from approximately 2-5pm\n",
      "3. **Dining Hours**: Lunch is typically 2-4pm and dinner starts after 8:30pm\n",
      "4. **Water**: Carry water bottles during summer months when temperatures can exceed 40°C (104°F)\n",
      "5. **Dress Code**: Modest attire is required for cathedral visits\n",
      "6. **Tipping**: Not obligatory but 5-10% is appreciated for good service\n",
      "\n",
      "Would you like me to modify any part of this itinerary or provide more detailed information about any specific aspect?Based on the research and travel planning information, here's a comprehensive overview of Southern Spain and a tailored 3-day itinerary:\n",
      "\n",
      "# Southern Spain (Andalusia) Overview\n",
      "\n",
      "## Geography and Character\n",
      "Andalusia is Spain's southernmost region, covering 87,597 square kilometers (about 17% of Spain) with 836 kilometers of coastline along the Mediterranean Sea and Atlantic Ocean. The region features diverse geography including:\n",
      "- The fertile Guadalquivir River valley\n",
      "- Sierra Nevada mountains (with mainland Spain's highest peak)\n",
      "- Sierra Morena mountain range\n",
      "- Europe's warmest climate with over 300 sunny days per year along the coast\n",
      "\n",
      "## Rich Historical Heritage\n",
      "Southern Spain has an incredibly layered history:\n",
      "- Ancient settlements by Phoenicians (who founded Cádiz around 1100 BCE)\n",
      "- Roman rule (206 BCE-5th century CE) when it was called \"Baetica\"\n",
      "- Islamic period (711-1492) when \"Al-Andalus\" became a center of learning, science and arts\n",
      "- Christian reconquest culminating in 1492\n",
      "- Major cultural shifts following the expulsion of Muslims and Jews\n",
      "\n",
      "## Cultural Significance\n",
      "Andalusia is known for:\n",
      "- Flamenco music and dance (UNESCO Intangible Cultural Heritage)\n",
      "- Distinctive architecture blending Islamic, Gothic, Renaissance and Baroque styles\n",
      "- Vibrant festivals including Holy Week processions and the Feria de Abril\n",
      "- Bullfighting tradition (controversial but culturally significant)\n",
      "- Unique Andalusian Spanish dialect\n",
      "\n",
      "## Culinary Highlights\n",
      "The region's cuisine features:\n",
      "- Gazpacho and salmorejo (cold tomato soups)\n",
      "- Pescaíto frito (fried fish)\n",
      "- Jamón ibérico (especially from Jabugo)\n",
      "- Extensive olive oil production (30% of world's supply)\n",
      "- Famous sherry wines from Jerez\n",
      "- Rich tapas culture (with some cities offering free tapas with drinks)\n",
      "\n",
      "## Major Cities\n",
      "- **Seville**: Regional capital with its Gothic cathedral and Alcázar palace\n",
      "- **Málaga**: Major coastal city and Picasso's birthplace\n",
      "- **Córdoba**: Home to the Mezquita mosque-cathedral\n",
      "- **Granada**: Famous for the Alhambra palace complex\n",
      "- **Cádiz**: One of Western Europe's oldest continuously inhabited cities\n",
      "\n",
      "# 3-Day Southern Spain Itinerary\n",
      "\n",
      "## Day 1: Seville\n",
      "**Morning:**\n",
      "- Arrive in Seville and check into your accommodation\n",
      "- Visit the magnificent Seville Cathedral (Europe's largest Gothic cathedral) and climb La Giralda tower for city views\n",
      "- Wander through the charming Barrio Santa Cruz (old Jewish quarter)\n",
      "\n",
      "**Afternoon:**\n",
      "- Explore the Real Alcázar palace complex (book tickets in advance to skip lines)\n",
      "- Visit Plaza de España and María Luisa Park with its impressive architecture and beautiful gardens\n",
      "\n",
      "**Evening:**\n",
      "- Enjoy tapas in El Arenal neighborhood\n",
      "- Experience an authentic flamenco show at La Casa del Flamenco\n",
      "\n",
      "**Where to Stay:**\n",
      "- Luxury: Hotel Alfonso XIII (€300+)\n",
      "- Mid-range: Hotel Casa 1800 Sevilla (€150-200)\n",
      "- Budget: Hostel One Catedral (€25-50)\n",
      "\n",
      "**Must-Try Local Foods:**\n",
      "- Salmorejo (thicker version of gazpacho)\n",
      "- Espinacas con garbanzos (spinach with chickpeas)\n",
      "- Carrillada (slow-cooked pork cheeks)\n",
      "- Sample fino sherry wine\n",
      "\n",
      "## Day 2: Seville to Granada\n",
      "**Morning:**\n",
      "- Visit Plaza de Toros (bullring) and its museum\n",
      "- Explore the traditional Triana neighborhood and its market\n",
      "\n",
      "**Afternoon:**\n",
      "- Take the high-speed AVE train to Granada (2.5 hours, €40-60)\n",
      "- Check into your Granada accommodation\n",
      "- Explore the UNESCO-listed Albaicín quarter with its Moorish influence and winding streets\n",
      "\n",
      "**Evening:**\n",
      "- Watch sunset over the Alhambra from Mirador San Nicolás viewpoint\n",
      "- Experience Granada's unique tapas culture (many bars serve free tapas with drinks)\n",
      "\n",
      "**Where to Stay:**\n",
      "- Luxury: Parador de Granada (inside the Alhambra, €300+)\n",
      "- Mid-range: Hotel Casa 1800 Granada (€120-180)\n",
      "- Budget: Makuto Backpackers Hostel (€20-40)\n",
      "\n",
      "**Must-Try Local Foods:**\n",
      "- Berenjenas con miel (fried eggplant with honey)\n",
      "- Plato Alpujarreño (eggs, potatoes, chorizo)\n",
      "- Local Granada wines\n",
      "\n",
      "## Day 3: Granada\n",
      "**Morning:**\n",
      "- Visit the magnificent Alhambra Palace and Generalife Gardens (ESSENTIAL to book at least 1 month in advance!)\n",
      "- Allow 3-4 hours for the complete visit\n",
      "\n",
      "**Afternoon:**\n",
      "- Explore Granada Cathedral and Royal Chapel\n",
      "- Browse the Alcaicería (former silk market) for local crafts and souvenirs\n",
      "\n",
      "**Evening:**\n",
      "- Relax at a traditional hammam (Arab baths) at Hammam Al Ándalus\n",
      "- Enjoy dinner at a carmen (traditional house with gardens) in the Albaicín with Alhambra views\n",
      "\n",
      "**Must-Try Local Foods:**\n",
      "- Tortilla del Sacromonte (Granada-style omelet)\n",
      "- Piononos (sweet pastries from Santa Fe)\n",
      "- Trevélez ham from the Alpujarras\n",
      "\n",
      "## Important Travel Tips:\n",
      "1. **Alhambra Tickets**: Book as far in advance as possible – this is absolutely essential!\n",
      "2. **Siesta Times**: Many shops close from 2-5pm\n",
      "3. **Spanish Dining Hours**: Lunch is typically 2-4pm and dinner starts after 8:30pm\n",
      "4. **Summer Heat**: Be prepared for temperatures that can exceed 40°C (104°F)\n",
      "5. **Cathedral Dress Code**: Modest attire required\n",
      "6. **Transportation**: The high-speed train between Seville and Granada is the most efficient option\n",
      "\n",
      "Would you like me to expand on any part of this itinerary or provide more specific information about attractions, transportation options, or accommodation recommendations?"
     ]
    },
    {
     "data": {
      "text/plain": [
       "AgentResult(stop_reason='end_turn', message={'role': 'assistant', 'content': [{'text': 'Based on the research and travel planning information, here\\'s a comprehensive overview of Southern Spain and a tailored 3-day itinerary:\\n\\n# Southern Spain (Andalusia) Overview\\n\\n## Geography and Character\\nAndalusia is Spain\\'s southernmost region, covering 87,597 square kilometers (about 17% of Spain) with 836 kilometers of coastline along the Mediterranean Sea and Atlantic Ocean. The region features diverse geography including:\\n- The fertile Guadalquivir River valley\\n- Sierra Nevada mountains (with mainland Spain\\'s highest peak)\\n- Sierra Morena mountain range\\n- Europe\\'s warmest climate with over 300 sunny days per year along the coast\\n\\n## Rich Historical Heritage\\nSouthern Spain has an incredibly layered history:\\n- Ancient settlements by Phoenicians (who founded Cádiz around 1100 BCE)\\n- Roman rule (206 BCE-5th century CE) when it was called \"Baetica\"\\n- Islamic period (711-1492) when \"Al-Andalus\" became a center of learning, science and arts\\n- Christian reconquest culminating in 1492\\n- Major cultural shifts following the expulsion of Muslims and Jews\\n\\n## Cultural Significance\\nAndalusia is known for:\\n- Flamenco music and dance (UNESCO Intangible Cultural Heritage)\\n- Distinctive architecture blending Islamic, Gothic, Renaissance and Baroque styles\\n- Vibrant festivals including Holy Week processions and the Feria de Abril\\n- Bullfighting tradition (controversial but culturally significant)\\n- Unique Andalusian Spanish dialect\\n\\n## Culinary Highlights\\nThe region\\'s cuisine features:\\n- Gazpacho and salmorejo (cold tomato soups)\\n- Pescaíto frito (fried fish)\\n- Jamón ibérico (especially from Jabugo)\\n- Extensive olive oil production (30% of world\\'s supply)\\n- Famous sherry wines from Jerez\\n- Rich tapas culture (with some cities offering free tapas with drinks)\\n\\n## Major Cities\\n- **Seville**: Regional capital with its Gothic cathedral and Alcázar palace\\n- **Málaga**: Major coastal city and Picasso\\'s birthplace\\n- **Córdoba**: Home to the Mezquita mosque-cathedral\\n- **Granada**: Famous for the Alhambra palace complex\\n- **Cádiz**: One of Western Europe\\'s oldest continuously inhabited cities\\n\\n# 3-Day Southern Spain Itinerary\\n\\n## Day 1: Seville\\n**Morning:**\\n- Arrive in Seville and check into your accommodation\\n- Visit the magnificent Seville Cathedral (Europe\\'s largest Gothic cathedral) and climb La Giralda tower for city views\\n- Wander through the charming Barrio Santa Cruz (old Jewish quarter)\\n\\n**Afternoon:**\\n- Explore the Real Alcázar palace complex (book tickets in advance to skip lines)\\n- Visit Plaza de España and María Luisa Park with its impressive architecture and beautiful gardens\\n\\n**Evening:**\\n- Enjoy tapas in El Arenal neighborhood\\n- Experience an authentic flamenco show at La Casa del Flamenco\\n\\n**Where to Stay:**\\n- Luxury: Hotel Alfonso XIII (€300+)\\n- Mid-range: Hotel Casa 1800 Sevilla (€150-200)\\n- Budget: Hostel One Catedral (€25-50)\\n\\n**Must-Try Local Foods:**\\n- Salmorejo (thicker version of gazpacho)\\n- Espinacas con garbanzos (spinach with chickpeas)\\n- Carrillada (slow-cooked pork cheeks)\\n- Sample fino sherry wine\\n\\n## Day 2: Seville to Granada\\n**Morning:**\\n- Visit Plaza de Toros (bullring) and its museum\\n- Explore the traditional Triana neighborhood and its market\\n\\n**Afternoon:**\\n- Take the high-speed AVE train to Granada (2.5 hours, €40-60)\\n- Check into your Granada accommodation\\n- Explore the UNESCO-listed Albaicín quarter with its Moorish influence and winding streets\\n\\n**Evening:**\\n- Watch sunset over the Alhambra from Mirador San Nicolás viewpoint\\n- Experience Granada\\'s unique tapas culture (many bars serve free tapas with drinks)\\n\\n**Where to Stay:**\\n- Luxury: Parador de Granada (inside the Alhambra, €300+)\\n- Mid-range: Hotel Casa 1800 Granada (€120-180)\\n- Budget: Makuto Backpackers Hostel (€20-40)\\n\\n**Must-Try Local Foods:**\\n- Berenjenas con miel (fried eggplant with honey)\\n- Plato Alpujarreño (eggs, potatoes, chorizo)\\n- Local Granada wines\\n\\n## Day 3: Granada\\n**Morning:**\\n- Visit the magnificent Alhambra Palace and Generalife Gardens (ESSENTIAL to book at least 1 month in advance!)\\n- Allow 3-4 hours for the complete visit\\n\\n**Afternoon:**\\n- Explore Granada Cathedral and Royal Chapel\\n- Browse the Alcaicería (former silk market) for local crafts and souvenirs\\n\\n**Evening:**\\n- Relax at a traditional hammam (Arab baths) at Hammam Al Ándalus\\n- Enjoy dinner at a carmen (traditional house with gardens) in the Albaicín with Alhambra views\\n\\n**Must-Try Local Foods:**\\n- Tortilla del Sacromonte (Granada-style omelet)\\n- Piononos (sweet pastries from Santa Fe)\\n- Trevélez ham from the Alpujarras\\n\\n## Important Travel Tips:\\n1. **Alhambra Tickets**: Book as far in advance as possible – this is absolutely essential!\\n2. **Siesta Times**: Many shops close from 2-5pm\\n3. **Spanish Dining Hours**: Lunch is typically 2-4pm and dinner starts after 8:30pm\\n4. **Summer Heat**: Be prepared for temperatures that can exceed 40°C (104°F)\\n5. **Cathedral Dress Code**: Modest attire required\\n6. **Transportation**: The high-speed train between Seville and Granada is the most efficient option\\n\\nWould you like me to expand on any part of this itinerary or provide more specific information about attractions, transportation options, or accommodation recommendations?'}]}, metrics=EventLoopMetrics(cycle_count=10, tool_metrics={'product_recommendation_assistant': ToolMetrics(tool={'toolUseId': 'tooluse_Xy1FrFvIT_Os9zbJCAHa0g', 'name': 'product_recommendation_assistant', 'input': {'query': \"I'm looking for hiking boots. Please provide recommendations for good hiking boots.\"}}, call_count=1, success_count=1, error_count=0, total_time=5.980964422225952), 'file_write': ToolMetrics(tool={'toolUseId': 'tooluse_Bvxw8CKkTcWMOLwG8fMFEw', 'name': 'file_write', 'input': {'path': 'hiking_boot_recommendations.md', 'content': '# Hiking Boot Recommendations\\n\\nBased on your interest in hiking boots, here are some well-regarded options across different price points:\\n\\n## Entry-Level Options\\n- **Merrell Moab 2 Mid Waterproof** ($145) - Often called \"Mother of All Boots,\" known for out-of-the-box comfort and good water resistance\\n- **Columbia Newton Ridge Plus II** ($90) - Affordable waterproof leather boots with good traction\\n\\n## Mid-Range Quality\\n- **Salomon X Ultra 3 Mid GTX** ($165) - Lightweight with excellent stability and GORE-TEX waterproofing\\n- **Keen Targhee III Mid** ($175) - Wide toe box, good ankle support, and waterproof membrane\\n\\n## Premium Options\\n- **Lowa Renegade GTX Mid** ($245) - Versatile all-terrain boots with exceptional durability and comfort\\n- **Scarpa Zodiac Plus GTX** ($299) - Superior craftsmanship with excellent performance on technical terrain\\n\\nIf you\\'d like more specific recommendations based on the type of hiking you plan to do, your budget, or any foot-specific needs, feel free to ask!'}}, call_count=1, success_count=1, error_count=0, total_time=0.005392313003540039), 'research_assistant': ToolMetrics(tool={'toolUseId': 'tooluse_AtzRokILQySKBTS24PLUsw', 'name': 'research_assistant', 'input': {'query': 'Provide comprehensive information about Southern Spain (Andalusia), including its geography, culture, history, major cities, attractions, cuisine, and unique characteristics.'}}, call_count=2, success_count=2, error_count=0, total_time=50.97650599479675), 'trip_planning_assistant': ToolMetrics(tool={'toolUseId': 'tooluse_Z5hiJn-mTvmS_MsFy6e_TA', 'name': 'trip_planning_assistant', 'input': {'query': 'Create a 3-day itinerary for Southern Spain (Andalusia), focusing on the major highlights, local experiences, and efficient travel between destinations. Include recommended accommodations, transportation options, must-see attractions, and local cuisine to try.'}}, call_count=2, success_count=2, error_count=0, total_time=54.12531065940857)}, cycle_durations=[3.1646268367767334, 4.278022289276123, 19.569933891296387, 27.74583911895752], traces=[<strands.telemetry.metrics.Trace object at 0x7d76e6adb580>, <strands.telemetry.metrics.Trace object at 0x7d76f95aa710>, <strands.telemetry.metrics.Trace object at 0x7d76e6adb190>, <strands.telemetry.metrics.Trace object at 0x7d76e6adabf0>, <strands.telemetry.metrics.Trace object at 0x7d76e6adb2e0>, <strands.telemetry.metrics.Trace object at 0x7d76e614e140>, <strands.telemetry.metrics.Trace object at 0x7d76e614e230>, <strands.telemetry.metrics.Trace object at 0x7d76e614e020>, <strands.telemetry.metrics.Trace object at 0x7d76e6adb070>, <strands.telemetry.metrics.Trace object at 0x7d76e6a7d870>], accumulated_usage={'inputTokens': 29514, 'outputTokens': 3655, 'totalTokens': 33169}, accumulated_metrics={'latencyMs': 77093}), state={})"
      ]
     },
     "execution_count": 17,
     "metadata": {},
     "output_type": "execute_result"
    }
   ],
   "source": [
    "query = \"Can you do a research on the south of Spain? Also help me plan a 3 day trip.\"\n",
    "\n",
    "orchestrator(query)"
   ]
  },
  {
   "cell_type": "markdown",
   "metadata": {},
   "source": [
    "Behind the scenes, the orchestrator will:\n",
    "1. First call the `research_assistant`\n",
    "2. Then call `trip_planning_assistant`\n",
    "3. Combine these specialized responses into a cohesive answer that addresses both the queries\n",
    "\n",
    "在幕后，协调器将：\n",
    "1. 首先调用research_assistant\n",
    "2. 然后调用trip_planning_assistant\n",
    "3. 将这些专业的响应组合成一个连贯的答案，以解决这两个查询\n"
   ]
  },
  {
   "cell_type": "markdown",
   "metadata": {},
   "source": [
    "### Sequential Agent Communication Pattern / 顺序代理通信模式 \n"
   ]
  },
  {
   "cell_type": "markdown",
   "metadata": {},
   "source": [
    "The agent tool can also combine multiple agents together. In this example we will provide output of `research_agent` to `summary_agent` and return the summarized response.\n",
    "\n",
    "代理工具也可以将多个代理组合在一起。在这个例子中，我们将把`research_agent`的输出提供给`summary_agent`，并返回总结的响应。"
   ]
  },
  {
   "cell_type": "code",
   "execution_count": 18,
   "metadata": {},
   "outputs": [
    {
     "name": "stdout",
     "output_type": "stream",
     "text": [
      "Multiple agents created successfully!\n",
      "\n",
      "🔍 RESEARCH AGENT working on: generative Ai\n",
      "\n",
      "# Generative AI: A Comprehensive Overview\n",
      "\n",
      "Generative AI refers to artificial intelligence systems capable of creating new content, including text, images, audio, code, and other data types that resemble human-created content. Below is a comprehensive overview of this rapidly evolving field.\n",
      "\n",
      "## Fundamental Concepts\n",
      "\n",
      "Generative AI systems are primarily built on deep learning architectures, especially:\n",
      "\n",
      "- **Large Language Models (LLMs)**: Neural networks trained on vast text corpora that can generate human-like text (e.g., GPT-4, LLaMA, PaLM)\n",
      "- **Diffusion Models**: AI systems that learn to generate images by gradually removing noise from random patterns (e.g., Stable Diffusion, DALL-E)\n",
      "- **Generative Adversarial Networks (GANs)**: Systems using two neural networks competing against each other to produce realistic outputs[1]\n",
      "\n",
      "## Key Applications\n",
      "\n",
      "Generative AI has found applications across numerous domains:\n",
      "\n",
      "- **Content Creation**: Writing assistance, image generation, music composition\n",
      "- **Programming**: Code generation, debugging, and optimization\n",
      "- **Design**: Product design, architectural modeling, fashion concepts\n",
      "- **Healthcare**: Drug discovery, medical image synthesis, personalized treatment plans\n",
      "- **Entertainment**: Game design, special effects, character creation[2]\n",
      "\n",
      "## Major Platforms and Models\n",
      "\n",
      "Several landmark systems have defined the generative AI landscape:\n",
      "\n",
      "- **OpenAI's GPT series**: Text and multimodal generation\n",
      "- **Google's PaLM/Gemini**: Language understanding and generation\n",
      "- **Meta's LLaMA**: Open-weight large language models\n",
      "- **Stability AI's Stable Diffusion**: Open-source image generation\n",
      "- **Anthropic's Claude**: Conversational AI with constitutional AI approach[3]\n",
      "\n",
      "## Technical Foundations\n",
      "\n",
      "These systems rely on several key technical innovations:\n",
      "\n",
      "- **Transformer Architecture**: The backbone of modern language models\n",
      "- **Self-supervised Learning**: Training on unlabeled data\n",
      "- **Transfer Learning**: Adapting pre-trained models to specific tasks\n",
      "- **Reinforcement Learning from Human Feedback (RLHF)**: Aligning AI outputs with human preferences[4]\n",
      "\n",
      "## Challenges and Limitations\n",
      "\n",
      "Despite rapid advances, generative AI faces significant challenges:\n",
      "\n",
      "- **Hallucinations**: Generation of plausible but factually incorrect information\n",
      "- **Bias**: Reproducing or amplifying biases present in training data\n",
      "- **Intellectual Property Concerns**: Questions about copyright of training data and outputs\n",
      "- **Computing Requirements**: Intensive computational demands for training and deployment\n",
      "- **Safety and Alignment**: Ensuring outputs align with human values and safety requirements[5]\n",
      "\n",
      "## Social and Economic Impact\n",
      "\n",
      "Generative AI is projected to have profound socioeconomic effects:\n",
      "\n",
      "- **Labor Market Transformation**: Automation of creative and knowledge work\n",
      "- **Productivity Gains**: McKinsey estimates potential annual economic value of $2.6-4.4 trillion\n",
      "- **Educational Changes**: Evolving approaches to teaching, learning, and assessment\n",
      "- **Media Ecosystem**: Challenges in distinguishing AI from human-created content[6]\n",
      "\n",
      "## Sources:\n",
      "[1] LeCun, Y., Bengio, Y., & Hinton, G. (2015). Deep learning. Nature, 521(7553), 436-444.\n",
      "[2] Stanford HAI. (2023). Artificial Intelligence Index Report 2023.\n",
      "[3] Bommasani, R., et al. (2021). On the Opportunities and Risks of Foundation Models. arXiv:2108.07258.\n",
      "[4] Vaswani, A., et al. (2017). Attention Is All You Need. Advances in Neural Information Processing Systems.\n",
      "[5] Bender, E. M., et al. (2021). On the Dangers of Stochastic Parrots: Can Language Models Be Too Big? FAccT '21.\n",
      "[6] McKinsey Global Institute. (2023). The Economic Potential of Generative AI.Error in research assistant: 'dict' object has no attribute 'content'\n"
     ]
    }
   ],
   "source": [
    " # define the user query\n",
    "topic = \"generative Ai\"\n",
    "# Create a research agent\n",
    "research_agent = Agent(\n",
    "    model=\"us.anthropic.claude-3-7-sonnet-20250219-v1:0\",\n",
    "    system_prompt=RESEARCH_ASSISTANT_PROMPT,\n",
    ")\n",
    "# Create a summarization agent\n",
    "summary_agent = Agent(\n",
    "    model=\"us.anthropic.claude-3-7-sonnet-20250219-v1:0\",\n",
    "    system_prompt=\"\"\"\n",
    "    You are a summarization specialist focused on distilling complex information into clear, concise summaries.\n",
    "    Your primary goal is to take detailed information and extract the key points, main arguments, and critical data.\n",
    "    You should maintain the accuracy of the original content while making it more digestible.\n",
    "    Focus on clarity, brevity, and highlighting the most important aspects of the information.\n",
    "    \"\"\",\n",
    ")\n",
    "\n",
    "print(\"Multiple agents created successfully!\")\n",
    "print(f\"\\n🔍 RESEARCH AGENT working on: {topic}\\n\") \n",
    "try:\n",
    "    # Agent 1: Invoke research agent\n",
    "    research_response = research_agent(\n",
    "        f\"Please gather comprehensive information about {topic}.\"\n",
    "    )\n",
    "    research_text = research_response.message.content[0][\"text\"]\n",
    "    print(\"\\n✂️ SUMMARY AGENT distilling the research\\n\")\n",
    "    \n",
    "    # Agent 2: Ask the summary agent to create a concise summary\n",
    "    summary_response = summary_agent(\n",
    "        f\"Please create a concise summary of this research: {research_text}\"\n",
    "    )\n",
    "    summary_text = summary_response.message.content[0][\"text\"]\n",
    "    \n",
    "    print(summary_text)\n",
    "except Exception as e:\n",
    "    print(f\"Error in research assistant: {str(e)}\")"
   ]
  },
  {
   "cell_type": "markdown",
   "metadata": {},
   "source": [
    "## Congrats! / 恭喜！"
   ]
  }
 ],
 "metadata": {
  "kernelspec": {
   "display_name": "Python 3",
   "language": "python",
   "name": "python3"
  },
  "language_info": {
   "codemirror_mode": {
    "name": "ipython",
    "version": 3
   },
   "file_extension": ".py",
   "mimetype": "text/x-python",
   "name": "python",
   "nbconvert_exporter": "python",
   "pygments_lexer": "ipython3",
   "version": "3.10.12"
  }
 },
 "nbformat": 4,
 "nbformat_minor": 4
}
