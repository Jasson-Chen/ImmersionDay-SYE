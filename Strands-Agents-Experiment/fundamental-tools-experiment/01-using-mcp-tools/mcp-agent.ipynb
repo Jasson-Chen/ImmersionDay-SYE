{
 "cells": [
  {
   "cell_type": "markdown",
   "metadata": {
    "collapsed": false,
    "jupyter": {
     "outputs_hidden": false
    },
    "pycharm": {
     "name": "#%% md\n"
    }
   },
   "source": [
    "# Use Model Context Protocol (MCP) as tools with Strands Agent / 使用模型上下文协议 (MCP) 作为 Strands Agent 的工具\n",
    "\n",
    "## Overview / 概述\n",
    "The [Model Context Protocol (MCP)](https://modelcontextprotocol.io/introduction) is an open protocol that standardizes how applications provide context to Large Language Models (LLMs). Strands AI SDK integrates with MCP to extend agent capabilities through external tools and services.\n",
    "\n",
    "MCP enables communication between agents and MCP servers that provide additional tools. The Strands Agent SDK includes built-in support for connecting to MCP servers and using their tools.\n",
    "\n",
    "In this example we will show you how to use MCP tools on your Strands Agent. We will use the [AWS Documentation MCP server](https://awslabs.github.io/mcp/servers/aws-documentation-mcp-server/) which provides tools to access AWS documentation, search for content, and get recommendations. This MCP server has 3 main features:\n",
    "\n",
    "- **Read Documentation**: Fetch and convert AWS documentation pages to markdown format\n",
    "- **Search Documentation**: Search AWS documentation using the official search API\n",
    "- **Recommendations**: Get content recommendations for AWS documentation pages\n",
    "\n",
    "[模型上下文协议 (MCP)](https://modelcontextprotocol.io/introduction) 是一个开放协议，标准化了应用程序如何为大型语言模型 (LLM) 提供上下文。Strands AI SDK 与 MCP 集成，通过外部工具和服务扩展代理功能。\n",
    "\n",
    "MCP 使代理与提供附加工具的 MCP 服务器之间能够进行通信。Strands Agent SDK 包含连接到 MCP 服务器并使用其工具的内置支持。\n",
    "\n",
    "在此示例中，我们将向您展示如何在 Strands Agent 上使用 MCP 工具。我们将使用 [AWS 文档 MCP 服务器](https://awslabs.github.io/mcp/servers/aws-documentation-mcp-server/)，它提供访问 AWS 文档、搜索内容和获取推荐的工具。此 MCP 服务器有 3 个主要功能：\n",
    "\n",
    "- **读取文档**：获取并将 AWS 文档页面转换为 markdown 格式\n",
    "- **搜索文档**：使用官方搜索 API 搜索 AWS 文档\n",
    "- **推荐**：获取 AWS 文档页面的内容推荐\n",
    "\n",
    "\n",
    "\n",
    "## Agent Details / 代理详情\n",
    "<div style=\"float: left; margin-right: 20px;\">\n",
    "    \n",
    "|Feature             |Description                                        |\n",
    "|--------------------|---------------------------------------------------|\n",
    "|Feature used        |MCP Tools                                          |\n",
    "|Agent Structure     |Single agent architecture                          |\n",
    "\n",
    "</div>"
   ]
  },
  {
   "cell_type": "markdown",
   "metadata": {},
   "source": [
    "## Architecture / 架构\n",
    "\n",
    "<div style=\"text-align:center\">\n",
    "    <img src=\"images/architecture.png\" width=\"65%\" />\n",
    "</div>\n",
    "\n",
    "## Key Features / 关键特性\n",
    "* **单代理架构**：此示例创建一个与 MCP 工具交互的单个代理\n",
    "* **MCP 工具**：将 MCP 工具与您的代理集成"
   ]
  },
  {
   "cell_type": "markdown",
   "metadata": {},
   "source": [
    "### Importing dependency packages / 导入依赖包\n",
    "\n",
    "Now let's import the dependency packages\n",
    "\n",
    "现在让我们导入依赖包"
   ]
  },
  {
   "cell_type": "code",
   "execution_count": 2,
   "metadata": {},
   "outputs": [],
   "source": [
    "import threading\n",
    "import time\n",
    "from datetime import timedelta\n",
    "\n",
    "from mcp import StdioServerParameters, stdio_client\n",
    "from mcp.client.streamable_http import streamablehttp_client\n",
    "from mcp.server import FastMCP\n",
    "from strands import Agent\n",
    "from strands.tools.mcp import MCPClient"
   ]
  },
  {
   "attachments": {},
   "cell_type": "markdown",
   "metadata": {},
   "source": [
    "### Connect to MCP server using stdio transport / 使用 stdio 传输连接到 MCP 服务器\n",
    "\n",
    "[Transports](https://modelcontextprotocol.io/specification/2025-03-26/basic/transports) in MCP provide the foundations for communication between clients and servers. It handles the underlying mechanics of how messages are sent and received. At the moment there are three standards transport implementations built-in in MCP:\n",
    "\n",
    "- **Standard Input/Output (stdio)**: enables communication through standard input and output streams. It is particularly useful for local integrations and command-line tools\n",
    "- **Streamable HTTP**: this replaces the HTTP+SSE transport from previous protocol version. In the Streamable HTTP transport, the server operates as an independent process that can handle multiple client connections. This transport uses HTTP POST and GET requests. Server can optionally make use of Server-Sent Events (SSE) to stream multiple server messages. This permits basic MCP servers, as well as more feature-rich servers supporting streaming and server-to-client notifications and requests.\n",
    "- **SSE**: legacy transport for HTTP-based MCP servers that use Server-Sent Events transport  \n",
    "\n",
    "Overall, you should use stdio for building command-line tools, implementing local integrations and working with shell scripts. You should use Streamable HTTP transports when you need a flexible and efficient way for AI agents to communicate with tools and services, especially when dealing with stateless communication or when minimizing resource usage is crucial.\n",
    "\n",
    "You can also use **custom transports** implementation for your specific needs. \n",
    "\n",
    "Let's now connect to the MCP server using stdio transport. First of all, we will use the class `MCPClient` to connect to the [AWS Documentation MCP Server](https://awslabs.github.io/mcp/servers/aws-documentation-mcp-server/). This server provides tools to access AWS documentation, search for content, and get recommendations.\n",
    "\n",
    "MCP 中的[传输](https://modelcontextprotocol.io/specification/2025-03-26/basic/transports)为客户端和服务器之间的通信提供了基础。它处理消息发送和接收的底层机制。目前 MCP 中内置了三种标准传输实现：\n",
    "\n",
    "- **标准输入/输出 (stdio)**：通过标准输入和输出流进行通信。它特别适用于本地集成和命令行工具\n",
    "- **可流式 HTTP**：这取代了之前协议版本中的 HTTP+SSE 传输。在可流式 HTTP 传输中，服务器作为独立进程运行，可以处理多个客户端连接。此传输使用 HTTP POST 和 GET 请求。服务器可以选择使用服务器发送事件 (SSE) 来流式传输多个服务器消息。这允许基本的 MCP 服务器，以及支持流式传输和服务器到客户端通知和请求的功能更丰富的服务器。\n",
    "- **SSE**：使用服务器发送事件传输的基于 HTTP 的 MCP 服务器的传统传输\n",
    "\n",
    "总的来说，您应该使用 stdio 来构建命令行工具、实现本地集成和使用 shell 脚本。当您需要一种灵活高效的方式让 AI 代理与工具和服务通信时，特别是在处理无状态通信或最小化资源使用至关重要时，您应该使用可流式 HTTP 传输。\n",
    "\n",
    "您还可以根据特定需求使用**自定义传输**实现。\n",
    "\n",
    "\n",
    "现在让我们使用 stdio 传输连接到 MCP 服务器。首先，我们将使用 `MCPClient` 类连接到 [AWS 文档 MCP 服务器](https://awslabs.github.io/mcp/servers/aws-documentation-mcp-server/)。此服务器提供访问 AWS 文档、搜索内容和获取推荐的工具。"
   ]
  },
  {
   "cell_type": "code",
   "execution_count": 3,
   "metadata": {},
   "outputs": [],
   "source": [
    "# Connect to an MCP server using stdio transport\n",
    "stdio_mcp_client = MCPClient(\n",
    "    lambda: stdio_client(\n",
    "        StdioServerParameters(\n",
    "            command=\"uvx\", args=[\"awslabs.aws-documentation-mcp-server@latest\"]\n",
    "        )\n",
    "    )\n",
    ")"
   ]
  },
  {
   "cell_type": "markdown",
   "metadata": {},
   "source": [
    "#### Setup agent configuration and invoke it / 设置代理配置并调用它\n",
    "\n",
    "Next we will set our agent configuration using the tools from the `stdio_mcp_client` object we just created. To do so, we need to list the tools available in the MCP server. We can use the `list_tools_sync` method for it. \n",
    "\n",
    "After that, we will ask a question to our agent.\n",
    "\n",
    "接下来，我们将使用刚刚创建的 `stdio_mcp_client` 对象中的工具来设置代理配置。为此，我们需要列出 MCP 服务器中可用的工具。我们可以使用 `list_tools_sync` 方法来实现。\n",
    "\n",
    "之后，我们将向代理提出问题。"
   ]
  },
  {
   "cell_type": "code",
   "execution_count": 4,
   "metadata": {},
   "outputs": [
    {
     "name": "stdout",
     "output_type": "stream",
     "text": [
      "I'll look up the Amazon Bedrock pricing model for you. Let me search the AWS documentation to get this information.\n",
      "Tool #1: search_documentation\n",
      "Now let me get the detailed pricing information from the main pricing documentation page:\n",
      "Tool #2: read_documentation\n",
      "I'll check more about the Provisioned Throughput option mentioned:\n",
      "Tool #3: read_documentation\n",
      "Based on the AWS documentation, here's a concise explanation of Amazon Bedrock's pricing model:\n",
      "\n",
      "# Amazon Bedrock Pricing Model\n",
      "\n",
      "Amazon Bedrock offers two primary pricing models:\n",
      "\n",
      "1. **On-demand Usage**: \n",
      "   - Pay-as-you-go based on the volume of input and output tokens processed\n",
      "   - Different pricing for each foundation model\n",
      "   - No upfront commitments\n",
      "\n",
      "2. **Provisioned Throughput**:\n",
      "   - Fixed cost for dedicated capacity\n",
      "   - Charged hourly based on:\n",
      "     - Model selected\n",
      "     - Number of Model Units (MUs) purchased\n",
      "     - Commitment duration (no commitment, 1-month, or 6-month terms)\n",
      "   - Required for custom models\n",
      "   - Longer commitments provide discounted hourly rates\n",
      "\n",
      "For specific pricing per model, you need to check the AWS pricing page or the Model providers page in the Amazon Bedrock console."
     ]
    }
   ],
   "source": [
    "# Create an agent with MCP tools\n",
    "with stdio_mcp_client:\n",
    "    # Get the tools from the MCP server\n",
    "    tools = stdio_mcp_client.list_tools_sync()\n",
    "\n",
    "    # Create an agent with these tools\n",
    "    agent = Agent(\n",
    "        model=\"us.anthropic.claude-3-7-sonnet-20250219-v1:0\",\n",
    "        tools=tools)\n",
    "\n",
    "    response = agent(\"What is Amazon Bedrock pricing model. Be concise.\")"
   ]
  },
  {
   "cell_type": "markdown",
   "metadata": {},
   "source": [
    "### Connect to MCP server using Streamable HTTP / 使用可流式 HTTP 连接到 MCP 服务器\n",
    "\n",
    "Let's now connect to the MCP server using Streamable HTTP transport. First let's start a simple MCP server using Streamable HTTP transport.\n",
    "\n",
    "现在让我们使用可流式 HTTP 传输连接到 MCP 服务器。首先让我们使用可流式 HTTP 传输启动一个简单的 MCP 服务器。"
   ]
  },
  {
   "cell_type": "markdown",
   "metadata": {},
   "source": [
    "For this example we will create our own MCP server. The architecture will look as following\n",
    "\n",
    "对于此示例，我们将创建自己的 MCP 服务器。架构如下所示\n",
    "\n",
    "<div style=\"text-align:center\">\n",
    "    <img src=\"images/architecture_2.png\" width=\"65%\" />\n",
    "</div>"
   ]
  },
  {
   "cell_type": "code",
   "execution_count": 5,
   "metadata": {},
   "outputs": [],
   "source": [
    "# Create an MCP server\n",
    "mcp = FastMCP(\"Calculator Server\")\n",
    "\n",
    "# Define a tool\n",
    "\n",
    "\n",
    "@mcp.tool(description=\"Calculator tool which performs calculations\")\n",
    "def calculator(x: int, y: int) -> int:\n",
    "    return x + y\n",
    "\n",
    "\n",
    "@mcp.tool(description=\"This is a long running tool\")\n",
    "def long_running_tool(name: str) -> str:\n",
    "    time.sleep(25)\n",
    "    return f\"Hello {name}\"\n",
    "\n",
    "\n",
    "def main():\n",
    "    mcp.run(transport=\"streamable-http\", mount_path=\"mcp\")"
   ]
  },
  {
   "cell_type": "markdown",
   "metadata": {},
   "source": [
    "Let's now start a thread with the `streamable-http` server\n",
    "\n",
    "现在让我们启动一个带有 `streamable-http` 服务器的线程"
   ]
  },
  {
   "cell_type": "code",
   "execution_count": null,
   "metadata": {},
   "outputs": [
    {
     "name": "stderr",
     "output_type": "stream",
     "text": [
      "INFO:     Started server process [146618]\n",
      "INFO:     Waiting for application startup.\n"
     ]
    },
    {
     "data": {
      "text/html": [
       "<pre style=\"white-space:pre;overflow-x:auto;line-height:normal;font-family:Menlo,'DejaVu Sans Mono',consolas,'Courier New',monospace\"><span style=\"color: #7fbfbf; text-decoration-color: #7fbfbf\">[09/04/25 02:06:11] </span><span style=\"color: #000080; text-decoration-color: #000080\">INFO    </span> StreamableHTTP session manager started                  <a href=\"file:///home/participant/.local/lib/python3.10/site-packages/mcp/server/streamable_http_manager.py\" target=\"_blank\"><span style=\"color: #7f7f7f; text-decoration-color: #7f7f7f\">streamable_http_manager.py</span></a><span style=\"color: #7f7f7f; text-decoration-color: #7f7f7f\">:</span><a href=\"file:///home/participant/.local/lib/python3.10/site-packages/mcp/server/streamable_http_manager.py#110\" target=\"_blank\"><span style=\"color: #7f7f7f; text-decoration-color: #7f7f7f\">110</span></a>\n",
       "</pre>\n"
      ],
      "text/plain": [
       "\u001b[2;36m[09/04/25 02:06:11]\u001b[0m\u001b[2;36m \u001b[0m\u001b[34mINFO    \u001b[0m StreamableHTTP session manager started                  \u001b]8;id=3767;file:///home/participant/.local/lib/python3.10/site-packages/mcp/server/streamable_http_manager.py\u001b\\\u001b[2mstreamable_http_manager.py\u001b[0m\u001b]8;;\u001b\\\u001b[2m:\u001b[0m\u001b]8;id=108636;file:///home/participant/.local/lib/python3.10/site-packages/mcp/server/streamable_http_manager.py#110\u001b\\\u001b[2m110\u001b[0m\u001b]8;;\u001b\\\n"
      ]
     },
     "metadata": {},
     "output_type": "display_data"
    },
    {
     "name": "stderr",
     "output_type": "stream",
     "text": [
      "INFO:     Application startup complete.\n",
      "INFO:     Uvicorn running on http://127.0.0.1:8000 (Press CTRL+C to quit)\n"
     ]
    },
    {
     "name": "stdout",
     "output_type": "stream",
     "text": [
      "INFO:     127.0.0.1:41992 - \"POST /mcp HTTP/1.1\" 200 OK\n",
      "INFO:     127.0.0.1:42006 - \"GET /mcp HTTP/1.1\" 200 OK\n",
      "INFO:     127.0.0.1:42004 - \"POST /mcp HTTP/1.1\" 202 Accepted\n",
      "INFO:     127.0.0.1:42018 - \"POST /mcp HTTP/1.1\" 200 OK\n",
      "INFO:     127.0.0.1:42020 - \"POST /mcp HTTP/1.1\" 200 OK\n",
      "INFO:     127.0.0.1:42036 - \"DELETE /mcp HTTP/1.1\" 200 OK\n",
      "INFO:     127.0.0.1:42042 - \"POST /mcp HTTP/1.1\" 200 OK\n",
      "INFO:     127.0.0.1:42058 - \"GET /mcp HTTP/1.1\" 200 OK\n",
      "INFO:     127.0.0.1:42046 - \"POST /mcp HTTP/1.1\" 202 Accepted\n",
      "INFO:     127.0.0.1:42066 - \"POST /mcp HTTP/1.1\" 200 OK\n",
      "INFO:     127.0.0.1:42078 - \"POST /mcp HTTP/1.1\" 200 OK\n",
      "INFO:     127.0.0.1:42084 - \"DELETE /mcp HTTP/1.1\" 200 OK\n",
      "INFO:     127.0.0.1:39756 - \"POST /mcp HTTP/1.1\" 200 OK\n",
      "INFO:     127.0.0.1:39758 - \"GET /mcp HTTP/1.1\" 200 OK\n",
      "INFO:     127.0.0.1:39768 - \"POST /mcp HTTP/1.1\" 202 Accepted\n",
      "INFO:     127.0.0.1:39778 - \"POST /mcp HTTP/1.1\" 200 OK\n",
      "INFO:     127.0.0.1:49454 - \"POST /mcp HTTP/1.1\" 200 OK\n",
      "INFO:     127.0.0.1:49456 - \"DELETE /mcp HTTP/1.1\" 200 OK\n"
     ]
    }
   ],
   "source": [
    "thread = threading.Thread(target=main)\n",
    "thread.start()"
   ]
  },
  {
   "cell_type": "markdown",
   "metadata": {},
   "source": [
    "#### Integrating Streamable HTTP client with Agent / 将可流式 HTTP 客户端与代理集成\n",
    "\n",
    "Now let's use `streamablehttp_client` integrate this server with a simple agent.\n",
    "\n",
    "现在让我们使用 `streamablehttp_client` 将此服务器与简单代理集成。"
   ]
  },
  {
   "cell_type": "code",
   "execution_count": 7,
   "metadata": {},
   "outputs": [],
   "source": [
    "def create_streamable_http_transport():\n",
    "    return streamablehttp_client(\"http://localhost:8000/mcp\")\n",
    "\n",
    "\n",
    "streamable_http_mcp_client = MCPClient(create_streamable_http_transport)"
   ]
  },
  {
   "cell_type": "markdown",
   "metadata": {},
   "source": [
    "#### Setup agent configuration and invoke it / 设置代理配置并调用它\n",
    "\n",
    "Next we will set our agent configuration using the tools from the `streamable_http_mcp_client` object we just created. To do so, we need to list the tools available in the MCP server. We can use the `list_tools_sync` method for it. \n",
    "\n",
    "After that, we will ask a question to our agent.\n",
    "\n",
    "接下来，我们将使用刚刚创建的 `streamable_http_mcp_client` 对象中的工具来设置代理配置。为此，我们需要列出 MCP 服务器中可用的工具。我们可以使用 `list_tools_sync` 方法来实现。\n",
    "\n",
    "之后，我们将向代理提出问题。"
   ]
  },
  {
   "cell_type": "code",
   "execution_count": 8,
   "metadata": {},
   "outputs": [
    {
     "data": {
      "text/html": [
       "<pre style=\"white-space:pre;overflow-x:auto;line-height:normal;font-family:Menlo,'DejaVu Sans Mono',consolas,'Courier New',monospace\"><span style=\"color: #7fbfbf; text-decoration-color: #7fbfbf\">[09/04/25 02:06:28] </span><span style=\"color: #000080; text-decoration-color: #000080\">INFO    </span> Created new transport with session ID:                  <a href=\"file:///home/participant/.local/lib/python3.10/site-packages/mcp/server/streamable_http_manager.py\" target=\"_blank\"><span style=\"color: #7f7f7f; text-decoration-color: #7f7f7f\">streamable_http_manager.py</span></a><span style=\"color: #7f7f7f; text-decoration-color: #7f7f7f\">:</span><a href=\"file:///home/participant/.local/lib/python3.10/site-packages/mcp/server/streamable_http_manager.py#233\" target=\"_blank\"><span style=\"color: #7f7f7f; text-decoration-color: #7f7f7f\">233</span></a>\n",
       "<span style=\"color: #7fbfbf; text-decoration-color: #7fbfbf\">                    </span>         cce608b8a4894bd98ed63845f73d6959                        <span style=\"color: #7f7f7f; text-decoration-color: #7f7f7f\">                              </span>\n",
       "</pre>\n"
      ],
      "text/plain": [
       "\u001b[2;36m[09/04/25 02:06:28]\u001b[0m\u001b[2;36m \u001b[0m\u001b[34mINFO    \u001b[0m Created new transport with session ID:                  \u001b]8;id=786412;file:///home/participant/.local/lib/python3.10/site-packages/mcp/server/streamable_http_manager.py\u001b\\\u001b[2mstreamable_http_manager.py\u001b[0m\u001b]8;;\u001b\\\u001b[2m:\u001b[0m\u001b]8;id=507830;file:///home/participant/.local/lib/python3.10/site-packages/mcp/server/streamable_http_manager.py#233\u001b\\\u001b[2m233\u001b[0m\u001b]8;;\u001b\\\n",
       "\u001b[2;36m                    \u001b[0m         cce608b8a4894bd98ed63845f73d6959                        \u001b[2m                              \u001b[0m\n"
      ]
     },
     "metadata": {},
     "output_type": "display_data"
    },
    {
     "data": {
      "text/html": [
       "<pre style=\"white-space:pre;overflow-x:auto;line-height:normal;font-family:Menlo,'DejaVu Sans Mono',consolas,'Courier New',monospace\"><span style=\"color: #7fbfbf; text-decoration-color: #7fbfbf\">                    </span><span style=\"color: #000080; text-decoration-color: #000080\">INFO    </span> HTTP Request: <span style=\"color: #808000; text-decoration-color: #808000; font-weight: bold\">POST</span> <span style=\"color: #0000ff; text-decoration-color: #0000ff; text-decoration: underline\">http://localhost:8000/mcp</span> <span style=\"color: #008000; text-decoration-color: #008000\">\"HTTP/1.1 200 OK\"</span>         <a href=\"file:///home/participant/.local/lib/python3.10/site-packages/httpx/_client.py\" target=\"_blank\"><span style=\"color: #7f7f7f; text-decoration-color: #7f7f7f\">_client.py</span></a><span style=\"color: #7f7f7f; text-decoration-color: #7f7f7f\">:</span><a href=\"file:///home/participant/.local/lib/python3.10/site-packages/httpx/_client.py#1740\" target=\"_blank\"><span style=\"color: #7f7f7f; text-decoration-color: #7f7f7f\">1740</span></a>\n",
       "</pre>\n"
      ],
      "text/plain": [
       "\u001b[2;36m                   \u001b[0m\u001b[2;36m \u001b[0m\u001b[34mINFO    \u001b[0m HTTP Request: \u001b[1;33mPOST\u001b[0m \u001b[4;94mhttp://localhost:8000/mcp\u001b[0m \u001b[32m\"HTTP/1.1 200 OK\"\u001b[0m         \u001b]8;id=933702;file:///home/participant/.local/lib/python3.10/site-packages/httpx/_client.py\u001b\\\u001b[2m_client.py\u001b[0m\u001b]8;;\u001b\\\u001b[2m:\u001b[0m\u001b]8;id=286149;file:///home/participant/.local/lib/python3.10/site-packages/httpx/_client.py#1740\u001b\\\u001b[2m1740\u001b[0m\u001b]8;;\u001b\\\n"
      ]
     },
     "metadata": {},
     "output_type": "display_data"
    },
    {
     "data": {
      "text/html": [
       "<pre style=\"white-space:pre;overflow-x:auto;line-height:normal;font-family:Menlo,'DejaVu Sans Mono',consolas,'Courier New',monospace\"><span style=\"color: #7fbfbf; text-decoration-color: #7fbfbf\">                    </span><span style=\"color: #000080; text-decoration-color: #000080\">INFO    </span> Received session ID: cce608b8a4894bd98ed63845f73d6959           <a href=\"file:///home/participant/.local/lib/python3.10/site-packages/mcp/client/streamable_http.py\" target=\"_blank\"><span style=\"color: #7f7f7f; text-decoration-color: #7f7f7f\">streamable_http.py</span></a><span style=\"color: #7f7f7f; text-decoration-color: #7f7f7f\">:</span><a href=\"file:///home/participant/.local/lib/python3.10/site-packages/mcp/client/streamable_http.py#134\" target=\"_blank\"><span style=\"color: #7f7f7f; text-decoration-color: #7f7f7f\">134</span></a>\n",
       "</pre>\n"
      ],
      "text/plain": [
       "\u001b[2;36m                   \u001b[0m\u001b[2;36m \u001b[0m\u001b[34mINFO    \u001b[0m Received session ID: cce608b8a4894bd98ed63845f73d6959           \u001b]8;id=646649;file:///home/participant/.local/lib/python3.10/site-packages/mcp/client/streamable_http.py\u001b\\\u001b[2mstreamable_http.py\u001b[0m\u001b]8;;\u001b\\\u001b[2m:\u001b[0m\u001b]8;id=739673;file:///home/participant/.local/lib/python3.10/site-packages/mcp/client/streamable_http.py#134\u001b\\\u001b[2m134\u001b[0m\u001b]8;;\u001b\\\n"
      ]
     },
     "metadata": {},
     "output_type": "display_data"
    },
    {
     "data": {
      "text/html": [
       "<pre style=\"white-space:pre;overflow-x:auto;line-height:normal;font-family:Menlo,'DejaVu Sans Mono',consolas,'Courier New',monospace\"><span style=\"color: #7fbfbf; text-decoration-color: #7fbfbf\">                    </span><span style=\"color: #000080; text-decoration-color: #000080\">INFO    </span> Negotiated protocol version: <span style=\"color: #008080; text-decoration-color: #008080; font-weight: bold\">2025</span>-<span style=\"color: #008080; text-decoration-color: #008080; font-weight: bold\">06</span>-<span style=\"color: #008080; text-decoration-color: #008080; font-weight: bold\">18</span>                         <a href=\"file:///home/participant/.local/lib/python3.10/site-packages/mcp/client/streamable_http.py\" target=\"_blank\"><span style=\"color: #7f7f7f; text-decoration-color: #7f7f7f\">streamable_http.py</span></a><span style=\"color: #7f7f7f; text-decoration-color: #7f7f7f\">:</span><a href=\"file:///home/participant/.local/lib/python3.10/site-packages/mcp/client/streamable_http.py#146\" target=\"_blank\"><span style=\"color: #7f7f7f; text-decoration-color: #7f7f7f\">146</span></a>\n",
       "</pre>\n"
      ],
      "text/plain": [
       "\u001b[2;36m                   \u001b[0m\u001b[2;36m \u001b[0m\u001b[34mINFO    \u001b[0m Negotiated protocol version: \u001b[1;36m2025\u001b[0m-\u001b[1;36m06\u001b[0m-\u001b[1;36m18\u001b[0m                         \u001b]8;id=165271;file:///home/participant/.local/lib/python3.10/site-packages/mcp/client/streamable_http.py\u001b\\\u001b[2mstreamable_http.py\u001b[0m\u001b]8;;\u001b\\\u001b[2m:\u001b[0m\u001b]8;id=650004;file:///home/participant/.local/lib/python3.10/site-packages/mcp/client/streamable_http.py#146\u001b\\\u001b[2m146\u001b[0m\u001b]8;;\u001b\\\n"
      ]
     },
     "metadata": {},
     "output_type": "display_data"
    },
    {
     "data": {
      "text/html": [
       "<pre style=\"white-space:pre;overflow-x:auto;line-height:normal;font-family:Menlo,'DejaVu Sans Mono',consolas,'Courier New',monospace\"><span style=\"color: #7fbfbf; text-decoration-color: #7fbfbf\">                    </span><span style=\"color: #000080; text-decoration-color: #000080\">INFO    </span> HTTP Request: <span style=\"color: #808000; text-decoration-color: #808000; font-weight: bold\">GET</span> <span style=\"color: #0000ff; text-decoration-color: #0000ff; text-decoration: underline\">http://localhost:8000/mcp</span> <span style=\"color: #008000; text-decoration-color: #008000\">\"HTTP/1.1 200 OK\"</span>          <a href=\"file:///home/participant/.local/lib/python3.10/site-packages/httpx/_client.py\" target=\"_blank\"><span style=\"color: #7f7f7f; text-decoration-color: #7f7f7f\">_client.py</span></a><span style=\"color: #7f7f7f; text-decoration-color: #7f7f7f\">:</span><a href=\"file:///home/participant/.local/lib/python3.10/site-packages/httpx/_client.py#1740\" target=\"_blank\"><span style=\"color: #7f7f7f; text-decoration-color: #7f7f7f\">1740</span></a>\n",
       "</pre>\n"
      ],
      "text/plain": [
       "\u001b[2;36m                   \u001b[0m\u001b[2;36m \u001b[0m\u001b[34mINFO    \u001b[0m HTTP Request: \u001b[1;33mGET\u001b[0m \u001b[4;94mhttp://localhost:8000/mcp\u001b[0m \u001b[32m\"HTTP/1.1 200 OK\"\u001b[0m          \u001b]8;id=690974;file:///home/participant/.local/lib/python3.10/site-packages/httpx/_client.py\u001b\\\u001b[2m_client.py\u001b[0m\u001b]8;;\u001b\\\u001b[2m:\u001b[0m\u001b]8;id=915153;file:///home/participant/.local/lib/python3.10/site-packages/httpx/_client.py#1740\u001b\\\u001b[2m1740\u001b[0m\u001b]8;;\u001b\\\n"
      ]
     },
     "metadata": {},
     "output_type": "display_data"
    },
    {
     "data": {
      "text/html": [
       "<pre style=\"white-space:pre;overflow-x:auto;line-height:normal;font-family:Menlo,'DejaVu Sans Mono',consolas,'Courier New',monospace\"><span style=\"color: #7fbfbf; text-decoration-color: #7fbfbf\">                    </span><span style=\"color: #000080; text-decoration-color: #000080\">INFO    </span> HTTP Request: <span style=\"color: #808000; text-decoration-color: #808000; font-weight: bold\">POST</span> <span style=\"color: #0000ff; text-decoration-color: #0000ff; text-decoration: underline\">http://localhost:8000/mcp</span> <span style=\"color: #008000; text-decoration-color: #008000\">\"HTTP/1.1 202 Accepted\"</span>   <a href=\"file:///home/participant/.local/lib/python3.10/site-packages/httpx/_client.py\" target=\"_blank\"><span style=\"color: #7f7f7f; text-decoration-color: #7f7f7f\">_client.py</span></a><span style=\"color: #7f7f7f; text-decoration-color: #7f7f7f\">:</span><a href=\"file:///home/participant/.local/lib/python3.10/site-packages/httpx/_client.py#1740\" target=\"_blank\"><span style=\"color: #7f7f7f; text-decoration-color: #7f7f7f\">1740</span></a>\n",
       "</pre>\n"
      ],
      "text/plain": [
       "\u001b[2;36m                   \u001b[0m\u001b[2;36m \u001b[0m\u001b[34mINFO    \u001b[0m HTTP Request: \u001b[1;33mPOST\u001b[0m \u001b[4;94mhttp://localhost:8000/mcp\u001b[0m \u001b[32m\"HTTP/1.1 202 Accepted\"\u001b[0m   \u001b]8;id=269097;file:///home/participant/.local/lib/python3.10/site-packages/httpx/_client.py\u001b\\\u001b[2m_client.py\u001b[0m\u001b]8;;\u001b\\\u001b[2m:\u001b[0m\u001b]8;id=325852;file:///home/participant/.local/lib/python3.10/site-packages/httpx/_client.py#1740\u001b\\\u001b[2m1740\u001b[0m\u001b]8;;\u001b\\\n"
      ]
     },
     "metadata": {},
     "output_type": "display_data"
    },
    {
     "data": {
      "text/html": [
       "<pre style=\"white-space:pre;overflow-x:auto;line-height:normal;font-family:Menlo,'DejaVu Sans Mono',consolas,'Courier New',monospace\"><span style=\"color: #7fbfbf; text-decoration-color: #7fbfbf\">                    </span><span style=\"color: #000080; text-decoration-color: #000080\">INFO    </span> Processing request of type ListToolsRequest                              <a href=\"file:///home/participant/.local/lib/python3.10/site-packages/mcp/server/lowlevel/server.py\" target=\"_blank\"><span style=\"color: #7f7f7f; text-decoration-color: #7f7f7f\">server.py</span></a><span style=\"color: #7f7f7f; text-decoration-color: #7f7f7f\">:</span><a href=\"file:///home/participant/.local/lib/python3.10/site-packages/mcp/server/lowlevel/server.py#624\" target=\"_blank\"><span style=\"color: #7f7f7f; text-decoration-color: #7f7f7f\">624</span></a>\n",
       "</pre>\n"
      ],
      "text/plain": [
       "\u001b[2;36m                   \u001b[0m\u001b[2;36m \u001b[0m\u001b[34mINFO    \u001b[0m Processing request of type ListToolsRequest                              \u001b]8;id=539235;file:///home/participant/.local/lib/python3.10/site-packages/mcp/server/lowlevel/server.py\u001b\\\u001b[2mserver.py\u001b[0m\u001b]8;;\u001b\\\u001b[2m:\u001b[0m\u001b]8;id=650566;file:///home/participant/.local/lib/python3.10/site-packages/mcp/server/lowlevel/server.py#624\u001b\\\u001b[2m624\u001b[0m\u001b]8;;\u001b\\\n"
      ]
     },
     "metadata": {},
     "output_type": "display_data"
    },
    {
     "data": {
      "text/html": [
       "<pre style=\"white-space:pre;overflow-x:auto;line-height:normal;font-family:Menlo,'DejaVu Sans Mono',consolas,'Courier New',monospace\"><span style=\"color: #7fbfbf; text-decoration-color: #7fbfbf\">                    </span><span style=\"color: #000080; text-decoration-color: #000080\">INFO    </span> HTTP Request: <span style=\"color: #808000; text-decoration-color: #808000; font-weight: bold\">POST</span> <span style=\"color: #0000ff; text-decoration-color: #0000ff; text-decoration: underline\">http://localhost:8000/mcp</span> <span style=\"color: #008000; text-decoration-color: #008000\">\"HTTP/1.1 200 OK\"</span>         <a href=\"file:///home/participant/.local/lib/python3.10/site-packages/httpx/_client.py\" target=\"_blank\"><span style=\"color: #7f7f7f; text-decoration-color: #7f7f7f\">_client.py</span></a><span style=\"color: #7f7f7f; text-decoration-color: #7f7f7f\">:</span><a href=\"file:///home/participant/.local/lib/python3.10/site-packages/httpx/_client.py#1740\" target=\"_blank\"><span style=\"color: #7f7f7f; text-decoration-color: #7f7f7f\">1740</span></a>\n",
       "</pre>\n"
      ],
      "text/plain": [
       "\u001b[2;36m                   \u001b[0m\u001b[2;36m \u001b[0m\u001b[34mINFO    \u001b[0m HTTP Request: \u001b[1;33mPOST\u001b[0m \u001b[4;94mhttp://localhost:8000/mcp\u001b[0m \u001b[32m\"HTTP/1.1 200 OK\"\u001b[0m         \u001b]8;id=655010;file:///home/participant/.local/lib/python3.10/site-packages/httpx/_client.py\u001b\\\u001b[2m_client.py\u001b[0m\u001b]8;;\u001b\\\u001b[2m:\u001b[0m\u001b]8;id=454478;file:///home/participant/.local/lib/python3.10/site-packages/httpx/_client.py#1740\u001b\\\u001b[2m1740\u001b[0m\u001b]8;;\u001b\\\n"
      ]
     },
     "metadata": {},
     "output_type": "display_data"
    },
    {
     "data": {
      "text/html": [
       "<pre style=\"white-space:pre;overflow-x:auto;line-height:normal;font-family:Menlo,'DejaVu Sans Mono',consolas,'Courier New',monospace\"><span style=\"color: #7fbfbf; text-decoration-color: #7fbfbf\">                    </span><span style=\"color: #000080; text-decoration-color: #000080\">INFO    </span> Found credentials from IAM Role:                                   <a href=\"file:///home/participant/.local/lib/python3.10/site-packages/botocore/credentials.py\" target=\"_blank\"><span style=\"color: #7f7f7f; text-decoration-color: #7f7f7f\">credentials.py</span></a><span style=\"color: #7f7f7f; text-decoration-color: #7f7f7f\">:</span><a href=\"file:///home/participant/.local/lib/python3.10/site-packages/botocore/credentials.py#1138\" target=\"_blank\"><span style=\"color: #7f7f7f; text-decoration-color: #7f7f7f\">1138</span></a>\n",
       "<span style=\"color: #7fbfbf; text-decoration-color: #7fbfbf\">                    </span>         CodeEditorV2-CodeEditorInstanceBootstrapRole-etk4tqcPN52E          <span style=\"color: #7f7f7f; text-decoration-color: #7f7f7f\">                   </span>\n",
       "</pre>\n"
      ],
      "text/plain": [
       "\u001b[2;36m                   \u001b[0m\u001b[2;36m \u001b[0m\u001b[34mINFO    \u001b[0m Found credentials from IAM Role:                                   \u001b]8;id=530638;file:///home/participant/.local/lib/python3.10/site-packages/botocore/credentials.py\u001b\\\u001b[2mcredentials.py\u001b[0m\u001b]8;;\u001b\\\u001b[2m:\u001b[0m\u001b]8;id=84153;file:///home/participant/.local/lib/python3.10/site-packages/botocore/credentials.py#1138\u001b\\\u001b[2m1138\u001b[0m\u001b]8;;\u001b\\\n",
       "\u001b[2;36m                    \u001b[0m         CodeEditorV2-CodeEditorInstanceBootstrapRole-etk4tqcPN52E          \u001b[2m                   \u001b[0m\n"
      ]
     },
     "metadata": {},
     "output_type": "display_data"
    },
    {
     "name": "stdout",
     "output_type": "stream",
     "text": [
      "I can help you calculate 2 + 2 using the calculator tool.\n",
      "Tool #1: calculator\n"
     ]
    },
    {
     "data": {
      "text/html": [
       "<pre style=\"white-space:pre;overflow-x:auto;line-height:normal;font-family:Menlo,'DejaVu Sans Mono',consolas,'Courier New',monospace\"><span style=\"color: #7fbfbf; text-decoration-color: #7fbfbf\">[09/04/25 02:06:30] </span><span style=\"color: #000080; text-decoration-color: #000080\">INFO    </span> Processing request of type CallToolRequest                               <a href=\"file:///home/participant/.local/lib/python3.10/site-packages/mcp/server/lowlevel/server.py\" target=\"_blank\"><span style=\"color: #7f7f7f; text-decoration-color: #7f7f7f\">server.py</span></a><span style=\"color: #7f7f7f; text-decoration-color: #7f7f7f\">:</span><a href=\"file:///home/participant/.local/lib/python3.10/site-packages/mcp/server/lowlevel/server.py#624\" target=\"_blank\"><span style=\"color: #7f7f7f; text-decoration-color: #7f7f7f\">624</span></a>\n",
       "</pre>\n"
      ],
      "text/plain": [
       "\u001b[2;36m[09/04/25 02:06:30]\u001b[0m\u001b[2;36m \u001b[0m\u001b[34mINFO    \u001b[0m Processing request of type CallToolRequest                               \u001b]8;id=64225;file:///home/participant/.local/lib/python3.10/site-packages/mcp/server/lowlevel/server.py\u001b\\\u001b[2mserver.py\u001b[0m\u001b]8;;\u001b\\\u001b[2m:\u001b[0m\u001b]8;id=642819;file:///home/participant/.local/lib/python3.10/site-packages/mcp/server/lowlevel/server.py#624\u001b\\\u001b[2m624\u001b[0m\u001b]8;;\u001b\\\n"
      ]
     },
     "metadata": {},
     "output_type": "display_data"
    },
    {
     "data": {
      "text/html": [
       "<pre style=\"white-space:pre;overflow-x:auto;line-height:normal;font-family:Menlo,'DejaVu Sans Mono',consolas,'Courier New',monospace\"><span style=\"color: #7fbfbf; text-decoration-color: #7fbfbf\">                    </span><span style=\"color: #000080; text-decoration-color: #000080\">INFO    </span> HTTP Request: <span style=\"color: #808000; text-decoration-color: #808000; font-weight: bold\">POST</span> <span style=\"color: #0000ff; text-decoration-color: #0000ff; text-decoration: underline\">http://localhost:8000/mcp</span> <span style=\"color: #008000; text-decoration-color: #008000\">\"HTTP/1.1 200 OK\"</span>         <a href=\"file:///home/participant/.local/lib/python3.10/site-packages/httpx/_client.py\" target=\"_blank\"><span style=\"color: #7f7f7f; text-decoration-color: #7f7f7f\">_client.py</span></a><span style=\"color: #7f7f7f; text-decoration-color: #7f7f7f\">:</span><a href=\"file:///home/participant/.local/lib/python3.10/site-packages/httpx/_client.py#1740\" target=\"_blank\"><span style=\"color: #7f7f7f; text-decoration-color: #7f7f7f\">1740</span></a>\n",
       "</pre>\n"
      ],
      "text/plain": [
       "\u001b[2;36m                   \u001b[0m\u001b[2;36m \u001b[0m\u001b[34mINFO    \u001b[0m HTTP Request: \u001b[1;33mPOST\u001b[0m \u001b[4;94mhttp://localhost:8000/mcp\u001b[0m \u001b[32m\"HTTP/1.1 200 OK\"\u001b[0m         \u001b]8;id=852495;file:///home/participant/.local/lib/python3.10/site-packages/httpx/_client.py\u001b\\\u001b[2m_client.py\u001b[0m\u001b]8;;\u001b\\\u001b[2m:\u001b[0m\u001b]8;id=499637;file:///home/participant/.local/lib/python3.10/site-packages/httpx/_client.py#1740\u001b\\\u001b[2m1740\u001b[0m\u001b]8;;\u001b\\\n"
      ]
     },
     "metadata": {},
     "output_type": "display_data"
    },
    {
     "name": "stdout",
     "output_type": "stream",
     "text": [
      "The result of 2 + 2 is 4."
     ]
    },
    {
     "data": {
      "text/html": [
       "<pre style=\"white-space:pre;overflow-x:auto;line-height:normal;font-family:Menlo,'DejaVu Sans Mono',consolas,'Courier New',monospace\"><span style=\"color: #7fbfbf; text-decoration-color: #7fbfbf\">[09/04/25 02:06:31] </span><span style=\"color: #000080; text-decoration-color: #000080\">INFO    </span> Terminating session: cce608b8a4894bd98ed63845f73d6959           <a href=\"file:///home/participant/.local/lib/python3.10/site-packages/mcp/server/streamable_http.py\" target=\"_blank\"><span style=\"color: #7f7f7f; text-decoration-color: #7f7f7f\">streamable_http.py</span></a><span style=\"color: #7f7f7f; text-decoration-color: #7f7f7f\">:</span><a href=\"file:///home/participant/.local/lib/python3.10/site-packages/mcp/server/streamable_http.py#630\" target=\"_blank\"><span style=\"color: #7f7f7f; text-decoration-color: #7f7f7f\">630</span></a>\n",
       "</pre>\n"
      ],
      "text/plain": [
       "\u001b[2;36m[09/04/25 02:06:31]\u001b[0m\u001b[2;36m \u001b[0m\u001b[34mINFO    \u001b[0m Terminating session: cce608b8a4894bd98ed63845f73d6959           \u001b]8;id=941072;file:///home/participant/.local/lib/python3.10/site-packages/mcp/server/streamable_http.py\u001b\\\u001b[2mstreamable_http.py\u001b[0m\u001b]8;;\u001b\\\u001b[2m:\u001b[0m\u001b]8;id=303564;file:///home/participant/.local/lib/python3.10/site-packages/mcp/server/streamable_http.py#630\u001b\\\u001b[2m630\u001b[0m\u001b]8;;\u001b\\\n"
      ]
     },
     "metadata": {},
     "output_type": "display_data"
    },
    {
     "data": {
      "text/html": [
       "<pre style=\"white-space:pre;overflow-x:auto;line-height:normal;font-family:Menlo,'DejaVu Sans Mono',consolas,'Courier New',monospace\"><span style=\"color: #7fbfbf; text-decoration-color: #7fbfbf\">                    </span><span style=\"color: #000080; text-decoration-color: #000080\">INFO    </span> HTTP Request: <span style=\"color: #808000; text-decoration-color: #808000; font-weight: bold\">DELETE</span> <span style=\"color: #0000ff; text-decoration-color: #0000ff; text-decoration: underline\">http://localhost:8000/mcp</span> <span style=\"color: #008000; text-decoration-color: #008000\">\"HTTP/1.1 200 OK\"</span>       <a href=\"file:///home/participant/.local/lib/python3.10/site-packages/httpx/_client.py\" target=\"_blank\"><span style=\"color: #7f7f7f; text-decoration-color: #7f7f7f\">_client.py</span></a><span style=\"color: #7f7f7f; text-decoration-color: #7f7f7f\">:</span><a href=\"file:///home/participant/.local/lib/python3.10/site-packages/httpx/_client.py#1740\" target=\"_blank\"><span style=\"color: #7f7f7f; text-decoration-color: #7f7f7f\">1740</span></a>\n",
       "</pre>\n"
      ],
      "text/plain": [
       "\u001b[2;36m                   \u001b[0m\u001b[2;36m \u001b[0m\u001b[34mINFO    \u001b[0m HTTP Request: \u001b[1;33mDELETE\u001b[0m \u001b[4;94mhttp://localhost:8000/mcp\u001b[0m \u001b[32m\"HTTP/1.1 200 OK\"\u001b[0m       \u001b]8;id=16869;file:///home/participant/.local/lib/python3.10/site-packages/httpx/_client.py\u001b\\\u001b[2m_client.py\u001b[0m\u001b]8;;\u001b\\\u001b[2m:\u001b[0m\u001b]8;id=195014;file:///home/participant/.local/lib/python3.10/site-packages/httpx/_client.py#1740\u001b\\\u001b[2m1740\u001b[0m\u001b]8;;\u001b\\\n"
      ]
     },
     "metadata": {},
     "output_type": "display_data"
    }
   ],
   "source": [
    "with streamable_http_mcp_client:\n",
    "    tools = streamable_http_mcp_client.list_tools_sync()\n",
    "\n",
    "    agent = Agent(\n",
    "        model=\"us.anthropic.claude-3-7-sonnet-20250219-v1:0\",\n",
    "        tools=tools)\n",
    "\n",
    "    response = str(agent(\"What is 2 + 2?\"))"
   ]
  },
  {
   "cell_type": "markdown",
   "metadata": {},
   "source": [
    "### Direct Tool Invocation / 直接工具调用"
   ]
  },
  {
   "cell_type": "markdown",
   "metadata": {},
   "source": [
    "While tools are typically invoked by the agent based on user requests, you can also call MCP tools directly. This can be useful for workflow scenarios where you orchestrate multiple tools together.\n",
    "\n",
    "虽然工具通常由代理根据用户请求调用，但您也可以直接调用 MCP 工具。这对于需要协调多个工具的工作流场景很有用。"
   ]
  },
  {
   "cell_type": "code",
   "execution_count": 9,
   "metadata": {},
   "outputs": [
    {
     "data": {
      "text/html": [
       "<pre style=\"white-space:pre;overflow-x:auto;line-height:normal;font-family:Menlo,'DejaVu Sans Mono',consolas,'Courier New',monospace\"><span style=\"color: #7fbfbf; text-decoration-color: #7fbfbf\">[09/04/25 02:06:37] </span><span style=\"color: #000080; text-decoration-color: #000080\">INFO    </span> Created new transport with session ID:                  <a href=\"file:///home/participant/.local/lib/python3.10/site-packages/mcp/server/streamable_http_manager.py\" target=\"_blank\"><span style=\"color: #7f7f7f; text-decoration-color: #7f7f7f\">streamable_http_manager.py</span></a><span style=\"color: #7f7f7f; text-decoration-color: #7f7f7f\">:</span><a href=\"file:///home/participant/.local/lib/python3.10/site-packages/mcp/server/streamable_http_manager.py#233\" target=\"_blank\"><span style=\"color: #7f7f7f; text-decoration-color: #7f7f7f\">233</span></a>\n",
       "<span style=\"color: #7fbfbf; text-decoration-color: #7fbfbf\">                    </span>         8d65fcd2bb8040898eb06247650495f3                        <span style=\"color: #7f7f7f; text-decoration-color: #7f7f7f\">                              </span>\n",
       "</pre>\n"
      ],
      "text/plain": [
       "\u001b[2;36m[09/04/25 02:06:37]\u001b[0m\u001b[2;36m \u001b[0m\u001b[34mINFO    \u001b[0m Created new transport with session ID:                  \u001b]8;id=645775;file:///home/participant/.local/lib/python3.10/site-packages/mcp/server/streamable_http_manager.py\u001b\\\u001b[2mstreamable_http_manager.py\u001b[0m\u001b]8;;\u001b\\\u001b[2m:\u001b[0m\u001b]8;id=936887;file:///home/participant/.local/lib/python3.10/site-packages/mcp/server/streamable_http_manager.py#233\u001b\\\u001b[2m233\u001b[0m\u001b]8;;\u001b\\\n",
       "\u001b[2;36m                    \u001b[0m         8d65fcd2bb8040898eb06247650495f3                        \u001b[2m                              \u001b[0m\n"
      ]
     },
     "metadata": {},
     "output_type": "display_data"
    },
    {
     "data": {
      "text/html": [
       "<pre style=\"white-space:pre;overflow-x:auto;line-height:normal;font-family:Menlo,'DejaVu Sans Mono',consolas,'Courier New',monospace\"><span style=\"color: #7fbfbf; text-decoration-color: #7fbfbf\">                    </span><span style=\"color: #000080; text-decoration-color: #000080\">INFO    </span> HTTP Request: <span style=\"color: #808000; text-decoration-color: #808000; font-weight: bold\">POST</span> <span style=\"color: #0000ff; text-decoration-color: #0000ff; text-decoration: underline\">http://localhost:8000/mcp</span> <span style=\"color: #008000; text-decoration-color: #008000\">\"HTTP/1.1 200 OK\"</span>         <a href=\"file:///home/participant/.local/lib/python3.10/site-packages/httpx/_client.py\" target=\"_blank\"><span style=\"color: #7f7f7f; text-decoration-color: #7f7f7f\">_client.py</span></a><span style=\"color: #7f7f7f; text-decoration-color: #7f7f7f\">:</span><a href=\"file:///home/participant/.local/lib/python3.10/site-packages/httpx/_client.py#1740\" target=\"_blank\"><span style=\"color: #7f7f7f; text-decoration-color: #7f7f7f\">1740</span></a>\n",
       "</pre>\n"
      ],
      "text/plain": [
       "\u001b[2;36m                   \u001b[0m\u001b[2;36m \u001b[0m\u001b[34mINFO    \u001b[0m HTTP Request: \u001b[1;33mPOST\u001b[0m \u001b[4;94mhttp://localhost:8000/mcp\u001b[0m \u001b[32m\"HTTP/1.1 200 OK\"\u001b[0m         \u001b]8;id=868356;file:///home/participant/.local/lib/python3.10/site-packages/httpx/_client.py\u001b\\\u001b[2m_client.py\u001b[0m\u001b]8;;\u001b\\\u001b[2m:\u001b[0m\u001b]8;id=949408;file:///home/participant/.local/lib/python3.10/site-packages/httpx/_client.py#1740\u001b\\\u001b[2m1740\u001b[0m\u001b]8;;\u001b\\\n"
      ]
     },
     "metadata": {},
     "output_type": "display_data"
    },
    {
     "data": {
      "text/html": [
       "<pre style=\"white-space:pre;overflow-x:auto;line-height:normal;font-family:Menlo,'DejaVu Sans Mono',consolas,'Courier New',monospace\"><span style=\"color: #7fbfbf; text-decoration-color: #7fbfbf\">                    </span><span style=\"color: #000080; text-decoration-color: #000080\">INFO    </span> Received session ID: 8d65fcd2bb8040898eb06247650495f3           <a href=\"file:///home/participant/.local/lib/python3.10/site-packages/mcp/client/streamable_http.py\" target=\"_blank\"><span style=\"color: #7f7f7f; text-decoration-color: #7f7f7f\">streamable_http.py</span></a><span style=\"color: #7f7f7f; text-decoration-color: #7f7f7f\">:</span><a href=\"file:///home/participant/.local/lib/python3.10/site-packages/mcp/client/streamable_http.py#134\" target=\"_blank\"><span style=\"color: #7f7f7f; text-decoration-color: #7f7f7f\">134</span></a>\n",
       "</pre>\n"
      ],
      "text/plain": [
       "\u001b[2;36m                   \u001b[0m\u001b[2;36m \u001b[0m\u001b[34mINFO    \u001b[0m Received session ID: 8d65fcd2bb8040898eb06247650495f3           \u001b]8;id=645617;file:///home/participant/.local/lib/python3.10/site-packages/mcp/client/streamable_http.py\u001b\\\u001b[2mstreamable_http.py\u001b[0m\u001b]8;;\u001b\\\u001b[2m:\u001b[0m\u001b]8;id=512275;file:///home/participant/.local/lib/python3.10/site-packages/mcp/client/streamable_http.py#134\u001b\\\u001b[2m134\u001b[0m\u001b]8;;\u001b\\\n"
      ]
     },
     "metadata": {},
     "output_type": "display_data"
    },
    {
     "data": {
      "text/html": [
       "<pre style=\"white-space:pre;overflow-x:auto;line-height:normal;font-family:Menlo,'DejaVu Sans Mono',consolas,'Courier New',monospace\"><span style=\"color: #7fbfbf; text-decoration-color: #7fbfbf\">                    </span><span style=\"color: #000080; text-decoration-color: #000080\">INFO    </span> Negotiated protocol version: <span style=\"color: #008080; text-decoration-color: #008080; font-weight: bold\">2025</span>-<span style=\"color: #008080; text-decoration-color: #008080; font-weight: bold\">06</span>-<span style=\"color: #008080; text-decoration-color: #008080; font-weight: bold\">18</span>                         <a href=\"file:///home/participant/.local/lib/python3.10/site-packages/mcp/client/streamable_http.py\" target=\"_blank\"><span style=\"color: #7f7f7f; text-decoration-color: #7f7f7f\">streamable_http.py</span></a><span style=\"color: #7f7f7f; text-decoration-color: #7f7f7f\">:</span><a href=\"file:///home/participant/.local/lib/python3.10/site-packages/mcp/client/streamable_http.py#146\" target=\"_blank\"><span style=\"color: #7f7f7f; text-decoration-color: #7f7f7f\">146</span></a>\n",
       "</pre>\n"
      ],
      "text/plain": [
       "\u001b[2;36m                   \u001b[0m\u001b[2;36m \u001b[0m\u001b[34mINFO    \u001b[0m Negotiated protocol version: \u001b[1;36m2025\u001b[0m-\u001b[1;36m06\u001b[0m-\u001b[1;36m18\u001b[0m                         \u001b]8;id=283571;file:///home/participant/.local/lib/python3.10/site-packages/mcp/client/streamable_http.py\u001b\\\u001b[2mstreamable_http.py\u001b[0m\u001b]8;;\u001b\\\u001b[2m:\u001b[0m\u001b]8;id=685194;file:///home/participant/.local/lib/python3.10/site-packages/mcp/client/streamable_http.py#146\u001b\\\u001b[2m146\u001b[0m\u001b]8;;\u001b\\\n"
      ]
     },
     "metadata": {},
     "output_type": "display_data"
    },
    {
     "data": {
      "text/html": [
       "<pre style=\"white-space:pre;overflow-x:auto;line-height:normal;font-family:Menlo,'DejaVu Sans Mono',consolas,'Courier New',monospace\"><span style=\"color: #7fbfbf; text-decoration-color: #7fbfbf\">                    </span><span style=\"color: #000080; text-decoration-color: #000080\">INFO    </span> HTTP Request: <span style=\"color: #808000; text-decoration-color: #808000; font-weight: bold\">GET</span> <span style=\"color: #0000ff; text-decoration-color: #0000ff; text-decoration: underline\">http://localhost:8000/mcp</span> <span style=\"color: #008000; text-decoration-color: #008000\">\"HTTP/1.1 200 OK\"</span>          <a href=\"file:///home/participant/.local/lib/python3.10/site-packages/httpx/_client.py\" target=\"_blank\"><span style=\"color: #7f7f7f; text-decoration-color: #7f7f7f\">_client.py</span></a><span style=\"color: #7f7f7f; text-decoration-color: #7f7f7f\">:</span><a href=\"file:///home/participant/.local/lib/python3.10/site-packages/httpx/_client.py#1740\" target=\"_blank\"><span style=\"color: #7f7f7f; text-decoration-color: #7f7f7f\">1740</span></a>\n",
       "</pre>\n"
      ],
      "text/plain": [
       "\u001b[2;36m                   \u001b[0m\u001b[2;36m \u001b[0m\u001b[34mINFO    \u001b[0m HTTP Request: \u001b[1;33mGET\u001b[0m \u001b[4;94mhttp://localhost:8000/mcp\u001b[0m \u001b[32m\"HTTP/1.1 200 OK\"\u001b[0m          \u001b]8;id=837118;file:///home/participant/.local/lib/python3.10/site-packages/httpx/_client.py\u001b\\\u001b[2m_client.py\u001b[0m\u001b]8;;\u001b\\\u001b[2m:\u001b[0m\u001b]8;id=601009;file:///home/participant/.local/lib/python3.10/site-packages/httpx/_client.py#1740\u001b\\\u001b[2m1740\u001b[0m\u001b]8;;\u001b\\\n"
      ]
     },
     "metadata": {},
     "output_type": "display_data"
    },
    {
     "data": {
      "text/html": [
       "<pre style=\"white-space:pre;overflow-x:auto;line-height:normal;font-family:Menlo,'DejaVu Sans Mono',consolas,'Courier New',monospace\"><span style=\"color: #7fbfbf; text-decoration-color: #7fbfbf\">                    </span><span style=\"color: #000080; text-decoration-color: #000080\">INFO    </span> HTTP Request: <span style=\"color: #808000; text-decoration-color: #808000; font-weight: bold\">POST</span> <span style=\"color: #0000ff; text-decoration-color: #0000ff; text-decoration: underline\">http://localhost:8000/mcp</span> <span style=\"color: #008000; text-decoration-color: #008000\">\"HTTP/1.1 202 Accepted\"</span>   <a href=\"file:///home/participant/.local/lib/python3.10/site-packages/httpx/_client.py\" target=\"_blank\"><span style=\"color: #7f7f7f; text-decoration-color: #7f7f7f\">_client.py</span></a><span style=\"color: #7f7f7f; text-decoration-color: #7f7f7f\">:</span><a href=\"file:///home/participant/.local/lib/python3.10/site-packages/httpx/_client.py#1740\" target=\"_blank\"><span style=\"color: #7f7f7f; text-decoration-color: #7f7f7f\">1740</span></a>\n",
       "</pre>\n"
      ],
      "text/plain": [
       "\u001b[2;36m                   \u001b[0m\u001b[2;36m \u001b[0m\u001b[34mINFO    \u001b[0m HTTP Request: \u001b[1;33mPOST\u001b[0m \u001b[4;94mhttp://localhost:8000/mcp\u001b[0m \u001b[32m\"HTTP/1.1 202 Accepted\"\u001b[0m   \u001b]8;id=156527;file:///home/participant/.local/lib/python3.10/site-packages/httpx/_client.py\u001b\\\u001b[2m_client.py\u001b[0m\u001b]8;;\u001b\\\u001b[2m:\u001b[0m\u001b]8;id=993243;file:///home/participant/.local/lib/python3.10/site-packages/httpx/_client.py#1740\u001b\\\u001b[2m1740\u001b[0m\u001b]8;;\u001b\\\n"
      ]
     },
     "metadata": {},
     "output_type": "display_data"
    },
    {
     "data": {
      "text/html": [
       "<pre style=\"white-space:pre;overflow-x:auto;line-height:normal;font-family:Menlo,'DejaVu Sans Mono',consolas,'Courier New',monospace\"><span style=\"color: #7fbfbf; text-decoration-color: #7fbfbf\">                    </span><span style=\"color: #000080; text-decoration-color: #000080\">INFO    </span> Processing request of type CallToolRequest                               <a href=\"file:///home/participant/.local/lib/python3.10/site-packages/mcp/server/lowlevel/server.py\" target=\"_blank\"><span style=\"color: #7f7f7f; text-decoration-color: #7f7f7f\">server.py</span></a><span style=\"color: #7f7f7f; text-decoration-color: #7f7f7f\">:</span><a href=\"file:///home/participant/.local/lib/python3.10/site-packages/mcp/server/lowlevel/server.py#624\" target=\"_blank\"><span style=\"color: #7f7f7f; text-decoration-color: #7f7f7f\">624</span></a>\n",
       "</pre>\n"
      ],
      "text/plain": [
       "\u001b[2;36m                   \u001b[0m\u001b[2;36m \u001b[0m\u001b[34mINFO    \u001b[0m Processing request of type CallToolRequest                               \u001b]8;id=473325;file:///home/participant/.local/lib/python3.10/site-packages/mcp/server/lowlevel/server.py\u001b\\\u001b[2mserver.py\u001b[0m\u001b]8;;\u001b\\\u001b[2m:\u001b[0m\u001b]8;id=470241;file:///home/participant/.local/lib/python3.10/site-packages/mcp/server/lowlevel/server.py#624\u001b\\\u001b[2m624\u001b[0m\u001b]8;;\u001b\\\n"
      ]
     },
     "metadata": {},
     "output_type": "display_data"
    },
    {
     "data": {
      "text/html": [
       "<pre style=\"white-space:pre;overflow-x:auto;line-height:normal;font-family:Menlo,'DejaVu Sans Mono',consolas,'Courier New',monospace\"><span style=\"color: #7fbfbf; text-decoration-color: #7fbfbf\">                    </span><span style=\"color: #000080; text-decoration-color: #000080\">INFO    </span> HTTP Request: <span style=\"color: #808000; text-decoration-color: #808000; font-weight: bold\">POST</span> <span style=\"color: #0000ff; text-decoration-color: #0000ff; text-decoration: underline\">http://localhost:8000/mcp</span> <span style=\"color: #008000; text-decoration-color: #008000\">\"HTTP/1.1 200 OK\"</span>         <a href=\"file:///home/participant/.local/lib/python3.10/site-packages/httpx/_client.py\" target=\"_blank\"><span style=\"color: #7f7f7f; text-decoration-color: #7f7f7f\">_client.py</span></a><span style=\"color: #7f7f7f; text-decoration-color: #7f7f7f\">:</span><a href=\"file:///home/participant/.local/lib/python3.10/site-packages/httpx/_client.py#1740\" target=\"_blank\"><span style=\"color: #7f7f7f; text-decoration-color: #7f7f7f\">1740</span></a>\n",
       "</pre>\n"
      ],
      "text/plain": [
       "\u001b[2;36m                   \u001b[0m\u001b[2;36m \u001b[0m\u001b[34mINFO    \u001b[0m HTTP Request: \u001b[1;33mPOST\u001b[0m \u001b[4;94mhttp://localhost:8000/mcp\u001b[0m \u001b[32m\"HTTP/1.1 200 OK\"\u001b[0m         \u001b]8;id=930660;file:///home/participant/.local/lib/python3.10/site-packages/httpx/_client.py\u001b\\\u001b[2m_client.py\u001b[0m\u001b]8;;\u001b\\\u001b[2m:\u001b[0m\u001b]8;id=891615;file:///home/participant/.local/lib/python3.10/site-packages/httpx/_client.py#1740\u001b\\\u001b[2m1740\u001b[0m\u001b]8;;\u001b\\\n"
      ]
     },
     "metadata": {},
     "output_type": "display_data"
    },
    {
     "data": {
      "text/html": [
       "<pre style=\"white-space:pre;overflow-x:auto;line-height:normal;font-family:Menlo,'DejaVu Sans Mono',consolas,'Courier New',monospace\"><span style=\"color: #7fbfbf; text-decoration-color: #7fbfbf\">                    </span><span style=\"color: #000080; text-decoration-color: #000080\">INFO    </span> Processing request of type ListToolsRequest                              <a href=\"file:///home/participant/.local/lib/python3.10/site-packages/mcp/server/lowlevel/server.py\" target=\"_blank\"><span style=\"color: #7f7f7f; text-decoration-color: #7f7f7f\">server.py</span></a><span style=\"color: #7f7f7f; text-decoration-color: #7f7f7f\">:</span><a href=\"file:///home/participant/.local/lib/python3.10/site-packages/mcp/server/lowlevel/server.py#624\" target=\"_blank\"><span style=\"color: #7f7f7f; text-decoration-color: #7f7f7f\">624</span></a>\n",
       "</pre>\n"
      ],
      "text/plain": [
       "\u001b[2;36m                   \u001b[0m\u001b[2;36m \u001b[0m\u001b[34mINFO    \u001b[0m Processing request of type ListToolsRequest                              \u001b]8;id=520920;file:///home/participant/.local/lib/python3.10/site-packages/mcp/server/lowlevel/server.py\u001b\\\u001b[2mserver.py\u001b[0m\u001b]8;;\u001b\\\u001b[2m:\u001b[0m\u001b]8;id=719421;file:///home/participant/.local/lib/python3.10/site-packages/mcp/server/lowlevel/server.py#624\u001b\\\u001b[2m624\u001b[0m\u001b]8;;\u001b\\\n"
      ]
     },
     "metadata": {},
     "output_type": "display_data"
    },
    {
     "data": {
      "text/html": [
       "<pre style=\"white-space:pre;overflow-x:auto;line-height:normal;font-family:Menlo,'DejaVu Sans Mono',consolas,'Courier New',monospace\"><span style=\"color: #7fbfbf; text-decoration-color: #7fbfbf\">                    </span><span style=\"color: #000080; text-decoration-color: #000080\">INFO    </span> HTTP Request: <span style=\"color: #808000; text-decoration-color: #808000; font-weight: bold\">POST</span> <span style=\"color: #0000ff; text-decoration-color: #0000ff; text-decoration: underline\">http://localhost:8000/mcp</span> <span style=\"color: #008000; text-decoration-color: #008000\">\"HTTP/1.1 200 OK\"</span>         <a href=\"file:///home/participant/.local/lib/python3.10/site-packages/httpx/_client.py\" target=\"_blank\"><span style=\"color: #7f7f7f; text-decoration-color: #7f7f7f\">_client.py</span></a><span style=\"color: #7f7f7f; text-decoration-color: #7f7f7f\">:</span><a href=\"file:///home/participant/.local/lib/python3.10/site-packages/httpx/_client.py#1740\" target=\"_blank\"><span style=\"color: #7f7f7f; text-decoration-color: #7f7f7f\">1740</span></a>\n",
       "</pre>\n"
      ],
      "text/plain": [
       "\u001b[2;36m                   \u001b[0m\u001b[2;36m \u001b[0m\u001b[34mINFO    \u001b[0m HTTP Request: \u001b[1;33mPOST\u001b[0m \u001b[4;94mhttp://localhost:8000/mcp\u001b[0m \u001b[32m\"HTTP/1.1 200 OK\"\u001b[0m         \u001b]8;id=852801;file:///home/participant/.local/lib/python3.10/site-packages/httpx/_client.py\u001b\\\u001b[2m_client.py\u001b[0m\u001b]8;;\u001b\\\u001b[2m:\u001b[0m\u001b]8;id=992707;file:///home/participant/.local/lib/python3.10/site-packages/httpx/_client.py#1740\u001b\\\u001b[2m1740\u001b[0m\u001b]8;;\u001b\\\n"
      ]
     },
     "metadata": {},
     "output_type": "display_data"
    },
    {
     "name": "stdout",
     "output_type": "stream",
     "text": [
      "Calculation result: 30\n"
     ]
    },
    {
     "data": {
      "text/html": [
       "<pre style=\"white-space:pre;overflow-x:auto;line-height:normal;font-family:Menlo,'DejaVu Sans Mono',consolas,'Courier New',monospace\"><span style=\"color: #7fbfbf; text-decoration-color: #7fbfbf\">                    </span><span style=\"color: #000080; text-decoration-color: #000080\">INFO    </span> Terminating session: 8d65fcd2bb8040898eb06247650495f3           <a href=\"file:///home/participant/.local/lib/python3.10/site-packages/mcp/server/streamable_http.py\" target=\"_blank\"><span style=\"color: #7f7f7f; text-decoration-color: #7f7f7f\">streamable_http.py</span></a><span style=\"color: #7f7f7f; text-decoration-color: #7f7f7f\">:</span><a href=\"file:///home/participant/.local/lib/python3.10/site-packages/mcp/server/streamable_http.py#630\" target=\"_blank\"><span style=\"color: #7f7f7f; text-decoration-color: #7f7f7f\">630</span></a>\n",
       "</pre>\n"
      ],
      "text/plain": [
       "\u001b[2;36m                   \u001b[0m\u001b[2;36m \u001b[0m\u001b[34mINFO    \u001b[0m Terminating session: 8d65fcd2bb8040898eb06247650495f3           \u001b]8;id=890001;file:///home/participant/.local/lib/python3.10/site-packages/mcp/server/streamable_http.py\u001b\\\u001b[2mstreamable_http.py\u001b[0m\u001b]8;;\u001b\\\u001b[2m:\u001b[0m\u001b]8;id=514957;file:///home/participant/.local/lib/python3.10/site-packages/mcp/server/streamable_http.py#630\u001b\\\u001b[2m630\u001b[0m\u001b]8;;\u001b\\\n"
      ]
     },
     "metadata": {},
     "output_type": "display_data"
    },
    {
     "data": {
      "text/html": [
       "<pre style=\"white-space:pre;overflow-x:auto;line-height:normal;font-family:Menlo,'DejaVu Sans Mono',consolas,'Courier New',monospace\"><span style=\"color: #7fbfbf; text-decoration-color: #7fbfbf\">                    </span><span style=\"color: #000080; text-decoration-color: #000080\">INFO    </span> HTTP Request: <span style=\"color: #808000; text-decoration-color: #808000; font-weight: bold\">DELETE</span> <span style=\"color: #0000ff; text-decoration-color: #0000ff; text-decoration: underline\">http://localhost:8000/mcp</span> <span style=\"color: #008000; text-decoration-color: #008000\">\"HTTP/1.1 200 OK\"</span>       <a href=\"file:///home/participant/.local/lib/python3.10/site-packages/httpx/_client.py\" target=\"_blank\"><span style=\"color: #7f7f7f; text-decoration-color: #7f7f7f\">_client.py</span></a><span style=\"color: #7f7f7f; text-decoration-color: #7f7f7f\">:</span><a href=\"file:///home/participant/.local/lib/python3.10/site-packages/httpx/_client.py#1740\" target=\"_blank\"><span style=\"color: #7f7f7f; text-decoration-color: #7f7f7f\">1740</span></a>\n",
       "</pre>\n"
      ],
      "text/plain": [
       "\u001b[2;36m                   \u001b[0m\u001b[2;36m \u001b[0m\u001b[34mINFO    \u001b[0m HTTP Request: \u001b[1;33mDELETE\u001b[0m \u001b[4;94mhttp://localhost:8000/mcp\u001b[0m \u001b[32m\"HTTP/1.1 200 OK\"\u001b[0m       \u001b]8;id=614356;file:///home/participant/.local/lib/python3.10/site-packages/httpx/_client.py\u001b\\\u001b[2m_client.py\u001b[0m\u001b]8;;\u001b\\\u001b[2m:\u001b[0m\u001b]8;id=770785;file:///home/participant/.local/lib/python3.10/site-packages/httpx/_client.py#1740\u001b\\\u001b[2m1740\u001b[0m\u001b]8;;\u001b\\\n"
      ]
     },
     "metadata": {},
     "output_type": "display_data"
    }
   ],
   "source": [
    "query = {\"x\": 10, \"y\": 20}\n",
    "\n",
    "with streamable_http_mcp_client:\n",
    "    # direct tool invocation\n",
    "    result = streamable_http_mcp_client.call_tool_sync(\n",
    "        tool_use_id=\"tool-123\", name=\"calculator\", arguments=query\n",
    "    )\n",
    "\n",
    "    # Process the result\n",
    "    print(f\"Calculation result: {result['content'][0]['text']}\")"
   ]
  },
  {
   "cell_type": "markdown",
   "metadata": {},
   "source": [
    "You can optionally also provide `read_timeout_seconds` while calling an MCP server tool to avoid it running for too long\n",
    "\n",
    "您还可以在调用 MCP 服务器工具时选择性地提供 `read_timeout_seconds` 以避免运行时间过长"
   ]
  },
  {
   "cell_type": "code",
   "execution_count": 10,
   "metadata": {},
   "outputs": [
    {
     "data": {
      "text/html": [
       "<pre style=\"white-space:pre;overflow-x:auto;line-height:normal;font-family:Menlo,'DejaVu Sans Mono',consolas,'Courier New',monospace\"><span style=\"color: #7fbfbf; text-decoration-color: #7fbfbf\">[09/04/25 02:06:42] </span><span style=\"color: #000080; text-decoration-color: #000080\">INFO    </span> Created new transport with session ID:                  <a href=\"file:///home/participant/.local/lib/python3.10/site-packages/mcp/server/streamable_http_manager.py\" target=\"_blank\"><span style=\"color: #7f7f7f; text-decoration-color: #7f7f7f\">streamable_http_manager.py</span></a><span style=\"color: #7f7f7f; text-decoration-color: #7f7f7f\">:</span><a href=\"file:///home/participant/.local/lib/python3.10/site-packages/mcp/server/streamable_http_manager.py#233\" target=\"_blank\"><span style=\"color: #7f7f7f; text-decoration-color: #7f7f7f\">233</span></a>\n",
       "<span style=\"color: #7fbfbf; text-decoration-color: #7fbfbf\">                    </span>         430236b58c3c41008a19fde5e81c8b18                        <span style=\"color: #7f7f7f; text-decoration-color: #7f7f7f\">                              </span>\n",
       "</pre>\n"
      ],
      "text/plain": [
       "\u001b[2;36m[09/04/25 02:06:42]\u001b[0m\u001b[2;36m \u001b[0m\u001b[34mINFO    \u001b[0m Created new transport with session ID:                  \u001b]8;id=461883;file:///home/participant/.local/lib/python3.10/site-packages/mcp/server/streamable_http_manager.py\u001b\\\u001b[2mstreamable_http_manager.py\u001b[0m\u001b]8;;\u001b\\\u001b[2m:\u001b[0m\u001b]8;id=806605;file:///home/participant/.local/lib/python3.10/site-packages/mcp/server/streamable_http_manager.py#233\u001b\\\u001b[2m233\u001b[0m\u001b]8;;\u001b\\\n",
       "\u001b[2;36m                    \u001b[0m         430236b58c3c41008a19fde5e81c8b18                        \u001b[2m                              \u001b[0m\n"
      ]
     },
     "metadata": {},
     "output_type": "display_data"
    },
    {
     "data": {
      "text/html": [
       "<pre style=\"white-space:pre;overflow-x:auto;line-height:normal;font-family:Menlo,'DejaVu Sans Mono',consolas,'Courier New',monospace\"><span style=\"color: #7fbfbf; text-decoration-color: #7fbfbf\">                    </span><span style=\"color: #000080; text-decoration-color: #000080\">INFO    </span> HTTP Request: <span style=\"color: #808000; text-decoration-color: #808000; font-weight: bold\">POST</span> <span style=\"color: #0000ff; text-decoration-color: #0000ff; text-decoration: underline\">http://localhost:8000/mcp</span> <span style=\"color: #008000; text-decoration-color: #008000\">\"HTTP/1.1 200 OK\"</span>         <a href=\"file:///home/participant/.local/lib/python3.10/site-packages/httpx/_client.py\" target=\"_blank\"><span style=\"color: #7f7f7f; text-decoration-color: #7f7f7f\">_client.py</span></a><span style=\"color: #7f7f7f; text-decoration-color: #7f7f7f\">:</span><a href=\"file:///home/participant/.local/lib/python3.10/site-packages/httpx/_client.py#1740\" target=\"_blank\"><span style=\"color: #7f7f7f; text-decoration-color: #7f7f7f\">1740</span></a>\n",
       "</pre>\n"
      ],
      "text/plain": [
       "\u001b[2;36m                   \u001b[0m\u001b[2;36m \u001b[0m\u001b[34mINFO    \u001b[0m HTTP Request: \u001b[1;33mPOST\u001b[0m \u001b[4;94mhttp://localhost:8000/mcp\u001b[0m \u001b[32m\"HTTP/1.1 200 OK\"\u001b[0m         \u001b]8;id=385741;file:///home/participant/.local/lib/python3.10/site-packages/httpx/_client.py\u001b\\\u001b[2m_client.py\u001b[0m\u001b]8;;\u001b\\\u001b[2m:\u001b[0m\u001b]8;id=951147;file:///home/participant/.local/lib/python3.10/site-packages/httpx/_client.py#1740\u001b\\\u001b[2m1740\u001b[0m\u001b]8;;\u001b\\\n"
      ]
     },
     "metadata": {},
     "output_type": "display_data"
    },
    {
     "data": {
      "text/html": [
       "<pre style=\"white-space:pre;overflow-x:auto;line-height:normal;font-family:Menlo,'DejaVu Sans Mono',consolas,'Courier New',monospace\"><span style=\"color: #7fbfbf; text-decoration-color: #7fbfbf\">                    </span><span style=\"color: #000080; text-decoration-color: #000080\">INFO    </span> Received session ID: 430236b58c3c41008a19fde5e81c8b18           <a href=\"file:///home/participant/.local/lib/python3.10/site-packages/mcp/client/streamable_http.py\" target=\"_blank\"><span style=\"color: #7f7f7f; text-decoration-color: #7f7f7f\">streamable_http.py</span></a><span style=\"color: #7f7f7f; text-decoration-color: #7f7f7f\">:</span><a href=\"file:///home/participant/.local/lib/python3.10/site-packages/mcp/client/streamable_http.py#134\" target=\"_blank\"><span style=\"color: #7f7f7f; text-decoration-color: #7f7f7f\">134</span></a>\n",
       "</pre>\n"
      ],
      "text/plain": [
       "\u001b[2;36m                   \u001b[0m\u001b[2;36m \u001b[0m\u001b[34mINFO    \u001b[0m Received session ID: 430236b58c3c41008a19fde5e81c8b18           \u001b]8;id=658954;file:///home/participant/.local/lib/python3.10/site-packages/mcp/client/streamable_http.py\u001b\\\u001b[2mstreamable_http.py\u001b[0m\u001b]8;;\u001b\\\u001b[2m:\u001b[0m\u001b]8;id=947519;file:///home/participant/.local/lib/python3.10/site-packages/mcp/client/streamable_http.py#134\u001b\\\u001b[2m134\u001b[0m\u001b]8;;\u001b\\\n"
      ]
     },
     "metadata": {},
     "output_type": "display_data"
    },
    {
     "data": {
      "text/html": [
       "<pre style=\"white-space:pre;overflow-x:auto;line-height:normal;font-family:Menlo,'DejaVu Sans Mono',consolas,'Courier New',monospace\"><span style=\"color: #7fbfbf; text-decoration-color: #7fbfbf\">                    </span><span style=\"color: #000080; text-decoration-color: #000080\">INFO    </span> Negotiated protocol version: <span style=\"color: #008080; text-decoration-color: #008080; font-weight: bold\">2025</span>-<span style=\"color: #008080; text-decoration-color: #008080; font-weight: bold\">06</span>-<span style=\"color: #008080; text-decoration-color: #008080; font-weight: bold\">18</span>                         <a href=\"file:///home/participant/.local/lib/python3.10/site-packages/mcp/client/streamable_http.py\" target=\"_blank\"><span style=\"color: #7f7f7f; text-decoration-color: #7f7f7f\">streamable_http.py</span></a><span style=\"color: #7f7f7f; text-decoration-color: #7f7f7f\">:</span><a href=\"file:///home/participant/.local/lib/python3.10/site-packages/mcp/client/streamable_http.py#146\" target=\"_blank\"><span style=\"color: #7f7f7f; text-decoration-color: #7f7f7f\">146</span></a>\n",
       "</pre>\n"
      ],
      "text/plain": [
       "\u001b[2;36m                   \u001b[0m\u001b[2;36m \u001b[0m\u001b[34mINFO    \u001b[0m Negotiated protocol version: \u001b[1;36m2025\u001b[0m-\u001b[1;36m06\u001b[0m-\u001b[1;36m18\u001b[0m                         \u001b]8;id=96751;file:///home/participant/.local/lib/python3.10/site-packages/mcp/client/streamable_http.py\u001b\\\u001b[2mstreamable_http.py\u001b[0m\u001b]8;;\u001b\\\u001b[2m:\u001b[0m\u001b]8;id=225895;file:///home/participant/.local/lib/python3.10/site-packages/mcp/client/streamable_http.py#146\u001b\\\u001b[2m146\u001b[0m\u001b]8;;\u001b\\\n"
      ]
     },
     "metadata": {},
     "output_type": "display_data"
    },
    {
     "data": {
      "text/html": [
       "<pre style=\"white-space:pre;overflow-x:auto;line-height:normal;font-family:Menlo,'DejaVu Sans Mono',consolas,'Courier New',monospace\"><span style=\"color: #7fbfbf; text-decoration-color: #7fbfbf\">                    </span><span style=\"color: #000080; text-decoration-color: #000080\">INFO    </span> HTTP Request: <span style=\"color: #808000; text-decoration-color: #808000; font-weight: bold\">GET</span> <span style=\"color: #0000ff; text-decoration-color: #0000ff; text-decoration: underline\">http://localhost:8000/mcp</span> <span style=\"color: #008000; text-decoration-color: #008000\">\"HTTP/1.1 200 OK\"</span>          <a href=\"file:///home/participant/.local/lib/python3.10/site-packages/httpx/_client.py\" target=\"_blank\"><span style=\"color: #7f7f7f; text-decoration-color: #7f7f7f\">_client.py</span></a><span style=\"color: #7f7f7f; text-decoration-color: #7f7f7f\">:</span><a href=\"file:///home/participant/.local/lib/python3.10/site-packages/httpx/_client.py#1740\" target=\"_blank\"><span style=\"color: #7f7f7f; text-decoration-color: #7f7f7f\">1740</span></a>\n",
       "</pre>\n"
      ],
      "text/plain": [
       "\u001b[2;36m                   \u001b[0m\u001b[2;36m \u001b[0m\u001b[34mINFO    \u001b[0m HTTP Request: \u001b[1;33mGET\u001b[0m \u001b[4;94mhttp://localhost:8000/mcp\u001b[0m \u001b[32m\"HTTP/1.1 200 OK\"\u001b[0m          \u001b]8;id=157953;file:///home/participant/.local/lib/python3.10/site-packages/httpx/_client.py\u001b\\\u001b[2m_client.py\u001b[0m\u001b]8;;\u001b\\\u001b[2m:\u001b[0m\u001b]8;id=357000;file:///home/participant/.local/lib/python3.10/site-packages/httpx/_client.py#1740\u001b\\\u001b[2m1740\u001b[0m\u001b]8;;\u001b\\\n"
      ]
     },
     "metadata": {},
     "output_type": "display_data"
    },
    {
     "data": {
      "text/html": [
       "<pre style=\"white-space:pre;overflow-x:auto;line-height:normal;font-family:Menlo,'DejaVu Sans Mono',consolas,'Courier New',monospace\"><span style=\"color: #7fbfbf; text-decoration-color: #7fbfbf\">                    </span><span style=\"color: #000080; text-decoration-color: #000080\">INFO    </span> HTTP Request: <span style=\"color: #808000; text-decoration-color: #808000; font-weight: bold\">POST</span> <span style=\"color: #0000ff; text-decoration-color: #0000ff; text-decoration: underline\">http://localhost:8000/mcp</span> <span style=\"color: #008000; text-decoration-color: #008000\">\"HTTP/1.1 202 Accepted\"</span>   <a href=\"file:///home/participant/.local/lib/python3.10/site-packages/httpx/_client.py\" target=\"_blank\"><span style=\"color: #7f7f7f; text-decoration-color: #7f7f7f\">_client.py</span></a><span style=\"color: #7f7f7f; text-decoration-color: #7f7f7f\">:</span><a href=\"file:///home/participant/.local/lib/python3.10/site-packages/httpx/_client.py#1740\" target=\"_blank\"><span style=\"color: #7f7f7f; text-decoration-color: #7f7f7f\">1740</span></a>\n",
       "</pre>\n"
      ],
      "text/plain": [
       "\u001b[2;36m                   \u001b[0m\u001b[2;36m \u001b[0m\u001b[34mINFO    \u001b[0m HTTP Request: \u001b[1;33mPOST\u001b[0m \u001b[4;94mhttp://localhost:8000/mcp\u001b[0m \u001b[32m\"HTTP/1.1 202 Accepted\"\u001b[0m   \u001b]8;id=648046;file:///home/participant/.local/lib/python3.10/site-packages/httpx/_client.py\u001b\\\u001b[2m_client.py\u001b[0m\u001b]8;;\u001b\\\u001b[2m:\u001b[0m\u001b]8;id=934012;file:///home/participant/.local/lib/python3.10/site-packages/httpx/_client.py#1740\u001b\\\u001b[2m1740\u001b[0m\u001b]8;;\u001b\\\n"
      ]
     },
     "metadata": {},
     "output_type": "display_data"
    },
    {
     "data": {
      "text/html": [
       "<pre style=\"white-space:pre;overflow-x:auto;line-height:normal;font-family:Menlo,'DejaVu Sans Mono',consolas,'Courier New',monospace\"><span style=\"color: #7fbfbf; text-decoration-color: #7fbfbf\">                    </span><span style=\"color: #000080; text-decoration-color: #000080\">INFO    </span> HTTP Request: <span style=\"color: #808000; text-decoration-color: #808000; font-weight: bold\">POST</span> <span style=\"color: #0000ff; text-decoration-color: #0000ff; text-decoration: underline\">http://localhost:8000/mcp</span> <span style=\"color: #008000; text-decoration-color: #008000\">\"HTTP/1.1 200 OK\"</span>         <a href=\"file:///home/participant/.local/lib/python3.10/site-packages/httpx/_client.py\" target=\"_blank\"><span style=\"color: #7f7f7f; text-decoration-color: #7f7f7f\">_client.py</span></a><span style=\"color: #7f7f7f; text-decoration-color: #7f7f7f\">:</span><a href=\"file:///home/participant/.local/lib/python3.10/site-packages/httpx/_client.py#1740\" target=\"_blank\"><span style=\"color: #7f7f7f; text-decoration-color: #7f7f7f\">1740</span></a>\n",
       "</pre>\n"
      ],
      "text/plain": [
       "\u001b[2;36m                   \u001b[0m\u001b[2;36m \u001b[0m\u001b[34mINFO    \u001b[0m HTTP Request: \u001b[1;33mPOST\u001b[0m \u001b[4;94mhttp://localhost:8000/mcp\u001b[0m \u001b[32m\"HTTP/1.1 200 OK\"\u001b[0m         \u001b]8;id=889856;file:///home/participant/.local/lib/python3.10/site-packages/httpx/_client.py\u001b\\\u001b[2m_client.py\u001b[0m\u001b]8;;\u001b\\\u001b[2m:\u001b[0m\u001b]8;id=674168;file:///home/participant/.local/lib/python3.10/site-packages/httpx/_client.py#1740\u001b\\\u001b[2m1740\u001b[0m\u001b]8;;\u001b\\\n"
      ]
     },
     "metadata": {},
     "output_type": "display_data"
    },
    {
     "data": {
      "text/html": [
       "<pre style=\"white-space:pre;overflow-x:auto;line-height:normal;font-family:Menlo,'DejaVu Sans Mono',consolas,'Courier New',monospace\"><span style=\"color: #7fbfbf; text-decoration-color: #7fbfbf\">                    </span><span style=\"color: #000080; text-decoration-color: #000080\">INFO    </span> Processing request of type CallToolRequest                               <a href=\"file:///home/participant/.local/lib/python3.10/site-packages/mcp/server/lowlevel/server.py\" target=\"_blank\"><span style=\"color: #7f7f7f; text-decoration-color: #7f7f7f\">server.py</span></a><span style=\"color: #7f7f7f; text-decoration-color: #7f7f7f\">:</span><a href=\"file:///home/participant/.local/lib/python3.10/site-packages/mcp/server/lowlevel/server.py#624\" target=\"_blank\"><span style=\"color: #7f7f7f; text-decoration-color: #7f7f7f\">624</span></a>\n",
       "</pre>\n"
      ],
      "text/plain": [
       "\u001b[2;36m                   \u001b[0m\u001b[2;36m \u001b[0m\u001b[34mINFO    \u001b[0m Processing request of type CallToolRequest                               \u001b]8;id=818263;file:///home/participant/.local/lib/python3.10/site-packages/mcp/server/lowlevel/server.py\u001b\\\u001b[2mserver.py\u001b[0m\u001b]8;;\u001b\\\u001b[2m:\u001b[0m\u001b]8;id=452559;file:///home/participant/.local/lib/python3.10/site-packages/mcp/server/lowlevel/server.py#624\u001b\\\u001b[2m624\u001b[0m\u001b]8;;\u001b\\\n"
      ]
     },
     "metadata": {},
     "output_type": "display_data"
    },
    {
     "data": {
      "text/html": [
       "<pre style=\"white-space:pre;overflow-x:auto;line-height:normal;font-family:Menlo,'DejaVu Sans Mono',consolas,'Courier New',monospace\"><span style=\"color: #7fbfbf; text-decoration-color: #7fbfbf\">[09/04/25 02:07:07] </span><span style=\"color: #000080; text-decoration-color: #000080\">INFO    </span> Processing request of type ListToolsRequest                              <a href=\"file:///home/participant/.local/lib/python3.10/site-packages/mcp/server/lowlevel/server.py\" target=\"_blank\"><span style=\"color: #7f7f7f; text-decoration-color: #7f7f7f\">server.py</span></a><span style=\"color: #7f7f7f; text-decoration-color: #7f7f7f\">:</span><a href=\"file:///home/participant/.local/lib/python3.10/site-packages/mcp/server/lowlevel/server.py#624\" target=\"_blank\"><span style=\"color: #7f7f7f; text-decoration-color: #7f7f7f\">624</span></a>\n",
       "</pre>\n"
      ],
      "text/plain": [
       "\u001b[2;36m[09/04/25 02:07:07]\u001b[0m\u001b[2;36m \u001b[0m\u001b[34mINFO    \u001b[0m Processing request of type ListToolsRequest                              \u001b]8;id=153639;file:///home/participant/.local/lib/python3.10/site-packages/mcp/server/lowlevel/server.py\u001b\\\u001b[2mserver.py\u001b[0m\u001b]8;;\u001b\\\u001b[2m:\u001b[0m\u001b]8;id=768511;file:///home/participant/.local/lib/python3.10/site-packages/mcp/server/lowlevel/server.py#624\u001b\\\u001b[2m624\u001b[0m\u001b]8;;\u001b\\\n"
      ]
     },
     "metadata": {},
     "output_type": "display_data"
    },
    {
     "data": {
      "text/html": [
       "<pre style=\"white-space:pre;overflow-x:auto;line-height:normal;font-family:Menlo,'DejaVu Sans Mono',consolas,'Courier New',monospace\"><span style=\"color: #7fbfbf; text-decoration-color: #7fbfbf\">                    </span><span style=\"color: #000080; text-decoration-color: #000080\">INFO    </span> HTTP Request: <span style=\"color: #808000; text-decoration-color: #808000; font-weight: bold\">POST</span> <span style=\"color: #0000ff; text-decoration-color: #0000ff; text-decoration: underline\">http://localhost:8000/mcp</span> <span style=\"color: #008000; text-decoration-color: #008000\">\"HTTP/1.1 200 OK\"</span>         <a href=\"file:///home/participant/.local/lib/python3.10/site-packages/httpx/_client.py\" target=\"_blank\"><span style=\"color: #7f7f7f; text-decoration-color: #7f7f7f\">_client.py</span></a><span style=\"color: #7f7f7f; text-decoration-color: #7f7f7f\">:</span><a href=\"file:///home/participant/.local/lib/python3.10/site-packages/httpx/_client.py#1740\" target=\"_blank\"><span style=\"color: #7f7f7f; text-decoration-color: #7f7f7f\">1740</span></a>\n",
       "</pre>\n"
      ],
      "text/plain": [
       "\u001b[2;36m                   \u001b[0m\u001b[2;36m \u001b[0m\u001b[34mINFO    \u001b[0m HTTP Request: \u001b[1;33mPOST\u001b[0m \u001b[4;94mhttp://localhost:8000/mcp\u001b[0m \u001b[32m\"HTTP/1.1 200 OK\"\u001b[0m         \u001b]8;id=553585;file:///home/participant/.local/lib/python3.10/site-packages/httpx/_client.py\u001b\\\u001b[2m_client.py\u001b[0m\u001b]8;;\u001b\\\u001b[2m:\u001b[0m\u001b]8;id=20856;file:///home/participant/.local/lib/python3.10/site-packages/httpx/_client.py#1740\u001b\\\u001b[2m1740\u001b[0m\u001b]8;;\u001b\\\n"
      ]
     },
     "metadata": {},
     "output_type": "display_data"
    },
    {
     "name": "stdout",
     "output_type": "stream",
     "text": [
      "Tool execution succeeded: Hello Amazon\n"
     ]
    },
    {
     "data": {
      "text/html": [
       "<pre style=\"white-space:pre;overflow-x:auto;line-height:normal;font-family:Menlo,'DejaVu Sans Mono',consolas,'Courier New',monospace\"><span style=\"color: #7fbfbf; text-decoration-color: #7fbfbf\">                    </span><span style=\"color: #000080; text-decoration-color: #000080\">INFO    </span> Terminating session: 430236b58c3c41008a19fde5e81c8b18           <a href=\"file:///home/participant/.local/lib/python3.10/site-packages/mcp/server/streamable_http.py\" target=\"_blank\"><span style=\"color: #7f7f7f; text-decoration-color: #7f7f7f\">streamable_http.py</span></a><span style=\"color: #7f7f7f; text-decoration-color: #7f7f7f\">:</span><a href=\"file:///home/participant/.local/lib/python3.10/site-packages/mcp/server/streamable_http.py#630\" target=\"_blank\"><span style=\"color: #7f7f7f; text-decoration-color: #7f7f7f\">630</span></a>\n",
       "</pre>\n"
      ],
      "text/plain": [
       "\u001b[2;36m                   \u001b[0m\u001b[2;36m \u001b[0m\u001b[34mINFO    \u001b[0m Terminating session: 430236b58c3c41008a19fde5e81c8b18           \u001b]8;id=256200;file:///home/participant/.local/lib/python3.10/site-packages/mcp/server/streamable_http.py\u001b\\\u001b[2mstreamable_http.py\u001b[0m\u001b]8;;\u001b\\\u001b[2m:\u001b[0m\u001b]8;id=368806;file:///home/participant/.local/lib/python3.10/site-packages/mcp/server/streamable_http.py#630\u001b\\\u001b[2m630\u001b[0m\u001b]8;;\u001b\\\n"
      ]
     },
     "metadata": {},
     "output_type": "display_data"
    },
    {
     "data": {
      "text/html": [
       "<pre style=\"white-space:pre;overflow-x:auto;line-height:normal;font-family:Menlo,'DejaVu Sans Mono',consolas,'Courier New',monospace\"><span style=\"color: #7fbfbf; text-decoration-color: #7fbfbf\">                    </span><span style=\"color: #000080; text-decoration-color: #000080\">INFO    </span> HTTP Request: <span style=\"color: #808000; text-decoration-color: #808000; font-weight: bold\">DELETE</span> <span style=\"color: #0000ff; text-decoration-color: #0000ff; text-decoration: underline\">http://localhost:8000/mcp</span> <span style=\"color: #008000; text-decoration-color: #008000\">\"HTTP/1.1 200 OK\"</span>       <a href=\"file:///home/participant/.local/lib/python3.10/site-packages/httpx/_client.py\" target=\"_blank\"><span style=\"color: #7f7f7f; text-decoration-color: #7f7f7f\">_client.py</span></a><span style=\"color: #7f7f7f; text-decoration-color: #7f7f7f\">:</span><a href=\"file:///home/participant/.local/lib/python3.10/site-packages/httpx/_client.py#1740\" target=\"_blank\"><span style=\"color: #7f7f7f; text-decoration-color: #7f7f7f\">1740</span></a>\n",
       "</pre>\n"
      ],
      "text/plain": [
       "\u001b[2;36m                   \u001b[0m\u001b[2;36m \u001b[0m\u001b[34mINFO    \u001b[0m HTTP Request: \u001b[1;33mDELETE\u001b[0m \u001b[4;94mhttp://localhost:8000/mcp\u001b[0m \u001b[32m\"HTTP/1.1 200 OK\"\u001b[0m       \u001b]8;id=629178;file:///home/participant/.local/lib/python3.10/site-packages/httpx/_client.py\u001b\\\u001b[2m_client.py\u001b[0m\u001b]8;;\u001b\\\u001b[2m:\u001b[0m\u001b]8;id=895956;file:///home/participant/.local/lib/python3.10/site-packages/httpx/_client.py#1740\u001b\\\u001b[2m1740\u001b[0m\u001b]8;;\u001b\\\n"
      ]
     },
     "metadata": {},
     "output_type": "display_data"
    }
   ],
   "source": [
    "with streamable_http_mcp_client:\n",
    "    try:\n",
    "        result = streamable_http_mcp_client.call_tool_sync(\n",
    "            tool_use_id=\"tool-123\",\n",
    "            name=\"long_running_tool\",\n",
    "            arguments={\"name\": \"Amazon\"},\n",
    "            read_timeout_seconds=timedelta(seconds=30),\n",
    "        )\n",
    "\n",
    "        if result[\"status\"] == \"error\":\n",
    "            print(f\"Tool execution failed: {result['content'][0]['text']}\")\n",
    "        else:\n",
    "            print(f\"Tool execution succeeded: {result['content'][0]['text']}\")\n",
    "    except Exception as e:\n",
    "        print(f\"Tool call timed out or failed: {str(e)}\")"
   ]
  },
  {
   "cell_type": "markdown",
   "metadata": {},
   "source": [
    "### Interacting with multiple MCP servers / 与多个 MCP 服务器交互\n",
    "\n",
    "With Strands Agents you can also interact with multiple MCP servers using the same agent and configure tools setups such as the max number of tools that can be used in parallel (`max_parallel_tools`). Let's create a new agent to showcase this configuration:\n",
    "\n",
    "In this agent, we will again use the AWS Documentation MCP server and we will also use the [AWS CDK MCP Server](https://awslabs.github.io/mcp/servers/cdk-mcp-server/) which helps with AWS Cloud Development Kit (CDK) best practices, infrastructure as code patterns and security compliance with CDK Nag.\n",
    "\n",
    "使用 Strands Agents，您还可以使用同一个代理与多个 MCP 服务器交互，并配置工具设置，例如可以并行使用的工具的最大数量 (`max_parallel_tools`)。让我们创建一个新的代理来展示此配置：\n",
    "\n",
    "在此代理中，我们将再次使用 AWS 文档 MCP 服务器，还将使用 [AWS CDK MCP 服务器](https://awslabs.github.io/mcp/servers/cdk-mcp-server/)，它有助于 AWS 云开发工具包 (CDK) 最佳实践、基础设施即代码模式以及与 CDK Nag 的安全合规性。\n",
    "\n",
  
    "<div style=\"text-align:center\">\n",
    "    <img src=\"images/architecture_3.png\" width=\"85%\" />\n",
    "</div>\n",
    "\n",
    "First let's connect to the two MCP servers using the stdio transport\n",
    "\n",
    "首先让我们使用 stdio 传输连接到两个 MCP 服务器"

   ]
  },
  {
   "cell_type": "code",
   "execution_count": 11,
   "metadata": {},
   "outputs": [],
   "source": [
    "# Connect to an MCP server using stdio transport\n",
    "aws_docs_mcp_client = MCPClient(\n",
    "    lambda: stdio_client(\n",
    "        StdioServerParameters(\n",
    "            command=\"uvx\", args=[\"awslabs.aws-documentation-mcp-server@latest\"]\n",
    "        )\n",
    "    )\n",
    ")\n",
    "\n",
    "# Connect to an MCP server using stdio transport\n",
    "cdk_mcp_client = MCPClient(\n",
    "    lambda: stdio_client(\n",
    "        StdioServerParameters(command=\"uvx\", args=[\"awslabs.cdk-mcp-server@latest\"])\n",
    "    )\n",
    ")"
   ]
  },
  {
   "cell_type": "markdown",
   "metadata": {},
   "source": [
    "#### Create Agent with MCP servers / 使用 MCP 服务器创建代理\n",
    "\n",
    "Next we will create the agent with the tools from both MCP servers\n",
    "\n",
    "接下来我们将使用来自两个 MCP 服务器的工具创建代理"
   ]
  },
  {
   "cell_type": "code",
   "execution_count": 12,
   "metadata": {},
   "outputs": [
    {
     "data": {
      "text/html": [
       "<pre style=\"white-space:pre;overflow-x:auto;line-height:normal;font-family:Menlo,'DejaVu Sans Mono',consolas,'Courier New',monospace\"><span style=\"color: #7fbfbf; text-decoration-color: #7fbfbf\">[09/04/25 02:07:42] </span><span style=\"color: #000080; text-decoration-color: #000080\">INFO    </span> Found credentials from IAM Role:                                   <a href=\"file:///home/participant/.local/lib/python3.10/site-packages/botocore/credentials.py\" target=\"_blank\"><span style=\"color: #7f7f7f; text-decoration-color: #7f7f7f\">credentials.py</span></a><span style=\"color: #7f7f7f; text-decoration-color: #7f7f7f\">:</span><a href=\"file:///home/participant/.local/lib/python3.10/site-packages/botocore/credentials.py#1138\" target=\"_blank\"><span style=\"color: #7f7f7f; text-decoration-color: #7f7f7f\">1138</span></a>\n",
       "<span style=\"color: #7fbfbf; text-decoration-color: #7fbfbf\">                    </span>         CodeEditorV2-CodeEditorInstanceBootstrapRole-etk4tqcPN52E          <span style=\"color: #7f7f7f; text-decoration-color: #7f7f7f\">                   </span>\n",
       "</pre>\n"
      ],
      "text/plain": [
       "\u001b[2;36m[09/04/25 02:07:42]\u001b[0m\u001b[2;36m \u001b[0m\u001b[34mINFO    \u001b[0m Found credentials from IAM Role:                                   \u001b]8;id=710378;file:///home/participant/.local/lib/python3.10/site-packages/botocore/credentials.py\u001b\\\u001b[2mcredentials.py\u001b[0m\u001b]8;;\u001b\\\u001b[2m:\u001b[0m\u001b]8;id=620907;file:///home/participant/.local/lib/python3.10/site-packages/botocore/credentials.py#1138\u001b\\\u001b[2m1138\u001b[0m\u001b]8;;\u001b\\\n",
       "\u001b[2;36m                    \u001b[0m         CodeEditorV2-CodeEditorInstanceBootstrapRole-etk4tqcPN52E          \u001b[2m                   \u001b[0m\n"
      ]
     },
     "metadata": {},
     "output_type": "display_data"
    },
    {
     "name": "stdout",
     "output_type": "stream",
     "text": [
      "I'll provide you with information about Amazon Bedrock's pricing model and CDK best practices. Let me search for the relevant documentation.\n",
      "\n",
      "First, let me check Amazon Bedrock pricing:\n",
      "Tool #1: search_documentation\n",
      "Now, let me get the detailed information about Amazon Bedrock pricing:\n",
      "Tool #2: read_documentation\n",
      "Now, let me check for CDK best practices:\n",
      "Tool #3: CDKGeneralGuidance\n",
      "# Amazon Bedrock Pricing Model and CDK Best Practices\n",
      "\n",
      "## Amazon Bedrock Pricing\n",
      "\n",
      "Amazon Bedrock uses a pay-as-you-go pricing model based on:\n",
      "\n",
      "1. **Token-based pricing**: You pay for the volume of input tokens and output tokens processed.\n",
      "2. **Model-specific rates**: Each foundation model has its own pricing structure.\n",
      "3. **Provisioned Throughput option**: You can purchase dedicated capacity for models at potentially lower rates than on-demand usage.\n",
      "\n",
      "Pricing varies by model provider and model version. For detailed pricing information, you can visit the [Amazon Bedrock pricing page](https://aws.amazon.com/bedrock/pricing) or check the Model providers section in the Amazon Bedrock console.\n",
      "\n",
      "## AWS CDK Best Practices\n",
      "\n",
      "### Getting Started\n",
      "- Initialize projects properly using `cdk init app --language [typescript/python]`\n",
      "- Use `cdk synth` over `npm run build` for TypeScript projects to validate constructs\n",
      "\n",
      "### Implementation Best Practices\n",
      "1. **Use vetted patterns**:\n",
      "   - Leverage AWS Solutions Constructs for common architecture patterns\n",
      "   - Use GenAI CDK Constructs for AI/ML and generative AI workloads\n",
      "\n",
      "2. **Security-first approach**:\n",
      "   - Apply CDK Nag to all stacks to ensure security best practices\n",
      "   - Follow least privilege principle for IAM permissions\n",
      "   - Implement proper encryption and access controls\n",
      "\n",
      "3. **Development workflow**:\n",
      "   - Use `cdk synth` to validate before deployment\n",
      "   - Use `cdk diff` to compare changes before deploying\n",
      "   - Use `cdk deploy` with appropriate permissions\n",
      "\n",
      "4. **Lambda function best practices**:\n",
      "   - Implement Lambda Powertools for structured logging, tracing, and metrics\n",
      "   - Use Lambda layers properly for dependencies\n",
      "\n",
      "5. **Key principles**:\n",
      "   - Security First\n",
      "   - Cost Optimization\n",
      "   - Operational Excellence\n",
      "   - Serverless-First approach\n",
      "   - Complete Infrastructure as Code\n",
      "   - Regional awareness for service availability\n",
      "\n",
      "For GenAI applications specifically, use the specialized constructs in `@cdklabs/generative-ai-cdk-constructs` to simplify implementation of Bedrock components."
     ]
    }
   ],
   "source": [
    "# Create an agent with MCP tools\n",
    "with aws_docs_mcp_client, cdk_mcp_client:\n",
    "    # Get the tools from the MCP server\n",
    "    tools = aws_docs_mcp_client.list_tools_sync() + cdk_mcp_client.list_tools_sync()\n",
    "\n",
    "    # Create an agent with these tools\n",
    "    agent = Agent(\n",
    "        model=\"us.anthropic.claude-3-7-sonnet-20250219-v1:0\",\n",
    "        tools=tools)\n",
    "\n",
    "    response = agent(\n",
    "        \"What is Amazon Bedrock pricing model. Be concise. Also what are the best practices related to CDK?\"\n",
    "    )"
   ]
  },
  {
   "cell_type": "markdown",
   "metadata": {},
   "source": [
    "### Congratulations! / 恭喜！\n",
    "\n",
    "In this notebook you learned how to connect with MCP servers using Strands Agent and two MCP transport protocols: stdio and Streamable HTTP. You also learned how to connect multiple MCP servers to the same agent.\n",
    "\n",
    "在本笔记本中，您学习了如何使用 Strands Agent 和两种 MCP 传输协议：stdio 和可流式 HTTP 连接到 MCP 服务器。您还学习了如何将多个 MCP 服务器连接到同一个代理。"
   ]
  }
 ],
 "metadata": {
  "kernelspec": {
   "display_name": "Python 3",
   "language": "python",
   "name": "python3"
  },
  "language_info": {
   "codemirror_mode": {
    "name": "ipython",
    "version": 3
   },
   "file_extension": ".py",
   "mimetype": "text/x-python",
   "name": "python",
   "nbconvert_exporter": "python",
   "pygments_lexer": "ipython3",
   "version": "3.10.12"
  }
 },
 "nbformat": 4,
 "nbformat_minor": 4
}
