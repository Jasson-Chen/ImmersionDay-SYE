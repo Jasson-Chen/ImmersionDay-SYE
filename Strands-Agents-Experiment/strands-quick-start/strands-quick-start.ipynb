{
 "cells": [
  {
   "cell_type": "markdown",
   "id": "8e394456",
   "metadata": {},
   "source": [
    "# Quickstart Guide for Strands Agents / Strands Agents 快速入门指南\n",
    "\n",
    "Strands Agents is a powerful framework for building AI agents that can interact with AWS services and perform complex tasks. This quickstart guide will help you get started with creating your first Strands agent.\n",
    "\n",
    "Strands Agents 是一个强大的框架，用于构建可以与 AWS 服务交互并执行复杂任务的 AI 代理。本快速入门指南将帮助您开始创建您的第一个 Strands 代理。\n",
    "\n"
   ]
  },
  {
   "cell_type": "markdown",
   "id": "79a45632",
   "metadata": {
    "vscode": {
     "languageId": "plaintext"
    }
   },
   "source": [
    "\n",
    "## Creating Your First Agent / 创建您的第一个代理\n",
    "\n",
    "Lets get an overview of the agentic components needed.\n",
    "\n",
    "让我们了解一下所需的代理组件。\n",
    "\n",
    "### 1. Create a simple Agent / 创建一个简单的代理\n",
    "\n",
    "This will create an agent with the default model provider, [Amazon Bedrock](https://aws.amazon.com/bedrock/), and the default model, Claude 3.7 Sonnet, in the region of your AWS setup. While the agent runs in the same local environment as it is being invoked, Amazon Bedrock models will run in an AWS account and your agent will invoke the model in the cloud account. The architecture looks as following:\n",
    "\n",
    "这将创建一个使用默认模型提供商 [Amazon Bedrock](https://aws.amazon.com/bedrock/) 和默认模型 Claude 3.7 Sonnet 的代理，位于您的 AWS 设置区域中。虽然代理在被调用的同一本地环境中运行，但 Amazon Bedrock 模型将在 AWS 账户中运行，您的代理将调用云账户中的模型。架构如下所示：\n",
    "<center>\n",
    "    <img src=\"./images/simple_agent.png\" width=\"75%\" />\n",
    "</center>\n",
    "\n"
   ]
  },
  {
   "cell_type": "code",
   "execution_count": 2,
   "id": "8d549346",
   "metadata": {},
   "outputs": [
    {
     "name": "stdout",
     "output_type": "stream",
     "text": [
      "你知道为什么鱼不能玩电脑吗？因为它们害怕网络钓鱼！\n",
      "\n",
      "(Translation: Do you know why fish can't use computers? Because they're afraid of phishing!)"
     ]
    }
   ],
   "source": [
    "import warnings\n",
    "warnings.filterwarnings(action=\"ignore\", message=r\"datetime.datetime.utcnow\") \n",
    "\n",
    "from strands import Agent\n",
    "# Initialize your agent\n",
    "agent = Agent(\n",
    "    model=\"us.anthropic.claude-3-7-sonnet-20250219-v1:0\",  # Optional: Specify the model ID\n",
    "    system_prompt=\"You are a helpful assistant that provides concise responses.\"\n",
    ")\n",
    "\n",
    "# Send a message to the agent\n",
    "response = agent(\"Hello! Tell me a joke in Chinese.\")"
   ]
  },
  {
   "cell_type": "markdown",
   "id": "cc305d76",
   "metadata": {},
   "source": [
    "### 2. Add Tools to the Agent / 为代理添加工具\n",
    "\n",
    "The [strands-agents-tools](https://github.com/strands-agents/tools) repository provides some in-built tools which you can import. You can also create custom tools using the `@tool` decorator. We can create agents with built-in and custom tools. For instance, adding the built-in tool of a calculator and a custom tool for getting the weather you get the following architecture:\n",
    "\n",
    "[strands-agents-tools](https://github.com/strands-agents/tools) 仓库提供了一些可以导入的内置工具。您也可以使用 `@tool` 装饰器创建自定义工具。我们可以创建具有内置和自定义工具的代理。例如，添加计算器的内置工具和获取天气的自定义工具，您将得到以下架构：\n",
    "<center>\n",
    "    <img src=\"./images/agent_with_tools.png\" width=\"75%\" />\n",
    "</center>\n",
    "Implementing this architecture you have the following:\n",
    "\n",
    "实现此架构，您需要以下代码："
   ]
  },
  {
   "cell_type": "code",
   "execution_count": 1,
   "id": "c84d9466",
   "metadata": {},
   "outputs": [],
   "source": [
    "from strands import Agent, tool\n",
    "from strands_tools import calculator # Import the calculator tool\n",
    "\n",
    "# Create a custom tool \n",
    "@tool\n",
    "def weather():\n",
    "    \"\"\" Get weather \"\"\" # Dummy implementation\n",
    "    return \"sunny\"\n",
    "\n",
    "agent = Agent(\n",
    "    model=\"us.anthropic.claude-3-7-sonnet-20250219-v1:0\",  # Optional: Specify the model ID\n",
    "    tools=[calculator, weather],\n",
    "    system_prompt=\"You're a helpful assistant. You can do simple math calculation, and tell the weather.\")"
   ]
  },
  {
   "cell_type": "code",
   "execution_count": 4,
   "id": "f9696c68",
   "metadata": {},
   "outputs": [
    {
     "name": "stdout",
     "output_type": "stream",
     "text": [
      "I'll calculate 80 divided by 4 for you using the calculator tool.\n",
      "Tool #3: calculator\n"
     ]
    },
    {
     "data": {
      "text/html": [
       "<pre style=\"white-space:pre;overflow-x:auto;line-height:normal;font-family:Menlo,'DejaVu Sans Mono',consolas,'Courier New',monospace\"><span style=\"color: #000080; text-decoration-color: #000080\">╭────────────────────────────────────────────── </span><span style=\"color: #000080; text-decoration-color: #000080; font-weight: bold\">Calculation Result</span><span style=\"color: #000080; text-decoration-color: #000080\"> ───────────────────────────────────────────────╮</span>\n",
       "<span style=\"color: #000080; text-decoration-color: #000080\">│</span>                                                                                                                 <span style=\"color: #000080; text-decoration-color: #000080\">│</span>\n",
       "<span style=\"color: #000080; text-decoration-color: #000080\">│</span>  ╭───────────┬─────────────────────╮                                                                            <span style=\"color: #000080; text-decoration-color: #000080\">│</span>\n",
       "<span style=\"color: #000080; text-decoration-color: #000080\">│</span>  │<span style=\"color: #008080; text-decoration-color: #008080\"> Operation </span>│<span style=\"color: #008000; text-decoration-color: #008000\"> Evaluate Expression </span>│                                                                            <span style=\"color: #000080; text-decoration-color: #000080\">│</span>\n",
       "<span style=\"color: #000080; text-decoration-color: #000080\">│</span>  │<span style=\"color: #008080; text-decoration-color: #008080\"> Input     </span>│<span style=\"color: #008000; text-decoration-color: #008000\"> 80/4                </span>│                                                                            <span style=\"color: #000080; text-decoration-color: #000080\">│</span>\n",
       "<span style=\"color: #000080; text-decoration-color: #000080\">│</span>  │<span style=\"color: #008080; text-decoration-color: #008080\"> Result    </span>│<span style=\"color: #008000; text-decoration-color: #008000\"> 20                  </span>│                                                                            <span style=\"color: #000080; text-decoration-color: #000080\">│</span>\n",
       "<span style=\"color: #000080; text-decoration-color: #000080\">│</span>  ╰───────────┴─────────────────────╯                                                                            <span style=\"color: #000080; text-decoration-color: #000080\">│</span>\n",
       "<span style=\"color: #000080; text-decoration-color: #000080\">│</span>                                                                                                                 <span style=\"color: #000080; text-decoration-color: #000080\">│</span>\n",
       "<span style=\"color: #000080; text-decoration-color: #000080\">╰─────────────────────────────────────────────────────────────────────────────────────────────────────────────────╯</span>\n",
       "</pre>\n"
      ],
      "text/plain": [
       "\u001b[34m╭─\u001b[0m\u001b[34m─────────────────────────────────────────────\u001b[0m\u001b[34m \u001b[0m\u001b[1;34mCalculation Result\u001b[0m\u001b[34m \u001b[0m\u001b[34m──────────────────────────────────────────────\u001b[0m\u001b[34m─╮\u001b[0m\n",
       "\u001b[34m│\u001b[0m                                                                                                                 \u001b[34m│\u001b[0m\n",
       "\u001b[34m│\u001b[0m  ╭───────────┬─────────────────────╮                                                                            \u001b[34m│\u001b[0m\n",
       "\u001b[34m│\u001b[0m  │\u001b[36m \u001b[0m\u001b[36mOperation\u001b[0m\u001b[36m \u001b[0m│\u001b[32m \u001b[0m\u001b[32mEvaluate Expression\u001b[0m\u001b[32m \u001b[0m│                                                                            \u001b[34m│\u001b[0m\n",
       "\u001b[34m│\u001b[0m  │\u001b[36m \u001b[0m\u001b[36mInput    \u001b[0m\u001b[36m \u001b[0m│\u001b[32m \u001b[0m\u001b[32m80/4               \u001b[0m\u001b[32m \u001b[0m│                                                                            \u001b[34m│\u001b[0m\n",
       "\u001b[34m│\u001b[0m  │\u001b[36m \u001b[0m\u001b[36mResult   \u001b[0m\u001b[36m \u001b[0m│\u001b[32m \u001b[0m\u001b[32m20                 \u001b[0m\u001b[32m \u001b[0m│                                                                            \u001b[34m│\u001b[0m\n",
       "\u001b[34m│\u001b[0m  ╰───────────┴─────────────────────╯                                                                            \u001b[34m│\u001b[0m\n",
       "\u001b[34m│\u001b[0m                                                                                                                 \u001b[34m│\u001b[0m\n",
       "\u001b[34m╰─────────────────────────────────────────────────────────────────────────────────────────────────────────────────╯\u001b[0m\n"
      ]
     },
     "metadata": {},
     "output_type": "display_data"
    },
    {
     "name": "stdout",
     "output_type": "stream",
     "text": [
      "The result of 80 divided by 4 is 20.The result of 80 divided by 4 is 20.\n",
      "\n"
     ]
    }
   ],
   "source": [
    "response = agent(\"What is 80/4?\")\n",
    "print(response)"
   ]
  },
  {
   "cell_type": "code",
   "execution_count": 5,
   "id": "478a1a37",
   "metadata": {},
   "outputs": [
    {
     "name": "stdout",
     "output_type": "stream",
     "text": [
      "I'll check the weather for you and provide the answer in Chinese. Let me fetch the current weather information.\n",
      "Tool #4: weather\n",
      "今天天气晴朗。\n",
      "\n",
      "(Translation: Today the weather is sunny.)今天天气晴朗。\n",
      "\n",
      "(Translation: Today the weather is sunny.)\n",
      "\n"
     ]
    }
   ],
   "source": [
    "response = agent(\"What is the weather today? Answer in Chinese.\")\n",
    "print(response)"
   ]
  },
  {
   "cell_type": "markdown",
   "id": "7c5ddfed",
   "metadata": {},
   "source": [
    "\n",
    "### 4. Model Provider / 模型提供商\n",
    "\n",
    "The default model provider is [Amazon Bedrock](https://aws.amazon.com/bedrock/) and the default model is Claude 3.7 Sonnet in the region of your current AWS environment. You can specify a different model in Amazon Bedrock providing the model ID string directly:\n",
    "\n",
    "默认的模型提供商是 [Amazon Bedrock](https://aws.amazon.com/bedrock/)，默认模型是您当前 AWS 环境区域中的 Claude 3.7 Sonnet。您可以通过直接提供模型 ID 字符串在 Amazon Bedrock 中指定不同的模型："
   ]
  },
  {
   "cell_type": "code",
   "execution_count": 4,
   "id": "207432b2",
   "metadata": {},
   "outputs": [
    {
     "name": "stdout",
     "output_type": "stream",
     "text": [
      "{'model_id': 'anthropic.claude-3-5-haiku-20241022-v1:0'}\n"
     ]
    }
   ],
   "source": [
    "from strands import Agent\n",
    "\n",
    "agent = Agent(model=\"anthropic.claude-3-5-haiku-20241022-v1:0\")\n",
    "print(agent.model.config)"
   ]
  },
  {
   "cell_type": "markdown",
   "id": "88b79bb2",
   "metadata": {},
   "source": [
    "\n",
    "For more control over the model configuration, you can create a `BedrockModel` provider instance:\n",
    "\n",
    "为了更好地控制模型配置，您可以创建一个 `BedrockModel` 提供商实例："
   ]
  },
  {
   "cell_type": "code",
   "execution_count": 5,
   "id": "13767dd5",
   "metadata": {},
   "outputs": [
    {
     "name": "stdout",
     "output_type": "stream",
     "text": [
      "{'model_id': 'anthropic.claude-3-5-haiku-20241022-v1:0', 'temperature': 0.3}\n"
     ]
    }
   ],
   "source": [
    "import boto3\n",
    "from strands import Agent\n",
    "from strands.models import BedrockModel\n",
    "\n",
    "# Create a BedrockModel\n",
    "bedrock_model = BedrockModel(\n",
    "    model_id=\"anthropic.claude-3-5-haiku-20241022-v1:0\",\n",
    "    region_name='us-west-2',\n",
    "    temperature=0.3,\n",
    ")\n",
    "\n",
    "agent = Agent(model=bedrock_model)\n",
    "print(agent.model.config)"
   ]
  },
  {
   "cell_type": "markdown",
   "id": "538e5e20",
   "metadata": {},
   "source": [
    "\n",
    "More details on the available model providers on the [Model Provider Quickstart page](https://strandsagents.com/0.1.x/user-guide/quickstart/#model-providers)\n",
    "\n",
    "有关可用模型提供商的更多详细信息，请参阅[模型提供商快速入门页面](https://strandsagents.com/0.1.x/user-guide/quickstart/#model-providers)\n"
   ]
  },
  {
   "cell_type": "markdown",
   "id": "037ba1d7",
   "metadata": {},
   "source": [
    "**Congratulations !! Now you have learned how to build a simple agent using Strands!!**\n",
    "\n",
    "**恭喜！！现在您已经学会了如何使用 Strands 构建简单的代理！！**"
   ]
  },
  {
   "cell_type": "markdown",
   "id": "8ad2d9c3",
   "metadata": {},
   "source": [
    "## Lets Build a Task-Specific Agent - RecipeBot 🍽️ \n",
    "\n",
    "##  让我们构建一个特定任务的agent -  食谱机器人🍽️\n",
    "Lets create a practical example of a task-specific agent. We create a `RecipeBot` that recommends recipes and answers any cooking related questions. Lets dive in !!\n",
    "\n",
    "让我们创建一个特定任务代理的实际示例。我们创建一个 `RecipeBot`，它推荐食谱并回答任何与烹饪相关的问题。让我们深入了解！！\n",
    "\n",
    "Here's what we will create :\n",
    "\n",
    "这是我们将要创建的内容："
   ]
  },
  {
   "cell_type": "markdown",
   "id": "bff74b3f",
   "metadata": {},
   "source": [
    "<center>\n",
    "    <img src=\"./images/interactive_recipe_agent.png\" width=\"75%\" />\n",
    "</center>"
   ]
  },
  {
   "cell_type": "code",
   "execution_count": 6,
   "id": "580312ca",
   "metadata": {},
   "outputs": [],
   "source": [
    "from strands import Agent, tool\n",
    "from ddgs import DDGS\n",
    "from ddgs.exceptions import RatelimitException, DDGSException\n",
    "import logging\n",
    "\n",
    "# Configure logging\n",
    "logging.getLogger(\"strands\").setLevel(logging.INFO)\n",
    "\n",
    "# Define a websearch tool\n",
    "@tool\n",
    "def websearch(keywords: str, region: str = \"us-en\", max_results: int | None = None) -> str:\n",
    "    \"\"\"Search the web to get updated information.\n",
    "    Args:\n",
    "        keywords (str): The search query keywords.\n",
    "        region (str): The search region: wt-wt, us-en, uk-en, ru-ru, etc..\n",
    "        max_results (int | None): The maximum number of results to return.\n",
    "    Returns:\n",
    "        List of dictionaries with search results.\n",
    "    \"\"\"\n",
    "    try:\n",
    "        results = DDGS().text(keywords, region=region, max_results=max_results)\n",
    "        return results if results else \"No results found.\"\n",
    "    except RatelimitException:\n",
    "        return \"RatelimitException: Please try again after a short delay.\"\n",
    "    except DDGSException as d:\n",
    "        return f\"DuckDuckGoSearchException: {d}\"\n",
    "    except Exception as e:\n",
    "        return f\"Exception: {e}\"\n"
   ]
  },
  {
   "cell_type": "code",
   "execution_count": 7,
   "id": "0560c754",
   "metadata": {},
   "outputs": [],
   "source": [
    "# Create a recipe assistant agent\n",
    "recipe_agent = Agent(\n",
    "    model=\"us.anthropic.claude-3-7-sonnet-20250219-v1:0\",  # Optional: Specify the model ID\n",
    "    system_prompt=\"\"\"You are RecipeBot, a helpful cooking assistant.\n",
    "    Help users find recipes based on ingredients and answer cooking questions.\n",
    "    Use the websearch tool to find recipes when users mention ingredients or to\n",
    "    look up cooking information. And finally give the respose in Chinese\"\"\",\n",
    "    # Import the websearch tool we created above\n",
    "    tools=[websearch],\n",
    ")"
   ]
  },
  {
   "cell_type": "code",
   "execution_count": 8,
   "id": "6a6dafb2",
   "metadata": {},
   "outputs": [
    {
     "name": "stdout",
     "output_type": "stream",
     "text": [
      "我来帮您寻找鸡肉和西兰花的食谱。让我搜索一些适合的菜谱。\n",
      "Tool #1: websearch\n",
      "根据搜索结果，我为您找到了几道美味的鸡肉和西兰花食谱。以下是一个简单易做的选择：\n",
      "\n",
      "# 15分钟快手鸡肉西兰花\n",
      "\n",
      "## 材料：\n",
      "- 鸡胸肉，切成小块\n",
      "- 西兰花，切成小朵\n",
      "- 2-3瓣大蒜，切碎\n",
      "- 1茶匙姜末\n",
      "- 酱汁材料：\n",
      "  - 3汤匙酱油\n",
      "  - 1汤匙蜂蜜或红糖\n",
      "  - 1汤匙醋\n",
      "  - 1茶匙芝麻油\n",
      "  - 适量清水\n",
      "  - 1茶匙玉米淀粉调匀\n",
      "\n",
      "## 做法：\n",
      "1. 将鸡肉切成均匀的小块，用少量盐、胡椒和1茶匙玉米淀粉腌制几分钟。\n",
      "2. 将所有酱汁材料混合均匀，备用。\n",
      "3. 热锅加油，中高火将鸡肉煸炒至表面变色（约2-3分钟）。\n",
      "4. 加入西兰花，继续翻炒1-2分钟。\n",
      "5. 加入蒜末和姜末，炒香。\n",
      "6. 倒入调好的酱汁，盖上锅盖焖约2-3分钟，让西兰花变得脆嫩。\n",
      "7. 打开锅盖，继续翻炒直到酱汁变稠并均匀裹在鸡肉和西兰花上。\n",
      "8. 出锅前可撒上少量芝麻点缀。\n",
      "\n",
      "## 建议搭配：\n",
      "可以搭配白米饭、糙米或面条一起食用，制作一顿营养均衡的美味晚餐。\n",
      "\n",
      "这道菜只需要15分钟就能完成，比外卖更健康美味。酱汁可以根据个人口味调整甜度和咸度。西兰花保持脆嫩，鸡肉嫩滑多汁，是一道非常适合快节奏生活的健康营养餐。\n",
      "\n",
      "希望您喜欢这个食谱！如果您想尝试其他风格的鸡肉西兰花食谱，我可以为您推荐焗烤芝士鸡肉西兰花饭或是中式蚝油鸡肉西兰花。根据搜索结果，我为您找到了几道美味的鸡肉和西兰花食谱。以下是一个简单易做的选择：\n",
      "\n",
      "# 15分钟快手鸡肉西兰花\n",
      "\n",
      "## 材料：\n",
      "- 鸡胸肉，切成小块\n",
      "- 西兰花，切成小朵\n",
      "- 2-3瓣大蒜，切碎\n",
      "- 1茶匙姜末\n",
      "- 酱汁材料：\n",
      "  - 3汤匙酱油\n",
      "  - 1汤匙蜂蜜或红糖\n",
      "  - 1汤匙醋\n",
      "  - 1茶匙芝麻油\n",
      "  - 适量清水\n",
      "  - 1茶匙玉米淀粉调匀\n",
      "\n",
      "## 做法：\n",
      "1. 将鸡肉切成均匀的小块，用少量盐、胡椒和1茶匙玉米淀粉腌制几分钟。\n",
      "2. 将所有酱汁材料混合均匀，备用。\n",
      "3. 热锅加油，中高火将鸡肉煸炒至表面变色（约2-3分钟）。\n",
      "4. 加入西兰花，继续翻炒1-2分钟。\n",
      "5. 加入蒜末和姜末，炒香。\n",
      "6. 倒入调好的酱汁，盖上锅盖焖约2-3分钟，让西兰花变得脆嫩。\n",
      "7. 打开锅盖，继续翻炒直到酱汁变稠并均匀裹在鸡肉和西兰花上。\n",
      "8. 出锅前可撒上少量芝麻点缀。\n",
      "\n",
      "## 建议搭配：\n",
      "可以搭配白米饭、糙米或面条一起食用，制作一顿营养均衡的美味晚餐。\n",
      "\n",
      "这道菜只需要15分钟就能完成，比外卖更健康美味。酱汁可以根据个人口味调整甜度和咸度。西兰花保持脆嫩，鸡肉嫩滑多汁，是一道非常适合快节奏生活的健康营养餐。\n",
      "\n",
      "希望您喜欢这个食谱！如果您想尝试其他风格的鸡肉西兰花食谱，我可以为您推荐焗烤芝士鸡肉西兰花饭或是中式蚝油鸡肉西兰花。\n",
      "\n"
     ]
    }
   ],
   "source": [
    "response = recipe_agent(\"Suggest a recipe with chicken and broccoli.\")\n",
    "\n",
    "# Other examples:\n",
    "# response = recipe_agent(\"How do I cook quinoa?\")\n",
    "# response = recipe_agent(\"How can I substitute white wine in shrimp pasta?\")\n",
    "# response = recipe_agent(\"What are the health benefits of asparagus?\")\n",
    "print(response)"
   ]
  },
  {
   "cell_type": "markdown",
   "id": "9f92c8a4",
   "metadata": {},
   "source": [
    "#### And that's it! We now have a running usecase agent with tools in just a few lines of code 🥳.\n",
    "#### 就是这样！我们现在只用几行代码就有了一个带工具的运行用例代理 🥳。\n",
    "\n"
   ]
  }
 ],
 "metadata": {
  "kernelspec": {
   "display_name": "Python 3",
   "language": "python",
   "name": "python3"
  },
  "language_info": {
   "codemirror_mode": {
    "name": "ipython",
    "version": 3
   },
   "file_extension": ".py",
   "mimetype": "text/x-python",
   "name": "python",
   "nbconvert_exporter": "python",
   "pygments_lexer": "ipython3",
   "version": "3.10.12"
  }
 },
 "nbformat": 4,
 "nbformat_minor": 5
}
