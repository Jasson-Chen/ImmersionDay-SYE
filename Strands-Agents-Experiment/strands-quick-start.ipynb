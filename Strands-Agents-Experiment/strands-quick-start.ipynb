{
 "cells": [
  {
   "cell_type": "markdown",
   "id": "8e394456",
   "metadata": {},
   "source": [
    "# Quickstart Guide for Strands Agents\n",
    "\n",
    "Strands Agents is a powerful framework for building AI agents that can interact with AWS services and perform complex tasks. This quickstart guide will help you get started with creating your first Strands agent.\n",
    "\n",
    "Lets get started !"
   ]
  },
  {
   "cell_type": "markdown",
   "id": "79a45632",
   "metadata": {
    "vscode": {
     "languageId": "plaintext"
    }
   },
   "source": [
    "\n",
    "## Creating Your First Agent\n",
    "\n",
    "Lets get an overview of the agentic components needed.\n",
    "\n",
    "### 1. Create a simple Agent:\n",
    "\n",
    "This will create an agent with the default model provider, [Amazon Bedrock](https://aws.amazon.com/bedrock/), and the default model, Claude 3.7 Sonnet, in the region of your AWS setup. While the agent runs in the same local environment as it is being invoked, Amazon Bedrock models will run in an AWS account and your agent will invoke the model in the cloud account. The architecture looks as following:\n",
    "<center>\n",
    "    <img src=\"./images/simple_agent.png\" width=\"75%\" />\n",
    "</center>\n",
    "\n"
   ]
  },
  {
   "cell_type": "code",
   "execution_count": 1,
   "id": "8d549346",
   "metadata": {},
   "outputs": [
    {
     "name": "stdout",
     "output_type": "stream",
     "text": [
      "Why did the scarecrow win an award? Because he was outstanding in his field!"
     ]
    }
   ],
   "source": [
    "import warnings\n",
    "warnings.filterwarnings(action=\"ignore\", message=r\"datetime.datetime.utcnow\") \n",
    "\n",
    "from strands import Agent\n",
    "# Initialize your agent\n",
    "agent = Agent(\n",
    "    model=\"us.anthropic.claude-3-7-sonnet-20250219-v1:0\",  # Optional: Specify the model ID\n",
    "    system_prompt=\"You are a helpful assistant that provides concise responses.\"\n",
    ")\n",
    "\n",
    "# Send a message to the agent\n",
    "response = agent(\"Hello! Tell me a joke.\")"
   ]
  },
  {
   "cell_type": "markdown",
   "id": "cc305d76",
   "metadata": {},
   "source": [
    "### 2. Add Tools to the Agent:\n",
    "\n",
    "The [strands-agents-tools](https://github.com/strands-agents/tools) repository provides some in-built tools which you can import. You can also create custom tools using the `@tool` decorator. We can create agents with built-in and custom tools. For instance, adding the built-in tool of a calculator and a custom tool for getting the weather you get the following architecture:\n",
    "<center>\n",
    "    <img src=\"./images/agent_with_tools.png\" width=\"75%\" />\n",
    "</center>\n",
    "Implementing this architecture you have the following:"
   ]
  },
  {
   "cell_type": "code",
   "execution_count": 2,
   "id": "c84d9466",
   "metadata": {},
   "outputs": [
    {
     "name": "stdout",
     "output_type": "stream",
     "text": [
      "I can check the current weather for you. Let me do that right away.\n",
      "Tool #1: weather\n",
      "Based on the information I received, the weather today is sunny. It's a great day to spend some time outdoors if you have the opportunity!Based on the information I received, the weather today is sunny. It's a great day to spend some time outdoors if you have the opportunity!\n",
      "\n"
     ]
    }
   ],
   "source": [
    "from strands import Agent, tool\n",
    "from strands_tools import calculator # Import the calculator tool\n",
    "\n",
    "# Create a custom tool \n",
    "@tool\n",
    "def weather():\n",
    "    \"\"\" Get weather \"\"\" # Dummy implementation\n",
    "    return \"sunny\"\n",
    "\n",
    "agent = Agent(\n",
    "    model=\"us.anthropic.claude-3-7-sonnet-20250219-v1:0\",  # Optional: Specify the model ID\n",
    "    tools=[calculator, weather],\n",
    "    system_prompt=\"You're a helpful assistant. You can do simple math calculation, and tell the weather.\")\n",
    "\n",
    "response = agent(\"What is the weather today?\")\n",
    "print(response)"
   ]
  },
  {
   "cell_type": "markdown",
   "id": "c96537ad-a5af-49d9-aaff-c9101ae31e73",
   "metadata": {},
   "source": [
    "### Invoking tool directly\n",
    "\n",
    "For some applications it is important to directly call the tool. For instance, you might want to debug the tool, pre-populate the agent knowledge with your customer's information or using a tool inside of another tool. In Strands you can do it using the ``tool`` method of your agent followed by the tool name"
   ]
  },
  {
   "cell_type": "code",
   "execution_count": 3,
   "id": "7743fe69",
   "metadata": {},
   "outputs": [
    {
     "data": {
      "text/html": [
       "<pre style=\"white-space:pre;overflow-x:auto;line-height:normal;font-family:Menlo,'DejaVu Sans Mono',consolas,'Courier New',monospace\"><span style=\"color: #000080; text-decoration-color: #000080\">╭────────────────────────────────────────────── </span><span style=\"color: #000080; text-decoration-color: #000080; font-weight: bold\">Calculation Result</span><span style=\"color: #000080; text-decoration-color: #000080\"> ───────────────────────────────────────────────╮</span>\n",
       "<span style=\"color: #000080; text-decoration-color: #000080\">│</span>                                                                                                                 <span style=\"color: #000080; text-decoration-color: #000080\">│</span>\n",
       "<span style=\"color: #000080; text-decoration-color: #000080\">│</span>  ╭─────────────────┬───────────────────────────╮                                                                <span style=\"color: #000080; text-decoration-color: #000080\">│</span>\n",
       "<span style=\"color: #000080; text-decoration-color: #000080\">│</span>  │<span style=\"color: #008080; text-decoration-color: #008080\"> Operation       </span>│<span style=\"color: #008000; text-decoration-color: #008000\"> Calculate 2-th Derivative </span>│                                                                <span style=\"color: #000080; text-decoration-color: #000080\">│</span>\n",
       "<span style=\"color: #000080; text-decoration-color: #000080\">│</span>  │<span style=\"color: #008080; text-decoration-color: #008080\"> Input           </span>│<span style=\"color: #008000; text-decoration-color: #008000\"> sin(x)                    </span>│                                                                <span style=\"color: #000080; text-decoration-color: #000080\">│</span>\n",
       "<span style=\"color: #000080; text-decoration-color: #000080\">│</span>  │<span style=\"color: #008080; text-decoration-color: #008080\"> Result          </span>│<span style=\"color: #008000; text-decoration-color: #008000\"> -sin(x)                   </span>│                                                                <span style=\"color: #000080; text-decoration-color: #000080\">│</span>\n",
       "<span style=\"color: #000080; text-decoration-color: #000080\">│</span>  │<span style=\"color: #008080; text-decoration-color: #008080\"> With respect to </span>│<span style=\"color: #008000; text-decoration-color: #008000\"> x                         </span>│                                                                <span style=\"color: #000080; text-decoration-color: #000080\">│</span>\n",
       "<span style=\"color: #000080; text-decoration-color: #000080\">│</span>  ╰─────────────────┴───────────────────────────╯                                                                <span style=\"color: #000080; text-decoration-color: #000080\">│</span>\n",
       "<span style=\"color: #000080; text-decoration-color: #000080\">│</span>                                                                                                                 <span style=\"color: #000080; text-decoration-color: #000080\">│</span>\n",
       "<span style=\"color: #000080; text-decoration-color: #000080\">╰─────────────────────────────────────────────────────────────────────────────────────────────────────────────────╯</span>\n",
       "</pre>\n"
      ],
      "text/plain": [
       "\u001b[34m╭─\u001b[0m\u001b[34m─────────────────────────────────────────────\u001b[0m\u001b[34m \u001b[0m\u001b[1;34mCalculation Result\u001b[0m\u001b[34m \u001b[0m\u001b[34m──────────────────────────────────────────────\u001b[0m\u001b[34m─╮\u001b[0m\n",
       "\u001b[34m│\u001b[0m                                                                                                                 \u001b[34m│\u001b[0m\n",
       "\u001b[34m│\u001b[0m  ╭─────────────────┬───────────────────────────╮                                                                \u001b[34m│\u001b[0m\n",
       "\u001b[34m│\u001b[0m  │\u001b[36m \u001b[0m\u001b[36mOperation      \u001b[0m\u001b[36m \u001b[0m│\u001b[32m \u001b[0m\u001b[32mCalculate 2-th Derivative\u001b[0m\u001b[32m \u001b[0m│                                                                \u001b[34m│\u001b[0m\n",
       "\u001b[34m│\u001b[0m  │\u001b[36m \u001b[0m\u001b[36mInput          \u001b[0m\u001b[36m \u001b[0m│\u001b[32m \u001b[0m\u001b[32msin(x)                   \u001b[0m\u001b[32m \u001b[0m│                                                                \u001b[34m│\u001b[0m\n",
       "\u001b[34m│\u001b[0m  │\u001b[36m \u001b[0m\u001b[36mResult         \u001b[0m\u001b[36m \u001b[0m│\u001b[32m \u001b[0m\u001b[32m-sin(x)                  \u001b[0m\u001b[32m \u001b[0m│                                                                \u001b[34m│\u001b[0m\n",
       "\u001b[34m│\u001b[0m  │\u001b[36m \u001b[0m\u001b[36mWith respect to\u001b[0m\u001b[36m \u001b[0m│\u001b[32m \u001b[0m\u001b[32mx                        \u001b[0m\u001b[32m \u001b[0m│                                                                \u001b[34m│\u001b[0m\n",
       "\u001b[34m│\u001b[0m  ╰─────────────────┴───────────────────────────╯                                                                \u001b[34m│\u001b[0m\n",
       "\u001b[34m│\u001b[0m                                                                                                                 \u001b[34m│\u001b[0m\n",
       "\u001b[34m╰─────────────────────────────────────────────────────────────────────────────────────────────────────────────────╯\u001b[0m\n"
      ]
     },
     "metadata": {},
     "output_type": "display_data"
    },
    {
     "data": {
      "text/plain": [
       "{'status': 'success',\n",
       " 'content': [{'text': 'Result: -sin(x)'}],\n",
       " 'toolUseId': 'tooluse_calculator_463845579'}"
      ]
     },
     "execution_count": 3,
     "metadata": {},
     "output_type": "execute_result"
    }
   ],
   "source": [
    "# Alternatively, you can invoke the tool directly like so:\n",
    "agent.tool.calculator(expression=\"sin(x)\", mode=\"derive\", wrt=\"x\", order=2)"
   ]
  },
  {
   "cell_type": "markdown",
   "id": "7c5ddfed",
   "metadata": {},
   "source": [
    "\n",
    "### 4. Model Provider\n",
    "\n",
    "The default model provider is [Amazon Bedrock](https://aws.amazon.com/bedrock/) and the default model is Claude 3.7 Sonnet in the region of your current AWS environment\n",
    "\n",
    "You can specify a different model in Amazon Bedrock providing the model ID string directly:"
   ]
  },
  {
   "cell_type": "code",
   "execution_count": 7,
   "id": "207432b2",
   "metadata": {},
   "outputs": [
    {
     "name": "stdout",
     "output_type": "stream",
     "text": [
      "{'model_id': 'anthropic.claude-3-5-haiku-20241022-v1:0'}\n"
     ]
    }
   ],
   "source": [
    "from strands import Agent\n",
    "\n",
    "agent = Agent(model=\"anthropic.claude-3-5-haiku-20241022-v1:0\")\n",
    "print(agent.model.config)"
   ]
  },
  {
   "cell_type": "markdown",
   "id": "88b79bb2",
   "metadata": {},
   "source": [
    "\n",
    "For more control over the model configuration, you can create a `BedrockModel` provider instance:"
   ]
  },
  {
   "cell_type": "code",
   "execution_count": 9,
   "id": "13767dd5",
   "metadata": {},
   "outputs": [
    {
     "name": "stdout",
     "output_type": "stream",
     "text": [
      "{'model_id': 'anthropic.claude-3-5-haiku-20241022-v1:0', 'temperature': 0.3}\n"
     ]
    }
   ],
   "source": [
    "import boto3\n",
    "from strands import Agent\n",
    "from strands.models import BedrockModel\n",
    "\n",
    "# Create a BedrockModel\n",
    "bedrock_model = BedrockModel(\n",
    "    model_id=\"anthropic.claude-3-5-haiku-20241022-v1:0\",\n",
    "    region_name='us-west-2',\n",
    "    temperature=0.3,\n",
    ")\n",
    "\n",
    "agent = Agent(model=bedrock_model)\n",
    "print(agent.model.config)"
   ]
  },
  {
   "cell_type": "markdown",
   "id": "538e5e20",
   "metadata": {},
   "source": [
    "\n",
    "More details on the available model providers on the [Model Provider Quickstart page](https://strandsagents.com/0.1.x/user-guide/quickstart/#model-providers)\n"
   ]
  },
  {
   "cell_type": "markdown",
   "id": "037ba1d7",
   "metadata": {},
   "source": [
    "**Congratulations !! Now you have learned how to build a simple agent using Strands!!**"
   ]
  },
  {
   "cell_type": "markdown",
   "id": "8ad2d9c3",
   "metadata": {},
   "source": [
    "## [Optional] Lets Build a Task-Specific Agent - RecipeBot 🍽️\n",
    "\n",
    "Lets create a practical example of a task-specific agent. We create a `RecipeBot` that recommends recipes and answers any cooking related questions. Lets dive in !!\n",
    "\n",
    "Here's what we will create :"
   ]
  },
  {
   "cell_type": "markdown",
   "id": "bff74b3f",
   "metadata": {},
   "source": [
    "<center>\n",
    "    <img src=\"./images/interactive_recipe_agent.png\" width=\"75%\" />\n",
    "</center>"
   ]
  },
  {
   "cell_type": "code",
   "execution_count": 10,
   "id": "580312ca",
   "metadata": {},
   "outputs": [],
   "source": [
    "from strands import Agent, tool\n",
    "from ddgs import DDGS\n",
    "from ddgs.exceptions import RatelimitException, DDGSException\n",
    "import logging\n",
    "\n",
    "# Configure logging\n",
    "logging.getLogger(\"strands\").setLevel(logging.INFO)\n",
    "\n",
    "# Define a websearch tool\n",
    "@tool\n",
    "def websearch(keywords: str, region: str = \"us-en\", max_results: int | None = None) -> str:\n",
    "    \"\"\"Search the web to get updated information.\n",
    "    Args:\n",
    "        keywords (str): The search query keywords.\n",
    "        region (str): The search region: wt-wt, us-en, uk-en, ru-ru, etc..\n",
    "        max_results (int | None): The maximum number of results to return.\n",
    "    Returns:\n",
    "        List of dictionaries with search results.\n",
    "    \"\"\"\n",
    "    try:\n",
    "        results = DDGS().text(keywords, region=region, max_results=max_results)\n",
    "        return results if results else \"No results found.\"\n",
    "    except RatelimitException:\n",
    "        return \"RatelimitException: Please try again after a short delay.\"\n",
    "    except DDGSException as d:\n",
    "        return f\"DuckDuckGoSearchException: {d}\"\n",
    "    except Exception as e:\n",
    "        return f\"Exception: {e}\"\n"
   ]
  },
  {
   "cell_type": "code",
   "execution_count": 11,
   "id": "0560c754",
   "metadata": {},
   "outputs": [],
   "source": [
    "# Create a recipe assistant agent\n",
    "recipe_agent = Agent(\n",
    "    model=\"us.anthropic.claude-3-7-sonnet-20250219-v1:0\",  # Optional: Specify the model ID\n",
    "    system_prompt=\"\"\"You are RecipeBot, a helpful cooking assistant.\n",
    "    Help users find recipes based on ingredients and answer cooking questions.\n",
    "    Use the websearch tool to find recipes when users mention ingredients or to\n",
    "    look up cooking information.\"\"\",\n",
    "    # Import the websearch tool we created above\n",
    "    tools=[websearch],\n",
    ")"
   ]
  },
  {
   "cell_type": "code",
   "execution_count": 12,
   "id": "6a6dafb2",
   "metadata": {},
   "outputs": [
    {
     "name": "stdout",
     "output_type": "stream",
     "text": [
      "I'd be happy to find some chicken and broccoli recipes for you! Let me search for some options.\n",
      "Tool #1: websearch\n",
      "Based on my search, I found a delicious chicken and broccoli stir-fry recipe that's quick and easy to make. Here it is:\n",
      "\n",
      "# Chicken and Broccoli Stir-Fry\n",
      "\n",
      "**Ingredients:**\n",
      "- 1 pound boneless skinless chicken thighs, cut into 3/4-inch pieces\n",
      "- 3 tablespoons cornstarch (divided: 1 tbsp for coating chicken, 2 tbsp for sauce)\n",
      "- 2 tablespoons cooking oil\n",
      "- 3/4 cup thinly sliced onion\n",
      "- 2 teaspoons minced fresh ginger\n",
      "- 4 garlic cloves, thinly sliced\n",
      "- 1 large head of broccoli, cut into florets\n",
      "- 1/4 cup water\n",
      "- 1/4 cup soy sauce\n",
      "- 2 tablespoons oyster sauce\n",
      "- 1 tablespoon light brown sugar\n",
      "- 1/4 teaspoon crushed red pepper flakes (adjust to taste)\n",
      "- Black pepper to taste\n",
      "\n",
      "**Instructions:**\n",
      "1. In a medium bowl, toss chicken pieces with 1 tablespoon cornstarch until coated.\n",
      "\n",
      "2. Heat oil in a large non-stick skillet over medium-high heat until shimmery (about 2 minutes).\n",
      "\n",
      "3. Add chicken to the skillet in a single layer and cook, stirring often, until crisp and cooked through (about 6 minutes).\n",
      "\n",
      "4. Add onions, and cook, stirring often, until translucent (about 1 minute).\n",
      "\n",
      "5. Add ginger and garlic; cook, stirring constantly, until fragrant (about 1 minute).\n",
      "\n",
      "6. Transfer the chicken mixture to a plate and set aside.\n",
      "\n",
      "7. In the same skillet, add broccoli and cook over medium-high heat, stirring occasionally, until bright green and heated through (2-3 minutes).\n",
      "\n",
      "8. Meanwhile, in a small bowl, whisk together water, soy sauce, oyster sauce, brown sugar, crushed red pepper, black pepper, and the remaining 2 tablespoons cornstarch until smooth.\n",
      "\n",
      "9. Return the chicken mixture to the skillet with the broccoli, then add the sauce mixture.\n",
      "\n",
      "10. Cook, stirring occasionally, until the chicken and broccoli are well-coated and the sauce is thickened.\n",
      "\n",
      "11. Serve hot over rice for a complete meal.\n",
      "\n",
      "This recipe is perfect for a weeknight dinner as it comes together in about 15-20 minutes. The sauce creates a delicious balance of sweet, savory, and slightly spicy flavors that coat the tender chicken and crisp broccoli beautifully.\n",
      "\n",
      "Would you like to try this recipe, or would you prefer something different with chicken and broccoli, like a casserole or soup option?Based on my search, I found a delicious chicken and broccoli stir-fry recipe that's quick and easy to make. Here it is:\n",
      "\n",
      "# Chicken and Broccoli Stir-Fry\n",
      "\n",
      "**Ingredients:**\n",
      "- 1 pound boneless skinless chicken thighs, cut into 3/4-inch pieces\n",
      "- 3 tablespoons cornstarch (divided: 1 tbsp for coating chicken, 2 tbsp for sauce)\n",
      "- 2 tablespoons cooking oil\n",
      "- 3/4 cup thinly sliced onion\n",
      "- 2 teaspoons minced fresh ginger\n",
      "- 4 garlic cloves, thinly sliced\n",
      "- 1 large head of broccoli, cut into florets\n",
      "- 1/4 cup water\n",
      "- 1/4 cup soy sauce\n",
      "- 2 tablespoons oyster sauce\n",
      "- 1 tablespoon light brown sugar\n",
      "- 1/4 teaspoon crushed red pepper flakes (adjust to taste)\n",
      "- Black pepper to taste\n",
      "\n",
      "**Instructions:**\n",
      "1. In a medium bowl, toss chicken pieces with 1 tablespoon cornstarch until coated.\n",
      "\n",
      "2. Heat oil in a large non-stick skillet over medium-high heat until shimmery (about 2 minutes).\n",
      "\n",
      "3. Add chicken to the skillet in a single layer and cook, stirring often, until crisp and cooked through (about 6 minutes).\n",
      "\n",
      "4. Add onions, and cook, stirring often, until translucent (about 1 minute).\n",
      "\n",
      "5. Add ginger and garlic; cook, stirring constantly, until fragrant (about 1 minute).\n",
      "\n",
      "6. Transfer the chicken mixture to a plate and set aside.\n",
      "\n",
      "7. In the same skillet, add broccoli and cook over medium-high heat, stirring occasionally, until bright green and heated through (2-3 minutes).\n",
      "\n",
      "8. Meanwhile, in a small bowl, whisk together water, soy sauce, oyster sauce, brown sugar, crushed red pepper, black pepper, and the remaining 2 tablespoons cornstarch until smooth.\n",
      "\n",
      "9. Return the chicken mixture to the skillet with the broccoli, then add the sauce mixture.\n",
      "\n",
      "10. Cook, stirring occasionally, until the chicken and broccoli are well-coated and the sauce is thickened.\n",
      "\n",
      "11. Serve hot over rice for a complete meal.\n",
      "\n",
      "This recipe is perfect for a weeknight dinner as it comes together in about 15-20 minutes. The sauce creates a delicious balance of sweet, savory, and slightly spicy flavors that coat the tender chicken and crisp broccoli beautifully.\n",
      "\n",
      "Would you like to try this recipe, or would you prefer something different with chicken and broccoli, like a casserole or soup option?\n",
      "\n"
     ]
    }
   ],
   "source": [
    "response = recipe_agent(\"Suggest a recipe with chicken and broccoli.\")\n",
    "\n",
    "# Other examples:\n",
    "# response = recipe_agent(\"How do I cook quinoa?\")\n",
    "# response = recipe_agent(\"How can I substitute white wine in shrimp pasta?\")\n",
    "# response = recipe_agent(\"What are the health benefits of asparagus?\")\n",
    "print(response)"
   ]
  },
  {
   "cell_type": "markdown",
   "id": "9f92c8a4",
   "metadata": {},
   "source": [
    "#### And that's it! We now have a running usecase agent with tools in just a few lines of code 🥳.\n",
    "\n",
    "For more detailed quickstart guide, check out the [Strands documentation](https://strandsagents.com/0.1.x/user-guide/quickstart/)."
   ]
  }
 ],
 "metadata": {
  "kernelspec": {
   "display_name": "Python 3",
   "language": "python",
   "name": "python3"
  },
  "language_info": {
   "codemirror_mode": {
    "name": "ipython",
    "version": 3
   },
   "file_extension": ".py",
   "mimetype": "text/x-python",
   "name": "python",
   "nbconvert_exporter": "python",
   "pygments_lexer": "ipython3",
   "version": "3.10.12"
  }
 },
 "nbformat": 4,
 "nbformat_minor": 5
}
