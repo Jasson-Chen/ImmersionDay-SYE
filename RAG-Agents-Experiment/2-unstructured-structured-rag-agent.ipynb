{
 "cells": [
  {
   "cell_type": "markdown",
   "id": "5f68b737",
   "metadata": {},
   "source": [
    "# Unstructured and Structured RAG with Intelligent Query Routing\n",
    "\n",
    "This notebook demonstrates an advanced RAG pattern that intelligently routes queries between **structured** and **unstructured** knowledge bases using **Strands Agents** \n",
    "\n",
    "## Overview\n",
    "\n",
    "The system uses custom retrieval tools that connect to Amazon Bedrock Knowledge Bases:\n",
    "1. **Query Analysis**: Agent analyzes incoming query to determine type\n",
    "2. **Tool Selection**: Routes to unstructured (document) or structured (SQL) assistant\n",
    "3. **Retrieval**: Appropriate knowledge base retrieves relevant information\n",
    "4. **Response Generation**: Agent synthesizes and presents the results\n",
    "\n",
    "This approach enables handling both qualitative questions (business strategy, policies) and quantitative queries (financial metrics, data analysis) within a single conversational interface."
   ]
  },
  {
   "cell_type": "markdown",
   "id": "9e693a8a",
   "metadata": {
    "vscode": {
     "languageId": "raw"
    }
   },
   "source": [
    "## Prerequisites and Setup\n",
    "\n",
    "Before running this notebook, ensure you have completed:\n",
    "1. **`0-prerequisites-structured-kb.ipynb`** - Sets up Redshift-based structured Amazon Bedrock Knowledge Base\n",
    "2. **`1-prerequisites-unstructured-kb.ipynb`** - Sets up document-based unstructured Amazon Bedrock Knowledge Base\n",
    "\n",
    "\n",
    "Let's start by importing the required libraries:\n"
   ]
  },
  {
   "cell_type": "code",
   "execution_count": 5,
   "id": "1ce61780",
   "metadata": {},
   "outputs": [],
   "source": [
    "import os\n",
    "import boto3\n",
    "from strands import Agent, tool\n",
    "import json"
   ]
  },
  {
   "cell_type": "code",
   "execution_count": 3,
   "id": "0a124047",
   "metadata": {},
   "outputs": [],
   "source": [
    "# Set up AWS region and  Amazon Bedrock Agent Runtime client for knowledge base interactions\n",
    "region = os.getenv('AWS_REGION')\n",
    "bedrock_agent_runtime = boto3.client('bedrock-agent-runtime', region_name=region)"
   ]
  },
  {
   "cell_type": "markdown",
   "id": "7027308c",
   "metadata": {
    "vscode": {
     "languageId": "raw"
    }
   },
   "source": [
    "### Load Knowledge Base Configuration\n",
    "\n",
    "Load the knowledge base IDs from the prerequisite notebooks:\n"
   ]
  },
  {
   "cell_type": "code",
   "execution_count": 6,
   "id": "e14a35ce",
   "metadata": {},
   "outputs": [
    {
     "name": "stdout",
     "output_type": "stream",
     "text": [
      "============================================================\n",
      "Unstructured KB ID: P26LUAGL1B\n",
      "Structured KB ID: M3ZUEKMZG3\n",
      "Unstructured KB Region: us-east-1\n",
      "Structured KB Region: us-east-1\n"
     ]
    }
   ],
   "source": [
    "\n",
    "# Retrieve stored knowledge base IDs from prerequisite notebooks\n",
    "# %store -r unstructured_kb_id\n",
    "# %store -r structured_kb_id \n",
    "# %store -r kb_region\n",
    "# %store -r structured_kb_region\n",
    "\n",
    "with open(\"structured_var.json\", \"r\") as f:\n",
    "    structured_var = json.load(f)\n",
    "with open(\"unstructured_var.json\", \"r\") as f:\n",
    "    unstructured_var = json.load(f)\n",
    "\n",
    "# Access the variables\n",
    "unstructured_kb_id = unstructured_var['unstructured_kb_id']\n",
    "structured_kb_id = structured_var['structured_kb_id']\n",
    "kb_region = unstructured_var['kb_region']\n",
    "structured_kb_region = structured_var['structured_kb_region']\n",
    "\n",
    "# Use the stored values\n",
    "UNSTRUCTURED_KB_ID = unstructured_kb_id  # From 1-prerequisites-unstructured-kb.ipynb\n",
    "STRUCTURED_KB_ID = structured_kb_id      # From 0-prerequisites-structured-kb.ipynb\n",
    "\n",
    "\n",
    "print(\"=\"*60)\n",
    "print(f\"Unstructured KB ID: {UNSTRUCTURED_KB_ID}\")\n",
    "print(f\"Structured KB ID: {STRUCTURED_KB_ID}\")\n",
    "print(f\"Unstructured KB Region: {kb_region}\")\n",
    "print(f\"Structured KB Region: {structured_kb_region}\")\n"
   ]
  },
  {
   "cell_type": "markdown",
   "id": "5430596f",
   "metadata": {
    "vscode": {
     "languageId": "raw"
    }
   },
   "source": [
    "## Custom Retrieval Tools\n",
    "\n",
    "We will create two specialized tools using the Strands Agents `@tool` decorator. Each tool handles different types of queries by connecting to the appropriate knowledge base.\n",
    "\n",
    "### Unstructured Data Assistant Tool\n",
    "\n",
    "This tool handles document-based queries by retrieving information from the unstructured knowledge base (PDF documents, reports, policies):\n"
   ]
  },
  {
   "cell_type": "code",
   "execution_count": 7,
   "id": "ab213cb6",
   "metadata": {},
   "outputs": [],
   "source": [
    "@tool\n",
    "def unstructured_data_assistant(query: str) -> str:\n",
    "    \"\"\"\n",
    "    Handle document-based, narrative, and conceptual queries using the unstructured knowledge base.\n",
    "    \n",
    "    Args:\n",
    "        query: A question about business strategies, policies, company information, \n",
    "               or requiring document comprehension and qualitative analysis\n",
    "    \n",
    "    Returns:\n",
    "        Raw retrieve response from the unstructured knowledge base\n",
    "    \"\"\"\n",
    "    try:\n",
    "        retrieve_response = bedrock_agent_runtime.retrieve(\n",
    "            knowledgeBaseId=UNSTRUCTURED_KB_ID,\n",
    "            retrievalQuery={'text': query},\n",
    "            retrievalConfiguration={\n",
    "                'vectorSearchConfiguration': {\n",
    "                    'numberOfResults': 10,\n",
    "                }\n",
    "            }\n",
    "        )\n",
    "        \n",
    "        return retrieve_response\n",
    "        \n",
    "    except Exception as e:\n",
    "        return f\"Error in unstructured data assistant: {str(e)}\"\n"
   ]
  },
  {
   "cell_type": "markdown",
   "id": "c3ea5d94",
   "metadata": {
    "vscode": {
     "languageId": "raw"
    }
   },
   "source": [
    "### Structured Data Assistant Tool\n",
    "\n",
    "This tool handles data analysis queries by retrieving information from the structured knowledge base (SQL/Redshift database):\n"
   ]
  },
  {
   "cell_type": "code",
   "execution_count": 8,
   "id": "05754788",
   "metadata": {},
   "outputs": [],
   "source": [
    "@tool\n",
    "def structured_data_assistant(query: str) -> str:\n",
    "    \"\"\"\n",
    "    Handle data analysis, metrics, and quantitative queries using the structured knowledge base.\n",
    "    \n",
    "    Args:\n",
    "        query: A question requiring calculations, aggregations, statistical analysis,\n",
    "               or database operations on structured data\n",
    "    \n",
    "    Returns:\n",
    "        Raw retrieve response from the structured knowledge base\n",
    "    \"\"\"\n",
    "    try:\n",
    "        retrieve_response = bedrock_agent_runtime.retrieve(\n",
    "            knowledgeBaseId=STRUCTURED_KB_ID,\n",
    "            retrievalQuery={'text': query},\n",
    "            retrievalConfiguration={\n",
    "                'vectorSearchConfiguration': {\n",
    "                    'numberOfResults': 10,\n",
    "                }\n",
    "            }\n",
    "        )\n",
    "        \n",
    "        return retrieve_response\n",
    "        \n",
    "    except Exception as e:\n",
    "        return f\"Error in structured data assistant: {str(e)}\"\n"
   ]
  },
  {
   "cell_type": "markdown",
   "id": "0244b523",
   "metadata": {
    "vscode": {
     "languageId": "raw"
    }
   },
   "source": [
    "## Intelligent Agent with Query Routing\n",
    "\n",
    "Now we'll create the orchestrator agent with our custom tools and system prompt that intelligently routes queries to the appropriate tool based on the query type and content.\n"
   ]
  },
  {
   "cell_type": "code",
   "execution_count": 9,
   "id": "28210932",
   "metadata": {},
   "outputs": [],
   "source": [
    "# Create the orchestrator agent with both tools\n",
    "orchestrator = Agent(\n",
    "    system_prompt=\"\"\"You are an intelligent assistant that routes queries to the appropriate knowledge base. Choose the appropriate tool based on the query type. \n",
    "    The tools return raw data that you should analyze and present in a clear, helpful format.\"\"\",\n",
    "    tools=[\n",
    "        unstructured_data_assistant,\n",
    "        structured_data_assistant\n",
    "    ]\n",
    ")"
   ]
  },
  {
   "cell_type": "markdown",
   "id": "4ff1d2a7",
   "metadata": {
    "vscode": {
     "languageId": "raw"
    }
   },
   "source": [
    "Let's test our agent with different types of queries to observe how it routes them to the appropriate knowledge bases.\n",
    "\n",
    "### Example 1: Unstructured Query\n",
    "\n",
    "This query asks about qualitative, document-based information and should be routed to the unstructured knowledge base:\n"
   ]
  },
  {
   "cell_type": "code",
   "execution_count": 10,
   "id": "e3f98e97",
   "metadata": {},
   "outputs": [
    {
     "name": "stdout",
     "output_type": "stream",
     "text": [
      "=== EXAMPLE 1: BUSINESS STRATEGY QUERY ===\n",
      "Query: What is Octank Financial's business strategy?\n",
      "\n",
      "I'll help you find information about Octank Financial's business strategy by searching our unstructured knowledge base.\n",
      "Tool #1: unstructured_data_assistant\n",
      "Based on the information retrieved from Octank Financial's documents, here is their comprehensive business strategy:\n",
      "\n",
      "## Octank Financial's Business Strategy\n",
      "\n",
      "### **Core Mission & Positioning**\n",
      "Octank Financial is a leading financial services company founded in 2010 that positions itself as dedicated to providing \"innovative and comprehensive financial solutions\" to clients across multiple segments.\n",
      "\n",
      "### **Strategic Pillars**\n",
      "\n",
      "#### **1. Client-Centric Approach**\n",
      "- **Foundation**: Success built on client success with a culture focused on building long-term relationships\n",
      "- **Values**: Based on trust, transparency, and mutual respect\n",
      "- **Service Excellence**: Commitment to delivering exceptional service as a core differentiator\n",
      "\n",
      "#### **2. Comprehensive Service Portfolio**\n",
      "The company operates across five main business divisions:\n",
      "- **Investment Banking**: M&A, capital markets, and financial advisory services\n",
      "- **Wealth Management**: Customized investment strategies for high net worth individuals and families\n",
      "- **Asset Management**: Disciplined investment approach for pension funds, endowments, foundations, and sovereign wealth funds\n",
      "- **Corporate Finance**: Financial advisory services for middle-market companies\n",
      "- **Private Equity**: Investments in growth-oriented companies across various industries\n",
      "\n",
      "#### **3. Three-Pillar Strategic Framework**\n",
      "1. **Product Development**: Customer-led approach starting with understanding client needs and pain points\n",
      "2. **Customer Engagement**: Focus on exceptional customer service and long-term relationship building\n",
      "3. **Community Impact**: Corporate social responsibility focused on education, healthcare, and environmental sustainability\n",
      "\n",
      "### **Core Values Driving Strategy**\n",
      "1. **Integrity**: Highest ethical standards and transparency\n",
      "2. **Innovation**: Staying at the forefront of financial innovation through technology and creativity\n",
      "3. **Collaboration**: Working closely with clients and colleagues\n",
      "4. **Excellence**: Striving for the best possible service\n",
      "5. **Social Responsibility**: Making positive impact on communities\n",
      "\n",
      "### **Market Focus & Accessibility**\n",
      "- **Target Market**: Middle-income individuals and small to medium-sized businesses\n",
      "- **Digital-First Approach**: Making financial services accessible regardless of background, location, or financial status\n",
      "- **Financial Literacy**: Commitment to promoting financial education\n",
      "\n",
      "### **Financial Strength**\n",
      "The strategy is supported by strong financial performance:\n",
      "- 2021 revenues of $2.5 billion (15% growth)\n",
      "- Net income of $500 million (up from $400 million in 2020)\n",
      "- Strong balance sheet with $1 billion in cash and cash equivalents\n",
      "\n",
      "### **Human Capital Strategy**\n",
      "- Team of over 1,000 diverse professionals\n",
      "- Commitment to diversity, equity, and inclusion\n",
      "- Focus on creating positive and inclusive workplace culture\n",
      "- Comprehensive training programs to stay current with industry trends\n",
      "\n",
      "This strategy positions Octank Financial as a comprehensive financial services provider that differentiates itself through client focus, innovation, and strong ethical standards while maintaining financial strength and community responsibility.Based on the information retrieved from Octank Financial's documents, here is their comprehensive business strategy:\n",
      "\n",
      "## Octank Financial's Business Strategy\n",
      "\n",
      "### **Core Mission & Positioning**\n",
      "Octank Financial is a leading financial services company founded in 2010 that positions itself as dedicated to providing \"innovative and comprehensive financial solutions\" to clients across multiple segments.\n",
      "\n",
      "### **Strategic Pillars**\n",
      "\n",
      "#### **1. Client-Centric Approach**\n",
      "- **Foundation**: Success built on client success with a culture focused on building long-term relationships\n",
      "- **Values**: Based on trust, transparency, and mutual respect\n",
      "- **Service Excellence**: Commitment to delivering exceptional service as a core differentiator\n",
      "\n",
      "#### **2. Comprehensive Service Portfolio**\n",
      "The company operates across five main business divisions:\n",
      "- **Investment Banking**: M&A, capital markets, and financial advisory services\n",
      "- **Wealth Management**: Customized investment strategies for high net worth individuals and families\n",
      "- **Asset Management**: Disciplined investment approach for pension funds, endowments, foundations, and sovereign wealth funds\n",
      "- **Corporate Finance**: Financial advisory services for middle-market companies\n",
      "- **Private Equity**: Investments in growth-oriented companies across various industries\n",
      "\n",
      "#### **3. Three-Pillar Strategic Framework**\n",
      "1. **Product Development**: Customer-led approach starting with understanding client needs and pain points\n",
      "2. **Customer Engagement**: Focus on exceptional customer service and long-term relationship building\n",
      "3. **Community Impact**: Corporate social responsibility focused on education, healthcare, and environmental sustainability\n",
      "\n",
      "### **Core Values Driving Strategy**\n",
      "1. **Integrity**: Highest ethical standards and transparency\n",
      "2. **Innovation**: Staying at the forefront of financial innovation through technology and creativity\n",
      "3. **Collaboration**: Working closely with clients and colleagues\n",
      "4. **Excellence**: Striving for the best possible service\n",
      "5. **Social Responsibility**: Making positive impact on communities\n",
      "\n",
      "### **Market Focus & Accessibility**\n",
      "- **Target Market**: Middle-income individuals and small to medium-sized businesses\n",
      "- **Digital-First Approach**: Making financial services accessible regardless of background, location, or financial status\n",
      "- **Financial Literacy**: Commitment to promoting financial education\n",
      "\n",
      "### **Financial Strength**\n",
      "The strategy is supported by strong financial performance:\n",
      "- 2021 revenues of $2.5 billion (15% growth)\n",
      "- Net income of $500 million (up from $400 million in 2020)\n",
      "- Strong balance sheet with $1 billion in cash and cash equivalents\n",
      "\n",
      "### **Human Capital Strategy**\n",
      "- Team of over 1,000 diverse professionals\n",
      "- Commitment to diversity, equity, and inclusion\n",
      "- Focus on creating positive and inclusive workplace culture\n",
      "- Comprehensive training programs to stay current with industry trends\n",
      "\n",
      "This strategy positions Octank Financial as a comprehensive financial services provider that differentiates itself through client focus, innovation, and strong ethical standards while maintaining financial strength and community responsibility.\n",
      "\n"
     ]
    }
   ],
   "source": [
    "# EXAMPLE 1: Business Strategy Query (should use unstructured_data_assistant)\n",
    "print(\"=== EXAMPLE 1: BUSINESS STRATEGY QUERY ===\")\n",
    "print(\"Query: What is Octank Financial's business strategy?\")\n",
    "print()\n",
    "\n",
    "response = orchestrator(\"What is Octank Financial's business strategy?\")\n",
    "print(response)"
   ]
  },
  {
   "cell_type": "markdown",
   "id": "ee7c72e2",
   "metadata": {
    "vscode": {
     "languageId": "raw"
    }
   },
   "source": [
    "### Example 2: Structured Query\n",
    "\n",
    "This query asks for quantitative data analysis and should be routed to the structured knowledge base:\n"
   ]
  },
  {
   "cell_type": "code",
   "execution_count": 11,
   "id": "174d11ac",
   "metadata": {},
   "outputs": [
    {
     "name": "stdout",
     "output_type": "stream",
     "text": [
      "=== EXAMPLE 2: FINANCIAL DATA QUERY ===\n",
      "Query: What is the total spending by all customers?\n",
      "\n",
      "I'll help you find the total spending by all customers by querying our structured data system for this financial metric.\n",
      "Tool #2: structured_data_assistant\n",
      "Based on the data retrieved from the structured database, **the total spending by all customers is $5,078,473.69**.\n",
      "\n",
      "This figure represents the sum of all order totals across all customers in Octank Financial's system, calculated by aggregating the order_total field from their orders database.Based on the data retrieved from the structured database, **the total spending by all customers is $5,078,473.69**.\n",
      "\n",
      "This figure represents the sum of all order totals across all customers in Octank Financial's system, calculated by aggregating the order_total field from their orders database.\n",
      "\n"
     ]
    }
   ],
   "source": [
    "# EXAMPLE 2: Financial Data Query (should use structured_data_assistant)\n",
    "print(\"=== EXAMPLE 2: FINANCIAL DATA QUERY ===\")\n",
    "print(\"Query: What is the total spending by all customers?\")\n",
    "print()\n",
    "\n",
    "response = orchestrator(\"What is the total spending by all customers?\")\n",
    "print(response)\n"
   ]
  },
  {
   "cell_type": "markdown",
   "id": "7abd3c16",
   "metadata": {
    "vscode": {
     "languageId": "raw"
    }
   },
   "source": [
    "## Agent Thinking Inspection\n",
    "\n",
    "One of the powerful features of Strands Agents is the ability to inspect the agent's internal reasoning process. Let's examine how the agent made its decisions:"
   ]
  },
  {
   "cell_type": "code",
   "execution_count": 12,
   "id": "5a2dc0c9",
   "metadata": {},
   "outputs": [
    {
     "name": "stdout",
     "output_type": "stream",
     "text": [
      "=== DETAILED MESSAGE FLOW ===\n",
      "\n",
      "--- Message 1 ---\n",
      "Role: user\n",
      "  Content 1:\n",
      "    Text: What is Octank Financial's business strategy?\n",
      "\n",
      "--- Message 2 ---\n",
      "Role: assistant\n",
      "  Content 1:\n",
      "    Text: I'll help you find information about Octank Financial's business strategy by searching our unstructured knowledge base.\n",
      "  Content 2:\n",
      "    Tool Use: unstructured_data_assistant\n",
      "    Input: {'query': \"What is Octank Financial's business strategy?\"}\n",
      "    ID: tooluse_0e4VT-MtSFGAOx-VhdZsqA\n",
      "\n",
      "--- Message 3 ---\n",
      "Role: user\n",
      "  Content 1:\n",
      "    Tool Result: success\n",
      "    ID: tooluse_0e4VT-MtSFGAOx-VhdZsqA\n",
      "    Content: [Raw KB Response - 20836 chars]\n",
      "\n",
      "--- Message 4 ---\n",
      "Role: assistant\n",
      "  Content 1:\n",
      "    Text: Based on the information retrieved from Octank Financial's documents, here is their comprehensive business strategy:\n",
      "\n",
      "## Octank Financial's Business Strategy\n",
      "\n",
      "### **Core Mission & Positioning**\n",
      "Octank...\n",
      "\n",
      "--- Message 5 ---\n",
      "Role: user\n",
      "  Content 1:\n",
      "    Text: What is the total spending by all customers?\n",
      "\n",
      "--- Message 6 ---\n",
      "Role: assistant\n",
      "  Content 1:\n",
      "    Text: I'll help you find the total spending by all customers by querying our structured data system for this financial metric.\n",
      "  Content 2:\n",
      "    Tool Use: structured_data_assistant\n",
      "    Input: {'query': 'What is the total spending by all customers?'}\n",
      "    ID: tooluse_fqCicJH7RW62VupDB6xvog\n",
      "\n",
      "--- Message 7 ---\n",
      "Role: user\n",
      "  Content 1:\n",
      "    Tool Result: success\n",
      "    ID: tooluse_fqCicJH7RW62VupDB6xvog\n",
      "    Content: [Raw KB Response - 601 chars]\n",
      "\n",
      "--- Message 8 ---\n",
      "Role: assistant\n",
      "  Content 1:\n",
      "    Text: Based on the data retrieved from the structured database, **the total spending by all customers is $5,078,473.69**.\n",
      "\n",
      "This figure represents the sum of all order totals across all customers in Octank F...\n"
     ]
    }
   ],
   "source": [
    "# Inspect the complete conversation flow\n",
    "def inspect_message_flow(messages):\n",
    "    print(\"=== DETAILED MESSAGE FLOW ===\")\n",
    "    \n",
    "    for i, message in enumerate(messages):\n",
    "        print(f\"\\n--- Message {i+1} ---\")\n",
    "        print(f\"Role: {message['role']}\")\n",
    "        \n",
    "        for j, content in enumerate(message['content']):\n",
    "            print(f\"  Content {j+1}:\")\n",
    "            \n",
    "            if 'text' in content:\n",
    "                text = content['text']\n",
    "                # Truncate long text for readability\n",
    "                if len(text) > 200:\n",
    "                    text = text[:200] + \"...\"\n",
    "                print(f\"    Text: {text}\")\n",
    "            \n",
    "            elif 'toolUse' in content:\n",
    "                tool_use = content['toolUse']\n",
    "                print(f\"    Tool Use: {tool_use['name']}\")\n",
    "                print(f\"    Input: {tool_use['input']}\")\n",
    "                print(f\"    ID: {tool_use['toolUseId']}\")\n",
    "            \n",
    "            elif 'toolResult' in content:\n",
    "                tool_result = content['toolResult']\n",
    "                print(f\"    Tool Result: {tool_result['status']}\")\n",
    "                print(f\"    ID: {tool_result['toolUseId']}\")\n",
    "                # Don't print full content as it's very long\n",
    "                print(f\"    Content: [Raw KB Response - {len(str(tool_result['content']))} chars]\")\n",
    "\n",
    "# Run the inspection\n",
    "inspect_message_flow(orchestrator.messages)\n"
   ]
  },
  {
   "cell_type": "markdown",
   "id": "3e93e2fd",
   "metadata": {},
   "source": [
    "## Clean up the resources\n",
    "\n",
    "When you have finished with this notebook, return to the previous notebook to delete the resources created and not incurr extra costs!"
   ]
  },
  {
   "cell_type": "code",
   "execution_count": null,
   "id": "f920c466",
   "metadata": {},
   "outputs": [],
   "source": []
  }
 ],
 "metadata": {
  "kernelspec": {
   "display_name": "Python 3",
   "language": "python",
   "name": "python3"
  },
  "language_info": {
   "codemirror_mode": {
    "name": "ipython",
    "version": 3
   },
   "file_extension": ".py",
   "mimetype": "text/x-python",
   "name": "python",
   "nbconvert_exporter": "python",
   "pygments_lexer": "ipython3",
   "version": "3.10.12"
  }
 },
 "nbformat": 4,
 "nbformat_minor": 5
}
