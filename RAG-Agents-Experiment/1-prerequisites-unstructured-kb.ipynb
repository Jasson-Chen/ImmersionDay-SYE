{
 "cells": [
  {
   "cell_type": "markdown",
   "metadata": {
    "vscode": {
     "languageId": "raw"
    }
   },
   "source": [
    "# Create Unstructured Amazon Bedrock Knowledge Base for Octank Financial\n"
   ]
  },
  {
   "cell_type": "markdown",
   "metadata": {
    "vscode": {
     "languageId": "raw"
    }
   },
   "source": [
    "This notebook demonstrates how to create and configure an Amazon Bedrock Knowledge Base for unstructured data.\n",
    "\n",
    "The Knowledge Base integrates Amazon S3 as the data source for the Octank Financial 10K document and uses Amazon OpenSearch Serverless as the vector store. It enables RAG by powering queries over unstructured financial and business content.\n",
    "\n",
    "This unstructured knowledge base will be used in conjunction with the structured knowledge base to create agentic RAG using Strands Agents.\n"
   ]
  },
  {
   "cell_type": "markdown",
   "metadata": {
    "vscode": {
     "languageId": "raw"
    }
   },
   "source": [
    "## Setup and prerequisites\n",
    "\n",
    "### Prerequisites\n",
    "* Python 3.10+\n",
    "* AWS account\n",
    "* Amazon Bedrock foundation models enabled\n",
    "* IAM role with permissions to create Amazon Bedrock Knowledge Base, Amazon S3 bucket, Amazon OpenSearch Serverless\n",
    "\n",
    "Let's now install the requirement packages and define the needed clients to create our Amazon Bedrock Knowledge Base:\n"
   ]
  },
  {
   "cell_type": "code",
   "execution_count": 1,
   "metadata": {},
   "outputs": [],
   "source": [
    "import os\n",
    "import json\n",
    "import time\n",
    "import uuid\n",
    "import boto3\n",
    "import logging\n",
    "import requests\n",
    "import botocore\n",
    "from datetime import datetime\n"
   ]
  },
  {
   "cell_type": "code",
   "execution_count": 2,
   "metadata": {},
   "outputs": [
    {
     "name": "stdout",
     "output_type": "stream",
     "text": [
      "AWS region: us-east-1\n"
     ]
    }
   ],
   "source": [
    "s3_client = boto3.client('s3')\n",
    "sts_client = boto3.client('sts')\n",
    "session = boto3.session.Session()\n",
    "region = os.getenv(\"AWS_REGION\")\n",
    "logging.basicConfig(format='[%(asctime)s] p%(process)s {%(filename)s:%(lineno)d} %(levelname)s - %(message)s', level=logging.INFO)\n",
    "logger = logging.getLogger(__name__)\n",
    "bedrock_agent_runtime_client = boto3.client(\"bedrock-agent-runtime\", region_name=region)\n",
    "\n",
    "print(f\"AWS region: {region}\")\n"
   ]
  },
  {
   "cell_type": "code",
   "execution_count": 3,
   "metadata": {},
   "outputs": [
    {
     "name": "stdout",
     "output_type": "stream",
     "text": [
      "Suffix: 1938\n"
     ]
    }
   ],
   "source": [
    "# Generate unique suffix for resource names\n",
    "current_time = time.time()\n",
    "timestamp_str = time.strftime(\"%Y%m%d%H%M%S\", time.localtime(current_time))[-4:]\n",
    "suffix = f\"{timestamp_str}\"\n",
    "\n",
    "print(f\"Suffix: {suffix}\")\n"
   ]
  },
  {
   "cell_type": "markdown",
   "metadata": {
    "vscode": {
     "languageId": "raw"
    }
   },
   "source": [
    "## Step 1: Download Amazon Bedrock Knowledge Bases helper\n",
    "To expedite the knowledge base configuration and creation we will be downloading the knowledge base utility file. This contains a helper to generate knowledge bases abstracting the multiple API calls that need to be used.\n"
   ]
  },
  {
   "cell_type": "code",
   "execution_count": 4,
   "metadata": {},
   "outputs": [],
   "source": [
    "from utils.knowledge_base import BedrockKnowledgeBase"
   ]
  },
  {
   "cell_type": "markdown",
   "metadata": {
    "vscode": {
     "languageId": "raw"
    }
   },
   "source": [
    "## Step 2: Create Amazon Bedrock Knowledge Base for Unstructured Data\n",
    "In this section we will configure the Amazon Bedrock Knowledge Base containing the Octank Financial 10K document. We will be using Amazon OpenSearch Serverless Service as the underlying vector store and Amazon S3 as the data source containing the PDF file.\n"
   ]
  },
  {
   "cell_type": "code",
   "execution_count": 5,
   "metadata": {},
   "outputs": [],
   "source": [
    "knowledge_base_name = f\"octank-financial-unstructured-kb-{suffix}\"\n",
    "knowledge_base_description = \"Octank Financial Unstructured Knowledge Base containing 10K financial document for business strategy and company information queries.\"\n",
    "foundation_model = \"us.anthropic.claude-3-7-sonnet-20250219-v1:0\""
   ]
  },
  {
   "cell_type": "markdown",
   "metadata": {
    "vscode": {
     "languageId": "raw"
    }
   },
   "source": [
    "For this notebook, we'll create a Knowledge Base with an Amazon S3 data source containing the Octank Financial 10K PDF.\n"
   ]
  },
  {
   "cell_type": "code",
   "execution_count": 6,
   "metadata": {},
   "outputs": [],
   "source": [
    "data_bucket_name = f'octank-financial-unstructured-{suffix}-bucket'\n",
    "data_sources = [{\"type\": \"S3\", \"bucket_name\": data_bucket_name}]\n"
   ]
  },
  {
   "cell_type": "markdown",
   "metadata": {
    "vscode": {
     "languageId": "raw"
    }
   },
   "source": [
    "### Create the Amazon S3 bucket and upload the Octank Financial 10K document\n",
    "We'll create an S3 bucket and upload the Octank Financial 10K PDF document that will serve as our unstructured data source.\n"
   ]
  },
  {
   "cell_type": "code",
   "execution_count": 7,
   "metadata": {},
   "outputs": [
    {
     "name": "stdout",
     "output_type": "stream",
     "text": [
      "Bucket 'octank-financial-unstructured-1938-bucket' created successfully.\n"
     ]
    }
   ],
   "source": [
    "def create_s3_bucket(bucket_name, region=None):\n",
    "    s3 = boto3.client('s3', region_name=region)\n",
    "\n",
    "    try:\n",
    "        if region is None or region == 'us-east-1':\n",
    "            s3.create_bucket(Bucket=bucket_name)\n",
    "        else:\n",
    "            s3.create_bucket(\n",
    "                Bucket=bucket_name,\n",
    "                CreateBucketConfiguration={'LocationConstraint': region}\n",
    "            )\n",
    "        print(f\"Bucket '{bucket_name}' created successfully.\")\n",
    "    except botocore.exceptions.ClientError as e:\n",
    "        if e.response['Error']['Code'] == 'BucketAlreadyOwnedByYou':\n",
    "            print(f\"Bucket '{bucket_name}' already exists and is owned by you.\")\n",
    "        else:\n",
    "            print(f\"Failed to create bucket: {e.response['Error']['Message']}\")\n",
    "\n",
    "create_s3_bucket(data_bucket_name, region)\n"
   ]
  },
  {
   "cell_type": "markdown",
   "metadata": {
    "vscode": {
     "languageId": "raw"
    }
   },
   "source": [
    "### Create the Unstructured Knowledge Base\n",
    "We are now going to create the Knowledge Base using the abstraction located in the helper function we previously downloaded.\n"
   ]
  },
  {
   "cell_type": "code",
   "execution_count": 10,
   "metadata": {},
   "outputs": [
    {
     "name": "stderr",
     "output_type": "stream",
     "text": [
      "[2025-09-05 05:19:50,268] p262804 {credentials.py:1138} INFO - Found credentials from IAM Role: CodeEditorV2-CodeEditorInstanceBootstrapRole-etk4tqcPN52E\n",
      "[2025-09-05 05:19:50,622] p262804 {credentials.py:1138} INFO - Found credentials from IAM Role: CodeEditorV2-CodeEditorInstanceBootstrapRole-etk4tqcPN52E\n"
     ]
    },
    {
     "name": "stdout",
     "output_type": "stream",
     "text": [
      "========================================================================================\n",
      "Step 1 - Creating or retrieving S3 bucket(s) for Knowledge Base documents\n",
      "['octank-financial-unstructured-1938-bucket']\n",
      "buckets_to_check:  ['octank-financial-unstructured-1938-bucket']\n",
      "Bucket octank-financial-unstructured-1938-bucket already exists - retrieving it!\n",
      "========================================================================================\n",
      "Step 2 - Creating Knowledge Base Execution Role (AmazonBedrockExecutionRoleForKnowledgeBase_1938-u) and Policies\n",
      "========================================================================================\n",
      "Step 3a - Creating OSS encryption, network and data access policies\n",
      "========================================================================================\n",
      "Step 3b - Creating OSS Collection (this step takes a couple of minutes to complete)\n",
      "{ 'ResponseMetadata': { 'HTTPHeaders': { 'connection': 'keep-alive',\n",
      "                                         'content-length': '317',\n",
      "                                         'content-type': 'application/x-amz-json-1.0',\n",
      "                                         'date': 'Fri, 05 Sep 2025 05:19:51 '\n",
      "                                                 'GMT',\n",
      "                                         'x-amzn-requestid': '15420816-f755-4498-93b6-26ea381c8b7d'},\n",
      "                        'HTTPStatusCode': 200,\n",
      "                        'RequestId': '15420816-f755-4498-93b6-26ea381c8b7d',\n",
      "                        'RetryAttempts': 0},\n",
      "  'createCollectionDetail': { 'arn': 'arn:aws:aoss:us-east-1:983760593521:collection/u6v807ii1kq2m0rgowt9',\n",
      "                              'createdDate': 1757049591756,\n",
      "                              'id': 'u6v807ii1kq2m0rgowt9',\n",
      "                              'kmsKeyArn': 'auto',\n",
      "                              'lastModifiedDate': 1757049591756,\n",
      "                              'name': 'bedrock-sample-rag-1938-u',\n",
      "                              'standbyReplicas': 'ENABLED',\n",
      "                              'status': 'CREATING',\n",
      "                              'type': 'VECTORSEARCH'}}\n",
      "u6v807ii1kq2m0rgowt9.us-east-1.aoss.amazonaws.com\n",
      "Creating collection...\n",
      "..............................\n",
      "Collection successfully created:\n",
      "[ { 'arn': 'arn:aws:aoss:us-east-1:983760593521:collection/u6v807ii1kq2m0rgowt9',\n",
      "    'collectionEndpoint': 'https://u6v807ii1kq2m0rgowt9.us-east-1.aoss.amazonaws.com',\n",
      "    'createdDate': 1757049591756,\n",
      "    'dashboardEndpoint': 'https://u6v807ii1kq2m0rgowt9.us-east-1.aoss.amazonaws.com/_dashboards',\n",
      "    'id': 'u6v807ii1kq2m0rgowt9',\n",
      "    'kmsKeyArn': 'auto',\n",
      "    'lastModifiedDate': 1757049618113,\n",
      "    'name': 'bedrock-sample-rag-1938-u',\n",
      "    'standbyReplicas': 'ENABLED',\n",
      "    'status': 'ACTIVE',\n",
      "    'type': 'VECTORSEARCH'}]\n",
      "Opensearch serverless arn:  arn:aws:iam::983760593521:policy/AmazonBedrockOSSPolicyForKnowledgeBase_1938-u\n",
      "Sleeping for a minute to ensure data access rules have been enforced\n",
      "========================================================================================\n",
      "Step 3c - Creating OSS Vector Index\n"
     ]
    },
    {
     "name": "stderr",
     "output_type": "stream",
     "text": [
      "[2025-09-05 05:21:22,896] p262804 {base.py:258} INFO - PUT https://u6v807ii1kq2m0rgowt9.us-east-1.aoss.amazonaws.com:443/bedrock-sample-rag-index-1938-u [status:200 request:0.683s]\n"
     ]
    },
    {
     "name": "stdout",
     "output_type": "stream",
     "text": [
      "\n",
      "Creating index:\n",
      "{ 'acknowledged': True,\n",
      "  'index': 'bedrock-sample-rag-index-1938-u',\n",
      "  'shards_acknowledged': True}\n",
      "========================================================================================\n",
      "Step 4 - Will create Lambda Function if chunking strategy selected as CUSTOM\n",
      "Not creating lambda function as chunking strategy is FIXED_SIZE\n",
      "========================================================================================\n",
      "Step 5 - Creating Knowledge Base\n",
      "{ 'createdAt': datetime.datetime(2025, 9, 5, 5, 22, 23, 124653, tzinfo=tzlocal()),\n",
      "  'description': 'Octank Financial Unstructured Knowledge Base containing 10K '\n",
      "                 'financial document for business strategy and company '\n",
      "                 'information queries.',\n",
      "  'knowledgeBaseArn': 'arn:aws:bedrock:us-east-1:983760593521:knowledge-base/P26LUAGL1B',\n",
      "  'knowledgeBaseConfiguration': { 'type': 'VECTOR',\n",
      "                                  'vectorKnowledgeBaseConfiguration': { 'embeddingModelArn': 'arn:aws:bedrock:us-east-1::foundation-model/amazon.titan-embed-text-v2:0'}},\n",
      "  'knowledgeBaseId': 'P26LUAGL1B',\n",
      "  'name': 'octank-financial-unstructured-kb-1938',\n",
      "  'roleArn': 'arn:aws:iam::983760593521:role/AmazonBedrockExecutionRoleForKnowledgeBase_1938-u',\n",
      "  'status': 'CREATING',\n",
      "  'storageConfiguration': { 'opensearchServerlessConfiguration': { 'collectionArn': 'arn:aws:aoss:us-east-1:983760593521:collection/u6v807ii1kq2m0rgowt9',\n",
      "                                                                   'fieldMapping': { 'metadataField': 'text-metadata',\n",
      "                                                                                     'textField': 'text',\n",
      "                                                                                     'vectorField': 'vector'},\n",
      "                                                                   'vectorIndexName': 'bedrock-sample-rag-index-1938-u'},\n",
      "                            'type': 'OPENSEARCH_SERVERLESS'},\n",
      "  'updatedAt': datetime.datetime(2025, 9, 5, 5, 22, 23, 124653, tzinfo=tzlocal())}\n",
      "Creating Data Sources\n",
      "{ 'createdAt': datetime.datetime(2025, 9, 5, 5, 22, 23, 124653, tzinfo=tzlocal()),\n",
      "  'description': 'Octank Financial Unstructured Knowledge Base containing 10K '\n",
      "                 'financial document for business strategy and company '\n",
      "                 'information queries.',\n",
      "  'knowledgeBaseArn': 'arn:aws:bedrock:us-east-1:983760593521:knowledge-base/P26LUAGL1B',\n",
      "  'knowledgeBaseConfiguration': { 'type': 'VECTOR',\n",
      "                                  'vectorKnowledgeBaseConfiguration': { 'embeddingModelArn': 'arn:aws:bedrock:us-east-1::foundation-model/amazon.titan-embed-text-v2:0'}},\n",
      "  'knowledgeBaseId': 'P26LUAGL1B',\n",
      "  'name': 'octank-financial-unstructured-kb-1938',\n",
      "  'roleArn': 'arn:aws:iam::983760593521:role/AmazonBedrockExecutionRoleForKnowledgeBase_1938-u',\n",
      "  'status': 'ACTIVE',\n",
      "  'storageConfiguration': { 'opensearchServerlessConfiguration': { 'collectionArn': 'arn:aws:aoss:us-east-1:983760593521:collection/u6v807ii1kq2m0rgowt9',\n",
      "                                                                   'fieldMapping': { 'metadataField': 'text-metadata',\n",
      "                                                                                     'textField': 'text',\n",
      "                                                                                     'vectorField': 'vector'},\n",
      "                                                                   'vectorIndexName': 'bedrock-sample-rag-index-1938-u'},\n",
      "                            'type': 'OPENSEARCH_SERVERLESS'},\n",
      "  'updatedAt': datetime.datetime(2025, 9, 5, 5, 22, 23, 124653, tzinfo=tzlocal())}\n",
      "Creating Data Sources\n",
      "1 data source: S3\n",
      "============Chunking config========\n",
      " {'chunkingConfiguration': {'chunkingStrategy': 'FIXED_SIZE', 'fixedSizeChunkingConfiguration': {'maxTokens': 300, 'overlapPercentage': 20}}}\n",
      "{ 'createdAt': datetime.datetime(2025, 9, 5, 5, 22, 25, 542029, tzinfo=tzlocal()),\n",
      "  'dataDeletionPolicy': 'DELETE',\n",
      "  'dataSourceConfiguration': { 's3Configuration': { 'bucketArn': 'arn:aws:s3:::octank-financial-unstructured-1938-bucket'},\n",
      "                               'type': 'S3'},\n",
      "  'dataSourceId': 'ZAEDV1GF68',\n",
      "  'description': 'Octank Financial Unstructured Knowledge Base containing 10K '\n",
      "                 'financial document for business strategy and company '\n",
      "                 'information queries.',\n",
      "  'knowledgeBaseId': 'P26LUAGL1B',\n",
      "  'name': 'P26LUAGL1B-s3',\n",
      "  'status': 'AVAILABLE',\n",
      "  'updatedAt': datetime.datetime(2025, 9, 5, 5, 22, 25, 542029, tzinfo=tzlocal()),\n",
      "  'vectorIngestionConfiguration': { 'chunkingConfiguration': { 'chunkingStrategy': 'FIXED_SIZE',\n",
      "                                                               'fixedSizeChunkingConfiguration': { 'maxTokens': 300,\n",
      "                                                                                                   'overlapPercentage': 20}}}}\n",
      "[ { 'createdAt': datetime.datetime(2025, 9, 5, 5, 22, 25, 542029, tzinfo=tzlocal()),\n",
      "    'dataDeletionPolicy': 'DELETE',\n",
      "    'dataSourceConfiguration': { 's3Configuration': { 'bucketArn': 'arn:aws:s3:::octank-financial-unstructured-1938-bucket'},\n",
      "                                 'type': 'S3'},\n",
      "    'dataSourceId': 'ZAEDV1GF68',\n",
      "    'description': 'Octank Financial Unstructured Knowledge Base containing '\n",
      "                   '10K financial document for business strategy and company '\n",
      "                   'information queries.',\n",
      "    'knowledgeBaseId': 'P26LUAGL1B',\n",
      "    'name': 'P26LUAGL1B-s3',\n",
      "    'status': 'AVAILABLE',\n",
      "    'updatedAt': datetime.datetime(2025, 9, 5, 5, 22, 25, 542029, tzinfo=tzlocal()),\n",
      "    'vectorIngestionConfiguration': { 'chunkingConfiguration': { 'chunkingStrategy': 'FIXED_SIZE',\n",
      "                                                                 'fixedSizeChunkingConfiguration': { 'maxTokens': 300,\n",
      "                                                                                                     'overlapPercentage': 20}}}}]\n",
      "========================================================================================\n"
     ]
    }
   ],
   "source": [
    "unstructured_knowledge_base = BedrockKnowledgeBase(\n",
    "    kb_name=f'{knowledge_base_name}',\n",
    "    kb_description=knowledge_base_description,\n",
    "    data_sources=data_sources,\n",
    "    chunking_strategy=\"FIXED_SIZE\", \n",
    "    suffix=f'{suffix}-u' \n",
    ")\n"
   ]
  },
  {
   "cell_type": "markdown",
   "metadata": {
    "vscode": {
     "languageId": "raw"
    }
   },
   "source": [
    "### Start upload and ingestion job\n",
    "Once the KB and data source are created, we can start the ingestion job for the data source. During the ingestion job, KB will fetch the documents in the data source, pre-process it to extract text, chunk it based on the chunking size provided, create embeddings of each chunk and then write it to the vector database (OpenSearch Serverless).\n"
   ]
  },
  {
   "cell_type": "code",
   "execution_count": null,
   "metadata": {},
   "outputs": [],
   "source": [
    "# Upload to S3 bucket\n",
    "\n",
    "def upload_directory(path, bucket_name):\n",
    "    for root, dirs, files in os.walk(path):\n",
    "        for file in files:\n",
    "            file_to_upload = os.path.join(root, file)\n",
    "            print(f\"Uploading file {file_to_upload} to {bucket_name}\")\n",
    "            s3_client.upload_file(file_to_upload, bucket_name, file)\n",
    "\n",
    "# Upload the Octank Financial 10K document\n",
    "upload_directory(\"./sample_unstructured_data\", data_bucket_name)"
   ]
  },
  {
   "cell_type": "code",
   "execution_count": 11,
   "metadata": {},
   "outputs": [
    {
     "name": "stdout",
     "output_type": "stream",
     "text": [
      "job 1 started successfully\n",
      "\n",
      "{ 'dataSourceId': 'ZAEDV1GF68',\n",
      "  'ingestionJobId': 'JQDRRZDR52',\n",
      "  'knowledgeBaseId': 'P26LUAGL1B',\n",
      "  'startedAt': datetime.datetime(2025, 9, 5, 5, 23, 17, 620374, tzinfo=tzlocal()),\n",
      "  'statistics': { 'numberOfDocumentsDeleted': 0,\n",
      "                  'numberOfDocumentsFailed': 0,\n",
      "                  'numberOfDocumentsScanned': 1,\n",
      "                  'numberOfMetadataDocumentsModified': 0,\n",
      "                  'numberOfMetadataDocumentsScanned': 0,\n",
      "                  'numberOfModifiedDocumentsIndexed': 0,\n",
      "                  'numberOfNewDocumentsIndexed': 1},\n",
      "  'status': 'COMPLETE',\n",
      "  'updatedAt': datetime.datetime(2025, 9, 5, 5, 24, 3, 356622, tzinfo=tzlocal())}\n",
      "'P26LUAGL1B'............................\n",
      "Unstructured Knowledge Base ID: P26LUAGL1B\n"
     ]
    }
   ],
   "source": [
    "# Ensure that the kb is available\n",
    "time.sleep(30)\n",
    "# Sync knowledge base\n",
    "unstructured_knowledge_base.start_ingestion_job()\n",
    "# Keep the kb_id for invocation later in the invoke request\n",
    "unstructured_kb_id = unstructured_knowledge_base.get_knowledge_base_id()\n",
    "print(f\"Unstructured Knowledge Base ID: {unstructured_kb_id}\")\n"
   ]
  },
  {
   "cell_type": "markdown",
   "metadata": {
    "vscode": {
     "languageId": "raw"
    }
   },
   "source": [
    "### Test the Unstructured Knowledge Base\n",
    "We can now test the Knowledge Base to verify the Octank Financial 10K document has been ingested properly.\n"
   ]
  },
  {
   "cell_type": "code",
   "execution_count": 12,
   "metadata": {},
   "outputs": [],
   "source": [
    "query = \"What is Octank Financial's primary business strategy?\""
   ]
  },
  {
   "cell_type": "code",
   "execution_count": 13,
   "metadata": {},
   "outputs": [
    {
     "name": "stdout",
     "output_type": "stream",
     "text": [
      "Response:\n",
      "Octank Financial's primary business strategy is to provide a wide range of financial services to individuals, businesses, and institutions. Their core services include investment banking, wealth management, asset management, corporate finance, and private equity. They aim to help clients achieve their financial goals through customized solutions and a client-centric approach.\\n\\n"
     ]
    }
   ],
   "source": [
    "foundation_model = \"anthropic.claude-3-sonnet-20240229-v1:0\"\n",
    "\n",
    "response = bedrock_agent_runtime_client.retrieve_and_generate(\n",
    "    input={\n",
    "        \"text\": query\n",
    "    },\n",
    "    retrieveAndGenerateConfiguration={\n",
    "        \"type\": \"KNOWLEDGE_BASE\",\n",
    "        \"knowledgeBaseConfiguration\": {\n",
    "            'knowledgeBaseId': unstructured_kb_id,\n",
    "            \"modelArn\": \"arn:aws:bedrock:{}::foundation-model/{}\".format(region, foundation_model),\n",
    "            \"retrievalConfiguration\": {\n",
    "                \"vectorSearchConfiguration\": {\n",
    "                    \"numberOfResults\": 5\n",
    "                } \n",
    "            }\n",
    "        }\n",
    "    }\n",
    ")\n",
    "\n",
    "print(\"Response:\")\n",
    "print(response['output']['text'], end='\\\\n'*2)\n"
   ]
  },
  {
   "cell_type": "markdown",
   "metadata": {
    "vscode": {
     "languageId": "raw"
    }
   },
   "source": [
    "### Store the Knowledge Base ID\n",
    "Store the ID of the generated Unstructured Knowledge Base to use it in the main dual-knowledge-base RAG notebook.\n"
   ]
  },
  {
   "cell_type": "code",
   "execution_count": 16,
   "metadata": {},
   "outputs": [
    {
     "name": "stdout",
     "output_type": "stream",
     "text": [
      "Stored 'unstructured_kb_id' (str)\n",
      "Stored 'kb_region' (str)\n",
      "Stored 'data_bucket_name' (str)\n",
      "============================================================\n",
      "Unstructured Knowledge Base ID: P26LUAGL1B\n",
      "Region: us-east-1\n",
      "S3 Bucket: octank-financial-unstructured-1938-bucket\n",
      "============================================================\n",
      "Configuration stored successfully!\n"
     ]
    }
   ],
   "source": [
    "kb_region = region\n",
    "%store unstructured_kb_id\n",
    "%store kb_region\n",
    "%store data_bucket_name\n",
    "\n",
    "unstructured_var = {\n",
    "    \"kb_region\": kb_region,\n",
    "    \"unstructured_kb_id\": unstructured_kb_id,\n",
    "    \"data_bucket_name\": data_bucket_name\n",
    "\n",
    "}\n",
    "\n",
    "# Save to current directory\n",
    "with open(\"unstructured_var.json\", \"w\") as f:\n",
    "    json.dump(unstructured_var, f, indent=4)\n",
    "\n",
    "print(\"=\"*60)\n",
    "print(f\"Unstructured Knowledge Base ID: {unstructured_kb_id}\")\n",
    "print(f\"Region: {kb_region}\")\n",
    "print(f\"S3 Bucket: {data_bucket_name}\")\n",
    "\n",
    "print(\"=\"*60)\n",
    "print(\"Configuration stored successfully!\")\n",
    "\n"
   ]
  },
  {
   "cell_type": "markdown",
   "metadata": {
    "vscode": {
     "languageId": "raw"
    }
   },
   "source": [
    "## Clean up the resources\n",
    "**If you plan to use the other notebooks and continue with them, do not delete the Knowledge Base yet as it will be needed.**\n",
    "\n",
    "When you are finished with the other notebooks, to avoid additional costs, delete the resources created.\n"
   ]
  },
  {
   "cell_type": "code",
   "execution_count": null,
   "metadata": {},
   "outputs": [],
   "source": [
    "# Uncomment to delete resources when finished\n",
    "\n",
    "# print(\"===============================Deleting Unstructured Knowledge Base and associated resources==============================\\\\n\")\n",
    "# unstructured_knowledge_base.delete_kb(delete_s3_bucket=True, delete_iam_roles_and_policies=True)\n",
    "# print(\"Cleanup completed successfully!\")\n",
    "\n"
   ]
  },
  {
   "cell_type": "markdown",
   "metadata": {
    "vscode": {
     "languageId": "raw"
    }
   },
   "source": [
    "###  Summary\n",
    "If all the above cells executed successfully, you have:\n",
    "\n",
    "- Created an S3 bucket for unstructured data  \n",
    "- Uploaded the Octank Financial 10K PDF  \n",
    "- Created an Amazon Bedrock Knowledge Base  \n",
    "- Configured OpenSearch Serverless as the vector store  \n",
    "- Successfully ingested the document  \n",
    "- Tested a query with knowledge base's `RetrieveAndGenerate` API\n",
    "- Stored the Knowledge Base ID for use in the main notebook  \n",
    "\n",
    "You are now ready to proceed to the main `2-unstructured-structured-rag-agent.ipynb` notebook!\n"
   ]
  },
  {
   "cell_type": "code",
   "execution_count": null,
   "metadata": {},
   "outputs": [],
   "source": []
  }
 ],
 "metadata": {
  "kernelspec": {
   "display_name": "Python 3",
   "language": "python",
   "name": "python3"
  },
  "language_info": {
   "codemirror_mode": {
    "name": "ipython",
    "version": 3
   },
   "file_extension": ".py",
   "mimetype": "text/x-python",
   "name": "python",
   "nbconvert_exporter": "python",
   "pygments_lexer": "ipython3",
   "version": "3.10.12"
  }
 },
 "nbformat": 4,
 "nbformat_minor": 2
}
